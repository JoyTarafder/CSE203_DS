{
  "nbformat": 4,
  "nbformat_minor": 0,
  "metadata": {
    "colab": {
      "name": "CSE203_S10.ipynb",
      "provenance": [],
      "collapsed_sections": [
        "1jNRZUcH7-98",
        "5nIsPGUn9w1-",
        "csgo2TMPM4Uu",
        "0OtssoCCgF7I",
        "mPvKbxfJg20w"
      ],
      "toc_visible": true
    },
    "kernelspec": {
      "name": "python3",
      "display_name": "Python 3"
    },
    "language_info": {
      "name": "python"
    }
  },
  "cells": [
    {
      "cell_type": "markdown",
      "source": [
        "# Basic programming"
      ],
      "metadata": {
        "id": "IA3F7H7W6czW"
      }
    },
    {
      "cell_type": "code",
      "execution_count": null,
      "metadata": {
        "colab": {
          "base_uri": "https://localhost:8080/"
        },
        "outputId": "f915bec5-f5f5-4507-daa0-1f2e1476b320",
        "id": "cnpLjMeb6czY"
      },
      "outputs": [
        {
          "output_type": "stream",
          "name": "stdout",
          "text": [
            "Python 3.7.13\n"
          ]
        }
      ],
      "source": [
        "!python --version"
      ]
    },
    {
      "cell_type": "code",
      "source": [
        "print(\"Hello World\")"
      ],
      "metadata": {
        "colab": {
          "base_uri": "https://localhost:8080/"
        },
        "outputId": "b515161c-23f7-4bf6-8896-eb6d9d9e36c2",
        "id": "eGhc2lUT6czZ"
      },
      "execution_count": null,
      "outputs": [
        {
          "output_type": "stream",
          "name": "stdout",
          "text": [
            "Hello World\n"
          ]
        }
      ]
    },
    {
      "cell_type": "code",
      "source": [
        "print('this is rafid\"s car')"
      ],
      "metadata": {
        "colab": {
          "base_uri": "https://localhost:8080/"
        },
        "outputId": "b66d1079-e6f0-4f9f-8e60-42a6e6618e43",
        "id": "-SpEBsN56czZ"
      },
      "execution_count": null,
      "outputs": [
        {
          "output_type": "stream",
          "name": "stdout",
          "text": [
            "this is rafid\"s car\n"
          ]
        }
      ]
    },
    {
      "cell_type": "code",
      "source": [
        "print(\"this is rafid's car\")\n",
        "print(\"this is rafid's car\")\n",
        "print(\"this is rafid's car\")\n",
        "print(\"this is rafid's car\")\n",
        "print(\"this is rafid's car\")"
      ],
      "metadata": {
        "colab": {
          "base_uri": "https://localhost:8080/"
        },
        "outputId": "a506f8cd-6fe1-471e-980b-fab1a1005c59",
        "id": "dfzlKwk86cza"
      },
      "execution_count": null,
      "outputs": [
        {
          "output_type": "stream",
          "name": "stdout",
          "text": [
            "this is rafid's car\n",
            "this is rafid's car\n",
            "this is rafid's car\n",
            "this is rafid's car\n",
            "this is rafid's car\n"
          ]
        }
      ]
    },
    {
      "cell_type": "code",
      "source": [
        "print(\"this is rafid's car\",end=\",\") # \\n -> endl,break\n",
        "print(\"this is rafid's car\",end=\",\")\n",
        "print(\"this is rafid's car\",end=\",\")\n",
        "print(\"this is rafid's car\",end=\",\")\n",
        "print(\"this is rafid's car\",end=\" \")"
      ],
      "metadata": {
        "colab": {
          "base_uri": "https://localhost:8080/"
        },
        "outputId": "2a3784fe-6429-4720-f7a7-45ca97d93b49",
        "id": "C__n58dV6cza"
      },
      "execution_count": null,
      "outputs": [
        {
          "output_type": "stream",
          "name": "stdout",
          "text": [
            "this is rafid's car,this is rafid's car,this is rafid's car,this is rafid's car,this is rafid's car "
          ]
        }
      ]
    },
    {
      "cell_type": "code",
      "source": [
        "a = \"Rafid\"\n",
        "print(a)\n",
        "print(type(a))"
      ],
      "metadata": {
        "colab": {
          "base_uri": "https://localhost:8080/"
        },
        "outputId": "7b693422-3076-4f6c-9fbb-9d8c6e965713",
        "id": "R16nf16v6cza"
      },
      "execution_count": null,
      "outputs": [
        {
          "output_type": "stream",
          "name": "stdout",
          "text": [
            "Rafid\n",
            "<class 'str'>\n"
          ]
        }
      ]
    },
    {
      "cell_type": "code",
      "source": [
        "a = 5\n",
        "a = 7\n",
        "a = 10.5\n",
        "a = 15\n",
        "\n",
        "print(a)"
      ],
      "metadata": {
        "colab": {
          "base_uri": "https://localhost:8080/"
        },
        "outputId": "c8c929bb-3750-46f0-a7d8-5f02129aedd4",
        "id": "cztuvc4c6cza"
      },
      "execution_count": null,
      "outputs": [
        {
          "output_type": "stream",
          "name": "stdout",
          "text": [
            "15\n"
          ]
        }
      ]
    },
    {
      "cell_type": "code",
      "source": [
        "a = 5 \n",
        "b = 7\n",
        "\n",
        "c = a+b\n",
        "\n",
        "print(c)"
      ],
      "metadata": {
        "colab": {
          "base_uri": "https://localhost:8080/"
        },
        "outputId": "10718eb8-2977-459a-8194-f4736ff3674b",
        "id": "0zjNmDKY6czb"
      },
      "execution_count": null,
      "outputs": [
        {
          "output_type": "stream",
          "name": "stdout",
          "text": [
            "12\n"
          ]
        }
      ]
    },
    {
      "cell_type": "code",
      "source": [
        "a = input()\n",
        "b = input()\n",
        "\n",
        "print(type(a))\n",
        "print(type(b))\n",
        "\n",
        "a = int(a)\n",
        "b = int(b)\n",
        "\n",
        "print(type(a))\n",
        "print(type(b))\n",
        "c = a+b\n",
        "\n",
        "print(c)"
      ],
      "metadata": {
        "colab": {
          "base_uri": "https://localhost:8080/"
        },
        "outputId": "ef137d0a-2334-431f-907a-235bb7924c31",
        "id": "rar2S0Xs6czb"
      },
      "execution_count": null,
      "outputs": [
        {
          "output_type": "stream",
          "name": "stdout",
          "text": [
            "10\n",
            "20\n",
            "<class 'str'>\n",
            "<class 'str'>\n",
            "<class 'int'>\n",
            "<class 'int'>\n",
            "30\n"
          ]
        }
      ]
    },
    {
      "cell_type": "code",
      "source": [
        "a = int(input(\"Enter a number : \"))\n",
        "b = int(input(\"Enter a number : \"))\n",
        "\n",
        "\n",
        "c = a+b\n",
        "\n",
        "print(c)"
      ],
      "metadata": {
        "colab": {
          "base_uri": "https://localhost:8080/"
        },
        "outputId": "12140955-552e-4b46-e5cf-f71f9a569798",
        "id": "D0dQpDP66czb"
      },
      "execution_count": null,
      "outputs": [
        {
          "output_type": "stream",
          "name": "stdout",
          "text": [
            "Enter a number : 10\n",
            "Enter a number : 20\n",
            "30\n"
          ]
        }
      ]
    },
    {
      "cell_type": "code",
      "source": [
        "a = int(input(\"Enter a number : \"))\n",
        "b = int(input(\"Enter a number : \"))\n",
        "\n",
        "\n",
        "c = a+b\n",
        "\n",
        "print(\"The sum of two number is : \",c)"
      ],
      "metadata": {
        "colab": {
          "base_uri": "https://localhost:8080/"
        },
        "outputId": "dbe21c3c-73b3-4f5c-9556-efea86c9fd1d",
        "id": "tiui7eQC6czc"
      },
      "execution_count": null,
      "outputs": [
        {
          "output_type": "stream",
          "name": "stdout",
          "text": [
            "Enter a number : 10\n",
            "Enter a number : 20\n",
            "The sum of two number is :  30\n"
          ]
        }
      ]
    },
    {
      "cell_type": "code",
      "source": [
        "a = int(input(\"Enter a number : \"))\n",
        "b = int(input(\"Enter a number : \"))\n",
        "\n",
        "if a>b:\n",
        "  print(\"a is largest\")\n",
        "\n",
        "else :\n",
        "  print(\"b is largest\")"
      ],
      "metadata": {
        "colab": {
          "base_uri": "https://localhost:8080/"
        },
        "outputId": "6232113a-fa7b-4125-c654-2715a06c4d27",
        "id": "BzR6eiiO6czd"
      },
      "execution_count": null,
      "outputs": [
        {
          "output_type": "stream",
          "name": "stdout",
          "text": [
            "Enter a number : 10\n",
            "Enter a number : 20\n",
            "b is largest\n"
          ]
        }
      ]
    },
    {
      "cell_type": "code",
      "source": [
        "a = int(input(\"Enter a number : \"))\n",
        "b = int(input(\"Enter a number : \"))\n",
        "c = int(input(\"Enter a number : \"))\n",
        "\n",
        "if a>b and a>c:\n",
        "  print(\"a is largest\")\n",
        "\n",
        "elif b>a and b>c:\n",
        "  print(\"b is largest\")\n",
        "\n",
        "else:\n",
        "  print(\"c is largest\")\n"
      ],
      "metadata": {
        "colab": {
          "base_uri": "https://localhost:8080/"
        },
        "outputId": "4c9bd998-c8fe-446f-b440-78ec3f3a8d47",
        "id": "ecA0K_Wi6czd"
      },
      "execution_count": null,
      "outputs": [
        {
          "output_type": "stream",
          "name": "stdout",
          "text": [
            "Enter a number : 20\n",
            "Enter a number : 50\n",
            "Enter a number : 10\n",
            "b is largest\n"
          ]
        }
      ]
    },
    {
      "cell_type": "code",
      "source": [
        "def print_hello():\n",
        "  print(\"hello\")\n",
        "\n",
        "print_hello()  "
      ],
      "metadata": {
        "colab": {
          "base_uri": "https://localhost:8080/"
        },
        "id": "YFerb8RMFxwh",
        "outputId": "87efcaf9-f917-4284-b960-057b450754b6"
      },
      "execution_count": null,
      "outputs": [
        {
          "output_type": "stream",
          "name": "stdout",
          "text": [
            "hello\n"
          ]
        }
      ]
    },
    {
      "cell_type": "code",
      "source": [
        "def full_name(f_name, l_name):\n",
        "  print(f_name+\" \"+l_name)\n",
        "\n",
        "\n"
      ],
      "metadata": {
        "id": "Vu2OH5bwrzSt"
      },
      "execution_count": null,
      "outputs": []
    },
    {
      "cell_type": "code",
      "source": [
        "full_name(\"Aquib\",\"Azmain\")"
      ],
      "metadata": {
        "colab": {
          "base_uri": "https://localhost:8080/"
        },
        "id": "a2DEe0lK7dKb",
        "outputId": "ce6ab396-2dcd-4fdd-9ab7-0dd58cb1c57b"
      },
      "execution_count": null,
      "outputs": [
        {
          "output_type": "stream",
          "name": "stdout",
          "text": [
            "Aquib Azmain\n"
          ]
        }
      ]
    },
    {
      "cell_type": "code",
      "source": [
        "def sum_numbers(a, b, c):\n",
        "  result=a+b+c\n",
        "  return result\n",
        "\n",
        "def sqr(x, y, z):\n",
        "  p = sum_numbers(x, y, z)\n",
        "  sqr_result = p**2\n",
        "  return sqr_result\n",
        "n1 = int(input())\n",
        "n2 = int(input())\n",
        "n3 = int(input())\n",
        "x = sqr(n1, n2, n3) \n",
        "print(x) "
      ],
      "metadata": {
        "colab": {
          "base_uri": "https://localhost:8080/"
        },
        "id": "FbFN2pHy8Y76",
        "outputId": "8ca415d9-7352-468a-e618-2d3982c57d49"
      },
      "execution_count": null,
      "outputs": [
        {
          "output_type": "stream",
          "name": "stdout",
          "text": [
            "60\n"
          ]
        }
      ]
    },
    {
      "cell_type": "code",
      "source": [
        "n=0\n",
        "while n<10:\n",
        "  print(n)\n",
        "  n = n+1"
      ],
      "metadata": {
        "id": "CkXNFc7hBbtK"
      },
      "execution_count": null,
      "outputs": []
    },
    {
      "cell_type": "code",
      "source": [
        "for i in range(0, 9, 2):\n",
        "  print(i)"
      ],
      "metadata": {
        "colab": {
          "base_uri": "https://localhost:8080/"
        },
        "id": "kqeCEoxqOrVn",
        "outputId": "5d8bfc95-2a76-43ae-9e78-9bbd1e35597e"
      },
      "execution_count": null,
      "outputs": [
        {
          "output_type": "stream",
          "name": "stdout",
          "text": [
            "0\n",
            "2\n",
            "4\n",
            "6\n",
            "8\n"
          ]
        }
      ]
    },
    {
      "cell_type": "markdown",
      "source": [
        "**String operation**"
      ],
      "metadata": {
        "id": "bZTjnrh8Pu-I"
      }
    },
    {
      "cell_type": "code",
      "source": [
        "x = \"Hi!\"\n",
        "y = \"My name is Zayan\""
      ],
      "metadata": {
        "id": "aNeDm3SyPGVI"
      },
      "execution_count": null,
      "outputs": []
    },
    {
      "cell_type": "code",
      "source": [
        "#print(len(y))\n",
        "y.find(\"x\")"
      ],
      "metadata": {
        "colab": {
          "base_uri": "https://localhost:8080/"
        },
        "id": "xnardX8XQBCi",
        "outputId": "a6637b85-0f58-4c0c-a842-2238ce799d2d"
      },
      "execution_count": null,
      "outputs": [
        {
          "output_type": "execute_result",
          "data": {
            "text/plain": [
              "-1"
            ]
          },
          "metadata": {},
          "execution_count": 15
        }
      ]
    },
    {
      "cell_type": "code",
      "source": [
        "z = y.replace(\"Zayan\", \"Nishad\")\n",
        "print(z)"
      ],
      "metadata": {
        "colab": {
          "base_uri": "https://localhost:8080/"
        },
        "id": "KjRFyWXrVcL3",
        "outputId": "2ae13c88-4d80-4fee-871f-e5e27dcd86fc"
      },
      "execution_count": null,
      "outputs": [
        {
          "output_type": "stream",
          "name": "stdout",
          "text": [
            "My name is Nishad\n"
          ]
        }
      ]
    },
    {
      "cell_type": "code",
      "source": [
        "print(y[0:5])\n",
        "print(z[2:-4])"
      ],
      "metadata": {
        "colab": {
          "base_uri": "https://localhost:8080/"
        },
        "id": "QRSzGqE-Wfen",
        "outputId": "1239a88d-9e55-4191-f27d-dd20929b75ad"
      },
      "execution_count": null,
      "outputs": [
        {
          "output_type": "stream",
          "name": "stdout",
          "text": [
            "My na\n",
            " name is Ni\n"
          ]
        }
      ]
    },
    {
      "cell_type": "code",
      "source": [
        "print(y[13])\n",
        "print(y[-2])\n",
        "sorted(y, reverse = True)"
      ],
      "metadata": {
        "colab": {
          "base_uri": "https://localhost:8080/"
        },
        "id": "NQQ7tiKgQYoX",
        "outputId": "2a2a24c3-a675-4311-94f6-1f38eb0020ef"
      },
      "execution_count": null,
      "outputs": [
        {
          "output_type": "stream",
          "name": "stdout",
          "text": [
            "y\n"
          ]
        },
        {
          "output_type": "execute_result",
          "data": {
            "text/plain": [
              "['y',\n",
              " 'y',\n",
              " 's',\n",
              " 'n',\n",
              " 'n',\n",
              " 'm',\n",
              " 'i',\n",
              " 'e',\n",
              " 'a',\n",
              " 'a',\n",
              " 'a',\n",
              " 'Z',\n",
              " 'M',\n",
              " ' ',\n",
              " ' ',\n",
              " ' ']"
            ]
          },
          "metadata": {},
          "execution_count": 10
        }
      ]
    },
    {
      "cell_type": "code",
      "source": [
        "print(y.upper())"
      ],
      "metadata": {
        "colab": {
          "base_uri": "https://localhost:8080/"
        },
        "id": "nbFOEyGWTNMw",
        "outputId": "1b0dd85d-6efb-40c0-c5c1-ea0a5bfbc326"
      },
      "execution_count": null,
      "outputs": [
        {
          "output_type": "stream",
          "name": "stdout",
          "text": [
            "MY NAME IS ZAYAN\n"
          ]
        }
      ]
    },
    {
      "cell_type": "code",
      "source": [
        "my_list = [1,2,10,20, 60]\n",
        "#print(my_list[4])\n",
        "print(max(my_list))\n",
        "print(sum(my_list))"
      ],
      "metadata": {
        "colab": {
          "base_uri": "https://localhost:8080/"
        },
        "id": "-Lb8YakNT1LH",
        "outputId": "0b79c022-837c-44a1-b1c7-e74fc905401c"
      },
      "execution_count": null,
      "outputs": [
        {
          "output_type": "stream",
          "name": "stdout",
          "text": [
            "60\n",
            "93\n"
          ]
        }
      ]
    },
    {
      "cell_type": "code",
      "source": [
        "10 in my_list"
      ],
      "metadata": {
        "id": "CFHeV9LNZdcH",
        "colab": {
          "base_uri": "https://localhost:8080/"
        },
        "outputId": "e714ca23-6ef2-4172-f127-9838980d9bd0"
      },
      "execution_count": null,
      "outputs": [
        {
          "output_type": "execute_result",
          "data": {
            "text/plain": [
              "True"
            ]
          },
          "metadata": {},
          "execution_count": 2
        }
      ]
    },
    {
      "cell_type": "code",
      "source": [
        "my_list.append(200)"
      ],
      "metadata": {
        "id": "iagCsR2lHYKR"
      },
      "execution_count": null,
      "outputs": []
    },
    {
      "cell_type": "code",
      "source": [
        "my_list"
      ],
      "metadata": {
        "colab": {
          "base_uri": "https://localhost:8080/"
        },
        "id": "3sc4-ZAoHtTx",
        "outputId": "f916c95d-468a-4ca4-cee4-29d2796dc111"
      },
      "execution_count": null,
      "outputs": [
        {
          "output_type": "execute_result",
          "data": {
            "text/plain": [
              "[1, 2, 10, 20, 60, 200]"
            ]
          },
          "metadata": {},
          "execution_count": 4
        }
      ]
    },
    {
      "cell_type": "code",
      "source": [
        "my_list.remove(2)"
      ],
      "metadata": {
        "id": "7egVyuEUHu0x"
      },
      "execution_count": null,
      "outputs": []
    },
    {
      "cell_type": "code",
      "source": [
        "my_list"
      ],
      "metadata": {
        "colab": {
          "base_uri": "https://localhost:8080/"
        },
        "id": "Nd41vvqGH4li",
        "outputId": "02d7c3e6-3245-4f6e-d424-35c0e424e606"
      },
      "execution_count": null,
      "outputs": [
        {
          "output_type": "execute_result",
          "data": {
            "text/plain": [
              "[1, 10, 20, 60, 200]"
            ]
          },
          "metadata": {},
          "execution_count": 6
        }
      ]
    },
    {
      "cell_type": "code",
      "source": [
        "my_list.pop(1)\n",
        "my_list"
      ],
      "metadata": {
        "colab": {
          "base_uri": "https://localhost:8080/"
        },
        "id": "rluVhrXqH5Uy",
        "outputId": "3be3fe4e-76a1-419f-9e94-5b6ddd89aba9"
      },
      "execution_count": null,
      "outputs": [
        {
          "output_type": "execute_result",
          "data": {
            "text/plain": [
              "[1, 20, 60, 200]"
            ]
          },
          "metadata": {},
          "execution_count": 7
        }
      ]
    },
    {
      "cell_type": "code",
      "source": [
        "my_list.insert(0, 250)\n",
        "my_list"
      ],
      "metadata": {
        "colab": {
          "base_uri": "https://localhost:8080/"
        },
        "id": "a4O4-3MNID5i",
        "outputId": "82863b6a-d99d-44bc-9564-5deab9e575c7"
      },
      "execution_count": null,
      "outputs": [
        {
          "output_type": "execute_result",
          "data": {
            "text/plain": [
              "[250, 1, 20, 60, 200]"
            ]
          },
          "metadata": {},
          "execution_count": 8
        }
      ]
    },
    {
      "cell_type": "code",
      "source": [
        "my_list[-1:-4:-1]\n"
      ],
      "metadata": {
        "colab": {
          "base_uri": "https://localhost:8080/"
        },
        "id": "Ratvt-RlI9BB",
        "outputId": "1d8d1bed-6406-40ae-b41c-3be6659945b0"
      },
      "execution_count": null,
      "outputs": [
        {
          "output_type": "execute_result",
          "data": {
            "text/plain": [
              "[200, 60, 20]"
            ]
          },
          "metadata": {},
          "execution_count": 13
        }
      ]
    },
    {
      "cell_type": "code",
      "source": [
        "mat = [[1, 2, 3, 4], [5, 6, 7, 8]]\n",
        "mat[1][2]\n",
        "mat[1][1] = 11\n",
        "mat"
      ],
      "metadata": {
        "colab": {
          "base_uri": "https://localhost:8080/"
        },
        "id": "Iywr5bNeLWmR",
        "outputId": "8347d0d7-a95b-43c2-903e-ef5340518d4d"
      },
      "execution_count": null,
      "outputs": [
        {
          "output_type": "execute_result",
          "data": {
            "text/plain": [
              "[[1, 2, 3, 4], [5, 11, 7, 8]]"
            ]
          },
          "metadata": {},
          "execution_count": 15
        }
      ]
    },
    {
      "cell_type": "code",
      "source": [
        "#tuple\n",
        "sample_tuple = (1, 2.3, 5, 6)\n",
        "\n",
        "sample_tuple[1] = \"hello\""
      ],
      "metadata": {
        "colab": {
          "base_uri": "https://localhost:8080/",
          "height": 204
        },
        "id": "mYyd7yv7NT7p",
        "outputId": "c3982366-69bf-414b-fac6-e1446e00523b"
      },
      "execution_count": null,
      "outputs": [
        {
          "output_type": "error",
          "ename": "TypeError",
          "evalue": "ignored",
          "traceback": [
            "\u001b[0;31m---------------------------------------------------------------------------\u001b[0m",
            "\u001b[0;31mTypeError\u001b[0m                                 Traceback (most recent call last)",
            "\u001b[0;32m<ipython-input-16-729c947c66d9>\u001b[0m in \u001b[0;36m<module>\u001b[0;34m()\u001b[0m\n\u001b[1;32m      2\u001b[0m \u001b[0msample_tuple\u001b[0m \u001b[0;34m=\u001b[0m \u001b[0;34m(\u001b[0m\u001b[0;36m1\u001b[0m\u001b[0;34m,\u001b[0m \u001b[0;36m2.3\u001b[0m\u001b[0;34m,\u001b[0m \u001b[0;36m5\u001b[0m\u001b[0;34m,\u001b[0m \u001b[0;36m6\u001b[0m\u001b[0;34m)\u001b[0m\u001b[0;34m\u001b[0m\u001b[0;34m\u001b[0m\u001b[0m\n\u001b[1;32m      3\u001b[0m \u001b[0;34m\u001b[0m\u001b[0m\n\u001b[0;32m----> 4\u001b[0;31m \u001b[0msample_tuple\u001b[0m\u001b[0;34m[\u001b[0m\u001b[0;36m1\u001b[0m\u001b[0;34m]\u001b[0m \u001b[0;34m=\u001b[0m \u001b[0;34m\"hello\"\u001b[0m\u001b[0;34m\u001b[0m\u001b[0;34m\u001b[0m\u001b[0m\n\u001b[0m",
            "\u001b[0;31mTypeError\u001b[0m: 'tuple' object does not support item assignment"
          ]
        }
      ]
    },
    {
      "cell_type": "code",
      "source": [
        "#sets\n",
        "sample_set = {\"apple\", \"banana\", \"cherry\", \"apple\"}\n",
        "sample_set"
      ],
      "metadata": {
        "colab": {
          "base_uri": "https://localhost:8080/"
        },
        "id": "4pI5uYPeO2vx",
        "outputId": "d6587c62-9863-4d98-cab6-1718aa3dbc17"
      },
      "execution_count": null,
      "outputs": [
        {
          "output_type": "execute_result",
          "data": {
            "text/plain": [
              "{'apple', 'banana', 'cherry'}"
            ]
          },
          "metadata": {},
          "execution_count": 17
        }
      ]
    },
    {
      "cell_type": "code",
      "source": [
        "sample_set.add(\"orange\")\n",
        "sample_set"
      ],
      "metadata": {
        "colab": {
          "base_uri": "https://localhost:8080/"
        },
        "id": "qRZV68bZQGkx",
        "outputId": "ac63e383-2a00-41de-d39d-2fade951521b"
      },
      "execution_count": null,
      "outputs": [
        {
          "output_type": "execute_result",
          "data": {
            "text/plain": [
              "{'apple', 'banana', 'cherry', 'orange'}"
            ]
          },
          "metadata": {},
          "execution_count": 18
        }
      ]
    },
    {
      "cell_type": "code",
      "source": [
        "sample_set.remove(\"banana\")\n",
        "sample_set"
      ],
      "metadata": {
        "colab": {
          "base_uri": "https://localhost:8080/"
        },
        "id": "YD62L0WZQ2yA",
        "outputId": "eaf64c8e-7126-4a6f-d0cf-5d05f8978929"
      },
      "execution_count": null,
      "outputs": [
        {
          "output_type": "execute_result",
          "data": {
            "text/plain": [
              "{'apple', 'cherry', 'orange'}"
            ]
          },
          "metadata": {},
          "execution_count": 19
        }
      ]
    },
    {
      "cell_type": "code",
      "source": [
        "students = {101:\"Nirjon\", 105: \"Redwan\", 203: \"Alifa\"}\n",
        "students"
      ],
      "metadata": {
        "colab": {
          "base_uri": "https://localhost:8080/"
        },
        "id": "Dt6XzL8RRZGh",
        "outputId": "04b5c8f3-210e-4fbc-a643-7e6c345a1c9d"
      },
      "execution_count": null,
      "outputs": [
        {
          "output_type": "execute_result",
          "data": {
            "text/plain": [
              "{101: 'Nirjon', 105: 'Redwan', 203: 'Alifa'}"
            ]
          },
          "metadata": {},
          "execution_count": 27
        }
      ]
    },
    {
      "cell_type": "code",
      "source": [
        "students[105] = \"Joyita\"\n",
        "students"
      ],
      "metadata": {
        "colab": {
          "base_uri": "https://localhost:8080/"
        },
        "id": "yJPnU2-aS--A",
        "outputId": "d797c398-2954-4636-9513-55a07370bb39"
      },
      "execution_count": null,
      "outputs": [
        {
          "output_type": "execute_result",
          "data": {
            "text/plain": [
              "{101: 'Nirjon', 105: 'Joyita', 203: 'Alifa'}"
            ]
          },
          "metadata": {},
          "execution_count": 28
        }
      ]
    },
    {
      "cell_type": "code",
      "source": [
        "students[203]"
      ],
      "metadata": {
        "colab": {
          "base_uri": "https://localhost:8080/",
          "height": 35
        },
        "id": "bXrLzIJ6TsXx",
        "outputId": "a4cec649-085c-4ed3-bca2-e155c2b89888"
      },
      "execution_count": null,
      "outputs": [
        {
          "output_type": "execute_result",
          "data": {
            "text/plain": [
              "'Alifa'"
            ],
            "application/vnd.google.colaboratory.intrinsic+json": {
              "type": "string"
            }
          },
          "metadata": {},
          "execution_count": 22
        }
      ]
    },
    {
      "cell_type": "code",
      "source": [
        "students.update({207:\"Mehedi\"})\n",
        "students"
      ],
      "metadata": {
        "colab": {
          "base_uri": "https://localhost:8080/"
        },
        "id": "LfH_KUQPT11w",
        "outputId": "bfc1198b-ef0c-4019-ec95-4f9e23757ad5"
      },
      "execution_count": null,
      "outputs": [
        {
          "output_type": "execute_result",
          "data": {
            "text/plain": [
              "{101: 'Nirjon', 105: 'Joyita', 203: 'Alifa', 207: 'Mehedi'}"
            ]
          },
          "metadata": {},
          "execution_count": 29
        }
      ]
    },
    {
      "cell_type": "code",
      "source": [
        "students.pop(101)\n",
        "students"
      ],
      "metadata": {
        "colab": {
          "base_uri": "https://localhost:8080/"
        },
        "id": "llvagsdGUTMf",
        "outputId": "7213eb95-cc5a-403b-91d5-485064609846"
      },
      "execution_count": null,
      "outputs": [
        {
          "output_type": "execute_result",
          "data": {
            "text/plain": [
              "{105: 'Joyita', 203: 'Alifa', 207: 'Mehedi'}"
            ]
          },
          "metadata": {},
          "execution_count": 30
        }
      ]
    },
    {
      "cell_type": "code",
      "source": [
        "for x, y in students.items():\n",
        "  print(\"key=\", x, \"value=\", y)"
      ],
      "metadata": {
        "colab": {
          "base_uri": "https://localhost:8080/"
        },
        "id": "kXl8qDxoWq9h",
        "outputId": "ee5f6641-b51a-4640-bd6a-5020a31f8bf2"
      },
      "execution_count": null,
      "outputs": [
        {
          "output_type": "stream",
          "name": "stdout",
          "text": [
            "key= 105 value= Joyita\n",
            "key= 203 value= Alifa\n",
            "key= 207 value= Mehedi\n"
          ]
        }
      ]
    },
    {
      "cell_type": "code",
      "source": [
        ""
      ],
      "metadata": {
        "id": "EBc2BzkiX3jA"
      },
      "execution_count": null,
      "outputs": []
    },
    {
      "cell_type": "markdown",
      "source": [
        "Collection"
      ],
      "metadata": {
        "id": "uhL1TB_z8-Eq"
      }
    },
    {
      "cell_type": "code",
      "source": [
        "from collections import Counter\n",
        "\n",
        "print(Counter(['B', 'B', 'A', 'B', 'C', 'A', 'B']))"
      ],
      "metadata": {
        "colab": {
          "base_uri": "https://localhost:8080/"
        },
        "id": "aZjfD6Fu9A_J",
        "outputId": "600374b9-bb9a-4342-df30-e9f5f37a081a"
      },
      "execution_count": null,
      "outputs": [
        {
          "output_type": "stream",
          "name": "stdout",
          "text": [
            "Counter({'B': 4, 'A': 2, 'C': 1})\n"
          ]
        }
      ]
    },
    {
      "cell_type": "code",
      "source": [
        "print(Counter(\"abcd111nsc2b\"))"
      ],
      "metadata": {
        "colab": {
          "base_uri": "https://localhost:8080/"
        },
        "id": "JNWr4huG93KT",
        "outputId": "faf40cb2-d00b-4ee0-8bb2-c085ed57fb49"
      },
      "execution_count": null,
      "outputs": [
        {
          "output_type": "stream",
          "name": "stdout",
          "text": [
            "Counter({'1': 3, 'b': 2, 'c': 2, 'a': 1, 'd': 1, 'n': 1, 's': 1, '2': 1})\n"
          ]
        }
      ]
    },
    {
      "cell_type": "code",
      "source": [
        "students = {101:\"Nirjon\", 105: \"Redwan\", 203: \"Alifa\"}"
      ],
      "metadata": {
        "id": "RwV9F8Du-MXC"
      },
      "execution_count": null,
      "outputs": []
    },
    {
      "cell_type": "code",
      "source": [
        "print(students[109])"
      ],
      "metadata": {
        "colab": {
          "base_uri": "https://localhost:8080/",
          "height": 168
        },
        "id": "6VUh027u-ylq",
        "outputId": "898a7773-5191-481d-9e24-4d2014671280"
      },
      "execution_count": null,
      "outputs": [
        {
          "output_type": "error",
          "ename": "KeyError",
          "evalue": "ignored",
          "traceback": [
            "\u001b[0;31m---------------------------------------------------------------------------\u001b[0m",
            "\u001b[0;31mKeyError\u001b[0m                                  Traceback (most recent call last)",
            "\u001b[0;32m<ipython-input-5-409d4ee84844>\u001b[0m in \u001b[0;36m<module>\u001b[0;34m()\u001b[0m\n\u001b[0;32m----> 1\u001b[0;31m \u001b[0mprint\u001b[0m\u001b[0;34m(\u001b[0m\u001b[0mstudents\u001b[0m\u001b[0;34m[\u001b[0m\u001b[0;36m109\u001b[0m\u001b[0;34m]\u001b[0m\u001b[0;34m)\u001b[0m\u001b[0;34m\u001b[0m\u001b[0;34m\u001b[0m\u001b[0m\n\u001b[0m",
            "\u001b[0;31mKeyError\u001b[0m: 109"
          ]
        }
      ]
    },
    {
      "cell_type": "code",
      "source": [
        "from collections import defaultdict\n",
        "x = defaultdict(int, {101:\"Nirjon\", 105: \"Redwan\", 203: \"Alifa\"})\n",
        "\n",
        "print(x[216])"
      ],
      "metadata": {
        "colab": {
          "base_uri": "https://localhost:8080/"
        },
        "id": "CcohhhQ2-3yp",
        "outputId": "e9c2edfc-c13d-4247-dd3b-a7e149c23167"
      },
      "execution_count": null,
      "outputs": [
        {
          "output_type": "stream",
          "name": "stdout",
          "text": [
            "0\n"
          ]
        }
      ]
    },
    {
      "cell_type": "code",
      "source": [
        "from collections import ChainMap\n",
        "x = {'a':1, 'b':2}\n",
        "y = {'c':3, 'd':4}\n",
        "z = {'e':5, 'f':6}\n",
        "\n",
        "c = ChainMap(x,y,z)\n",
        "print(c)"
      ],
      "metadata": {
        "colab": {
          "base_uri": "https://localhost:8080/"
        },
        "id": "gW18l5gEAECq",
        "outputId": "7f43d5eb-80f9-4f7e-ec52-e82a806f7729"
      },
      "execution_count": null,
      "outputs": [
        {
          "output_type": "stream",
          "name": "stdout",
          "text": [
            "ChainMap({'a': 1, 'b': 2}, {'c': 3, 'd': 4}, {'e': 5, 'f': 6})\n"
          ]
        }
      ]
    },
    {
      "cell_type": "code",
      "source": [
        "print(c['c'])"
      ],
      "metadata": {
        "colab": {
          "base_uri": "https://localhost:8080/"
        },
        "id": "DNjtxphCBPoK",
        "outputId": "a2f011a0-70eb-46db-c0e9-4852ee177cad"
      },
      "execution_count": null,
      "outputs": [
        {
          "output_type": "stream",
          "name": "stdout",
          "text": [
            "3\n"
          ]
        }
      ]
    },
    {
      "cell_type": "code",
      "source": [
        "x = (\"nafis\", 19, 203)\n",
        "x[0]"
      ],
      "metadata": {
        "colab": {
          "base_uri": "https://localhost:8080/",
          "height": 35
        },
        "id": "pSetQS4LBZuY",
        "outputId": "db5f1f7f-a509-4722-8d24-105942482a41"
      },
      "execution_count": null,
      "outputs": [
        {
          "output_type": "execute_result",
          "data": {
            "text/plain": [
              "'nafis'"
            ],
            "application/vnd.google.colaboratory.intrinsic+json": {
              "type": "string"
            }
          },
          "metadata": {},
          "execution_count": 11
        }
      ]
    },
    {
      "cell_type": "code",
      "source": [
        "from collections import namedtuple\n",
        "\n",
        "nt = namedtuple('student_tuple', ['name', 'age', 'id'])\n",
        "\n",
        "x = nt(\"nafis\",19, 203)\n",
        "print(x.age)"
      ],
      "metadata": {
        "colab": {
          "base_uri": "https://localhost:8080/"
        },
        "id": "Nw07-vHYB8r4",
        "outputId": "5b356cc0-cedb-405f-9cd9-ec9856b0c3b0"
      },
      "execution_count": null,
      "outputs": [
        {
          "output_type": "stream",
          "name": "stdout",
          "text": [
            "19\n"
          ]
        }
      ]
    },
    {
      "cell_type": "code",
      "source": [
        "from collections import deque\n",
        "\n",
        "x = deque([1,2,3])\n",
        "\n",
        "x.append(4)\n",
        "print(x)"
      ],
      "metadata": {
        "colab": {
          "base_uri": "https://localhost:8080/"
        },
        "id": "zIra9apRDOi-",
        "outputId": "82b5ad6b-4cdc-4f91-f2ac-2038aa1846b5"
      },
      "execution_count": null,
      "outputs": [
        {
          "output_type": "stream",
          "name": "stdout",
          "text": [
            "deque([1, 2, 3, 4])\n"
          ]
        }
      ]
    },
    {
      "cell_type": "code",
      "source": [
        "x.appendleft(4)\n",
        "print(x)"
      ],
      "metadata": {
        "colab": {
          "base_uri": "https://localhost:8080/"
        },
        "id": "NdtyIzolE_8p",
        "outputId": "dcebf810-ca9a-4d49-c043-df997aea2c8e"
      },
      "execution_count": null,
      "outputs": [
        {
          "output_type": "stream",
          "name": "stdout",
          "text": [
            "deque([4, 1, 2, 3, 4])\n"
          ]
        }
      ]
    },
    {
      "cell_type": "code",
      "source": [
        "x.appendleft(0)\n",
        "print(x)"
      ],
      "metadata": {
        "colab": {
          "base_uri": "https://localhost:8080/"
        },
        "id": "YzXTWHgcFC1Z",
        "outputId": "70392f92-5e2b-4e22-c612-5c87c2e413be"
      },
      "execution_count": null,
      "outputs": [
        {
          "output_type": "stream",
          "name": "stdout",
          "text": [
            "deque([0, 4, 1, 2, 3, 4])\n"
          ]
        }
      ]
    },
    {
      "cell_type": "code",
      "source": [
        "x.popleft()\n",
        "print(x)"
      ],
      "metadata": {
        "colab": {
          "base_uri": "https://localhost:8080/"
        },
        "id": "06yW8wFzFIip",
        "outputId": "432de6a4-95de-4e96-d02a-d81246aa2d0e"
      },
      "execution_count": null,
      "outputs": [
        {
          "output_type": "stream",
          "name": "stdout",
          "text": [
            "deque([4, 1, 2, 3, 4])\n"
          ]
        }
      ]
    },
    {
      "cell_type": "code",
      "source": [
        "sentence = \"Mary and Samantha arrived at The bus station early but waited until noon for the bus.\"\n",
        "sentence = sentence.lower()\n",
        "sentence = sentence.replace(\".\",\"\")\n",
        "words = sentence.split()\n",
        "\n",
        "#print(Counter(words))\n",
        "word_frequency = {}\n",
        "\n",
        "for x in words:\n",
        "  if x not in word_frequency:\n",
        "    word_frequency[x]  = 1\n",
        "  else:\n",
        "    word_frequency[x]+=1\n",
        "\n",
        "print(word_frequency)    "
      ],
      "metadata": {
        "colab": {
          "base_uri": "https://localhost:8080/"
        },
        "id": "iCqOcs18FRAp",
        "outputId": "dd765f4a-24c4-430c-c983-095c292b861e"
      },
      "execution_count": null,
      "outputs": [
        {
          "output_type": "stream",
          "name": "stdout",
          "text": [
            "{'mary': 1, 'and': 1, 'samantha': 1, 'arrived': 1, 'at': 1, 'the': 2, 'bus': 2, 'station': 1, 'early': 1, 'but': 1, 'waited': 1, 'until': 1, 'noon': 1, 'for': 1}\n"
          ]
        }
      ]
    },
    {
      "cell_type": "code",
      "source": [
        ""
      ],
      "metadata": {
        "id": "fv5KT-p9K0vC"
      },
      "execution_count": null,
      "outputs": []
    },
    {
      "cell_type": "markdown",
      "source": [
        "# Stack, Queue"
      ],
      "metadata": {
        "id": "1jNRZUcH7-98"
      }
    },
    {
      "cell_type": "code",
      "source": [
        "my_stack = [3,4,5]\n",
        "my_stack.append(1)\n",
        "my_stack.append(10)\n",
        "print(my_stack)"
      ],
      "metadata": {
        "colab": {
          "base_uri": "https://localhost:8080/"
        },
        "id": "mHBvtnSs8A57",
        "outputId": "25474e80-90f4-445c-e4b3-e156396ae0e2"
      },
      "execution_count": null,
      "outputs": [
        {
          "output_type": "stream",
          "name": "stdout",
          "text": [
            "[3, 4, 5, 1, 10]\n"
          ]
        }
      ]
    },
    {
      "cell_type": "code",
      "source": [
        "my_stack.pop()\n",
        "print(my_stack)"
      ],
      "metadata": {
        "colab": {
          "base_uri": "https://localhost:8080/"
        },
        "id": "JfKZ5SrT9Hdi",
        "outputId": "2defc069-5e61-4c7f-acbb-7175c053deff"
      },
      "execution_count": null,
      "outputs": [
        {
          "output_type": "stream",
          "name": "stdout",
          "text": [
            "[3, 4, 5, 1]\n"
          ]
        }
      ]
    },
    {
      "cell_type": "code",
      "source": [
        "from collections import deque\n",
        "my_queue = deque(['B', 'A', 'C', 'D'])\n",
        "my_queue.append('G')\n",
        "print(my_queue)\n",
        "\n",
        "my_queue.popleft()\n",
        "print(my_queue)"
      ],
      "metadata": {
        "colab": {
          "base_uri": "https://localhost:8080/"
        },
        "id": "3V3rjb6i9dQ8",
        "outputId": "1385651f-f6bd-4826-b679-b274ce6b4d0a"
      },
      "execution_count": null,
      "outputs": [
        {
          "output_type": "stream",
          "name": "stdout",
          "text": [
            "deque(['B', 'A', 'C', 'D', 'G'])\n",
            "deque(['A', 'C', 'D', 'G'])\n"
          ]
        }
      ]
    },
    {
      "cell_type": "code",
      "source": [
        "class Person:\n",
        "  def __init__(self, person_name, doy, ht):\n",
        "    self.__name = person_name\n",
        "    self.dateofyear = doy\n",
        "    self.height = ht\n",
        "\n",
        "  def get_name(self):\n",
        "    return self.__name.upper()\n",
        "\n",
        "  def set_name(self, new_name):\n",
        "    self.__name = new_name    "
      ],
      "metadata": {
        "id": "b8SYVweq-bXb"
      },
      "execution_count": null,
      "outputs": []
    },
    {
      "cell_type": "code",
      "source": [
        "person1 = Person('Nishad', 2000, \"6 feet\")\n",
        "print(person1.get_name())\n",
        "person1.set_name(\"Mehenaz\")\n",
        "print(person1.get_name())\n"
      ],
      "metadata": {
        "colab": {
          "base_uri": "https://localhost:8080/"
        },
        "id": "rbvNHnt7EV5R",
        "outputId": "398e42b4-8e28-47ca-ee3f-160d4ee512ed"
      },
      "execution_count": null,
      "outputs": [
        {
          "output_type": "stream",
          "name": "stdout",
          "text": [
            "NISHAD\n",
            "MEHENAZ\n"
          ]
        }
      ]
    },
    {
      "cell_type": "code",
      "source": [
        "print(person1.get_name())"
      ],
      "metadata": {
        "colab": {
          "base_uri": "https://localhost:8080/"
        },
        "id": "htR6Jex_Fcep",
        "outputId": "e30a52e6-ba52-4859-a2af-e0c677671d1a"
      },
      "execution_count": null,
      "outputs": [
        {
          "output_type": "stream",
          "name": "stdout",
          "text": [
            "NISHAD\n"
          ]
        }
      ]
    },
    {
      "cell_type": "code",
      "source": [
        "person2 = Person(\"abc\", 1990, \"4 feet\")"
      ],
      "metadata": {
        "id": "jsxiqde4HjCv"
      },
      "execution_count": null,
      "outputs": []
    },
    {
      "cell_type": "code",
      "source": [
        "class Stack:\n",
        "  def __init__(self):\n",
        "    self.data = []\n",
        "\n",
        "  def size(self):\n",
        "    return len(self.data)\n",
        "\n",
        "  def isempty(self):\n",
        "    if self.size()==0:\n",
        "      return True\n",
        "    else:\n",
        "      return False\n",
        "\n",
        "  def push(self, new_element):\n",
        "    self.data.append(new_element)\n",
        "\n",
        "  def pop(self):\n",
        "    if self.isempty():\n",
        "      print(\"Stack is empty\")\n",
        "    else:\n",
        "      self.data.pop()\n",
        "\n",
        "  def peek(self):\n",
        "    if self.isempty():\n",
        "      print(\"Stack is empty\")\n",
        "    else:\n",
        "      return self.data[-1]                  "
      ],
      "metadata": {
        "id": "N1hScfwFSExe"
      },
      "execution_count": null,
      "outputs": []
    },
    {
      "cell_type": "code",
      "source": [
        "s1 = Stack()\n",
        "s1.push('B')\n",
        "s1.push('A')\n",
        "s1.push('C')\n",
        "s1.push('D')\n",
        "\n",
        "print(s1.data)"
      ],
      "metadata": {
        "colab": {
          "base_uri": "https://localhost:8080/"
        },
        "id": "3zwG0YZhWx2W",
        "outputId": "8d40ad3d-9715-450f-d7db-f748929c420d"
      },
      "execution_count": null,
      "outputs": [
        {
          "output_type": "stream",
          "name": "stdout",
          "text": [
            "['B', 'A', 'C', 'D']\n"
          ]
        }
      ]
    },
    {
      "cell_type": "code",
      "source": [
        "print(s1.peek())"
      ],
      "metadata": {
        "colab": {
          "base_uri": "https://localhost:8080/"
        },
        "id": "0DyL0Hu6XYF9",
        "outputId": "4572f449-9ab2-4dcf-bed6-faa8d5e73a15"
      },
      "execution_count": null,
      "outputs": [
        {
          "output_type": "stream",
          "name": "stdout",
          "text": [
            "D\n"
          ]
        }
      ]
    },
    {
      "cell_type": "code",
      "source": [
        "s1.pop()\n",
        "s1.pop()\n",
        "s1.pop()\n",
        "s1.pop()\n",
        "\n",
        "s1.peek()"
      ],
      "metadata": {
        "colab": {
          "base_uri": "https://localhost:8080/"
        },
        "id": "tJurkeGPXbil",
        "outputId": "b76c1fec-9681-45e6-8858-b539f11b3d88"
      },
      "execution_count": null,
      "outputs": [
        {
          "output_type": "stream",
          "name": "stdout",
          "text": [
            "Stack is empty\n"
          ]
        }
      ]
    },
    {
      "cell_type": "code",
      "source": [
        "from collections import deque\n",
        "\n",
        "class Queue:\n",
        "  def __init__(self):\n",
        "    self.data = deque()\n",
        "\n",
        "  def size(self):\n",
        "    return len(self.data)\n",
        "\n",
        "  def isempty(self):\n",
        "    if self.size()==0:\n",
        "      return True\n",
        "    else:\n",
        "      return False\n",
        "\n",
        "  def enqueue(self, new_element):\n",
        "    self.data.append(new_element)\n",
        "\n",
        "  def dequeue(self):\n",
        "    if self.isempty():\n",
        "      print(\"Queue is empty\")        \n",
        "    else:\n",
        "      self.data.popleft()\n",
        "\n",
        "  def peek(self):\n",
        "    if self.isempty():\n",
        "      print(\"Queue is empty\")        \n",
        "    else:\n",
        "      return self.data[0]   "
      ],
      "metadata": {
        "id": "OjuTnpBzXkS1"
      },
      "execution_count": null,
      "outputs": []
    },
    {
      "cell_type": "code",
      "source": [
        "q1 = Queue()\n",
        "q1.enqueue(\"Arif\")\n",
        "q1.enqueue(\"Sajib\")\n",
        "q1.enqueue(\"Nafis\")\n",
        "\n",
        "print(q1.peek())"
      ],
      "metadata": {
        "colab": {
          "base_uri": "https://localhost:8080/"
        },
        "id": "aSOEZdOabsws",
        "outputId": "fba24c88-a92b-419b-f308-f18c95b781e9"
      },
      "execution_count": null,
      "outputs": [
        {
          "output_type": "stream",
          "name": "stdout",
          "text": [
            "Arif\n"
          ]
        }
      ]
    },
    {
      "cell_type": "code",
      "source": [
        "q1.dequeue()\n",
        "q1.dequeue()\n",
        "q1.dequeue()\n",
        "print(q1.size())"
      ],
      "metadata": {
        "colab": {
          "base_uri": "https://localhost:8080/"
        },
        "id": "W9gXRedfdh8f",
        "outputId": "5fb3f77d-a945-4924-89af-6e351245a6a5"
      },
      "execution_count": null,
      "outputs": [
        {
          "output_type": "stream",
          "name": "stdout",
          "text": [
            "0\n"
          ]
        }
      ]
    },
    {
      "cell_type": "code",
      "source": [
        "q1.peek()"
      ],
      "metadata": {
        "colab": {
          "base_uri": "https://localhost:8080/"
        },
        "id": "m3CcseuDduNU",
        "outputId": "48ed03e5-0c71-4001-bd73-820cd6b60e5b"
      },
      "execution_count": null,
      "outputs": [
        {
          "output_type": "stream",
          "name": "stdout",
          "text": [
            "Queue is empty\n"
          ]
        }
      ]
    },
    {
      "cell_type": "code",
      "source": [
        "from array import *\n",
        "\n",
        "my_array = array('i', [10,20,30,40])\n",
        "\n",
        "for i in my_array:\n",
        "  print(i)"
      ],
      "metadata": {
        "id": "uKQejRn4dxu1",
        "colab": {
          "base_uri": "https://localhost:8080/"
        },
        "outputId": "3e343798-bfc0-4114-8d01-07b3ed24351b"
      },
      "execution_count": null,
      "outputs": [
        {
          "output_type": "stream",
          "name": "stdout",
          "text": [
            "10\n",
            "20\n",
            "30\n",
            "40\n"
          ]
        }
      ]
    },
    {
      "cell_type": "code",
      "source": [
        "print(my_array[1])"
      ],
      "metadata": {
        "colab": {
          "base_uri": "https://localhost:8080/"
        },
        "id": "-YO8WqGQX31m",
        "outputId": "0144a832-c1e7-437d-8adb-23d57d26d20d"
      },
      "execution_count": null,
      "outputs": [
        {
          "output_type": "stream",
          "name": "stdout",
          "text": [
            "20\n"
          ]
        }
      ]
    },
    {
      "cell_type": "code",
      "source": [
        "my_array.append(50)\n",
        "my_array\n"
      ],
      "metadata": {
        "colab": {
          "base_uri": "https://localhost:8080/"
        },
        "id": "iEi--So5aK7v",
        "outputId": "08aae936-0345-46b4-c0b1-89027bf6a806"
      },
      "execution_count": null,
      "outputs": [
        {
          "output_type": "execute_result",
          "data": {
            "text/plain": [
              "array('i', [10, 20, 30, 40, 50, 50])"
            ]
          },
          "metadata": {},
          "execution_count": 7
        }
      ]
    },
    {
      "cell_type": "code",
      "source": [
        "my_array.insert(0, 100)\n",
        "my_array"
      ],
      "metadata": {
        "colab": {
          "base_uri": "https://localhost:8080/"
        },
        "id": "XWsQF54YaVDu",
        "outputId": "a90cb093-4ce1-4dd4-ac28-ba55ce85faf3"
      },
      "execution_count": null,
      "outputs": [
        {
          "output_type": "execute_result",
          "data": {
            "text/plain": [
              "array('i', [100, 10, 20, 30, 40, 50, 50])"
            ]
          },
          "metadata": {},
          "execution_count": 8
        }
      ]
    },
    {
      "cell_type": "code",
      "source": [
        "my_array.pop()\n",
        "my_array"
      ],
      "metadata": {
        "colab": {
          "base_uri": "https://localhost:8080/"
        },
        "id": "zKpVLfetah8f",
        "outputId": "f0a32d97-c7c8-421f-84c9-c526ae506aa6"
      },
      "execution_count": null,
      "outputs": [
        {
          "output_type": "execute_result",
          "data": {
            "text/plain": [
              "array('i', [100, 10, 20, 30, 40, 50])"
            ]
          },
          "metadata": {},
          "execution_count": 9
        }
      ]
    },
    {
      "cell_type": "code",
      "source": [
        "my_array.remove(30)\n",
        "my_array"
      ],
      "metadata": {
        "colab": {
          "base_uri": "https://localhost:8080/"
        },
        "id": "N2TItl0papnO",
        "outputId": "58307cc6-5333-41c6-dd93-2f796b674c2e"
      },
      "execution_count": null,
      "outputs": [
        {
          "output_type": "execute_result",
          "data": {
            "text/plain": [
              "array('i', [100, 10, 20, 40, 50])"
            ]
          },
          "metadata": {},
          "execution_count": 10
        }
      ]
    },
    {
      "cell_type": "code",
      "source": [
        "my_array.reverse()"
      ],
      "metadata": {
        "id": "w5hF_doTazxV"
      },
      "execution_count": null,
      "outputs": []
    },
    {
      "cell_type": "code",
      "source": [
        "my_array"
      ],
      "metadata": {
        "colab": {
          "base_uri": "https://localhost:8080/"
        },
        "id": "yjUHOUnAbChe",
        "outputId": "3101abad-65d0-4e35-aac0-4d1a55393924"
      },
      "execution_count": null,
      "outputs": [
        {
          "output_type": "execute_result",
          "data": {
            "text/plain": [
              "array('i', [50, 40, 20, 10, 100])"
            ]
          },
          "metadata": {},
          "execution_count": 12
        }
      ]
    },
    {
      "cell_type": "code",
      "source": [
        "print(my_array.buffer_info())"
      ],
      "metadata": {
        "colab": {
          "base_uri": "https://localhost:8080/"
        },
        "id": "cIsr8GRjbEMe",
        "outputId": "56d78cae-6fa7-4a45-dafa-f8664ef75bd6"
      },
      "execution_count": null,
      "outputs": [
        {
          "output_type": "stream",
          "name": "stdout",
          "text": [
            "(140514296438704, 5)\n"
          ]
        }
      ]
    },
    {
      "cell_type": "code",
      "source": [
        "print(my_array.count(120))"
      ],
      "metadata": {
        "colab": {
          "base_uri": "https://localhost:8080/"
        },
        "id": "iG1BqCNrbZcf",
        "outputId": "7d6d2556-a5a2-4464-f7e3-5ba0fa28e4c7"
      },
      "execution_count": null,
      "outputs": [
        {
          "output_type": "stream",
          "name": "stdout",
          "text": [
            "0\n"
          ]
        }
      ]
    },
    {
      "cell_type": "code",
      "source": [
        "a = my_array.tolist()\n",
        "print(a)"
      ],
      "metadata": {
        "colab": {
          "base_uri": "https://localhost:8080/"
        },
        "id": "MD9qadP8czBx",
        "outputId": "bd33340d-9492-4c10-e79e-d9dae3fecb3a"
      },
      "execution_count": null,
      "outputs": [
        {
          "output_type": "stream",
          "name": "stdout",
          "text": [
            "[50, 40, 20, 10, 100]\n"
          ]
        }
      ]
    },
    {
      "cell_type": "code",
      "source": [
        ""
      ],
      "metadata": {
        "id": "GBItVBnndGdv"
      },
      "execution_count": null,
      "outputs": []
    },
    {
      "cell_type": "markdown",
      "source": [
        "### Stack Queue related problems"
      ],
      "metadata": {
        "id": "5nIsPGUn9w1-"
      }
    },
    {
      "cell_type": "code",
      "source": [
        "ord(\"A\")"
      ],
      "metadata": {
        "colab": {
          "base_uri": "https://localhost:8080/"
        },
        "id": "fXbiji1291Jo",
        "outputId": "a58bdac0-cd9c-4a90-9da8-f1d08ab564ed"
      },
      "execution_count": null,
      "outputs": [
        {
          "output_type": "execute_result",
          "data": {
            "text/plain": [
              "65"
            ]
          },
          "metadata": {},
          "execution_count": 1
        }
      ]
    },
    {
      "cell_type": "code",
      "source": [
        "def print_reverse(input):\n",
        "  s = Stack()\n",
        "  for i in range(len(input)):\n",
        "    s.push(input[i])\n",
        "\n",
        "  for i in range(len(input)):\n",
        "    print(s.peek(),\" : \", ord(s.peek()))\n",
        "    s.pop()\n",
        "\n",
        "print_reverse(\"Aquib\")        "
      ],
      "metadata": {
        "colab": {
          "base_uri": "https://localhost:8080/"
        },
        "id": "MZry1NazAtbP",
        "outputId": "fe2d7db3-deb1-4d8c-fe8c-6d7f161fc8cd"
      },
      "execution_count": null,
      "outputs": [
        {
          "output_type": "stream",
          "name": "stdout",
          "text": [
            "b  :  98\n",
            "i  :  105\n",
            "u  :  117\n",
            "q  :  113\n",
            "A  :  65\n"
          ]
        }
      ]
    },
    {
      "cell_type": "code",
      "source": [
        "from random import randint\n",
        "class Track:\n",
        "  def __init__(self, title):\n",
        "    self.title = title\n",
        "    self.duration = randint(5,10)"
      ],
      "metadata": {
        "id": "w1UwWCtOGQs2"
      },
      "execution_count": null,
      "outputs": []
    },
    {
      "cell_type": "code",
      "source": [
        "t1 = Track(\"Khola Janala\")\n",
        "print(t1.title, \" : \", t1.duration)"
      ],
      "metadata": {
        "colab": {
          "base_uri": "https://localhost:8080/"
        },
        "id": "iZeCYECWIo9P",
        "outputId": "45fcb032-6066-4aac-dbe2-9e61720f490a"
      },
      "execution_count": null,
      "outputs": [
        {
          "output_type": "stream",
          "name": "stdout",
          "text": [
            "Khola Janala  :  9\n"
          ]
        }
      ]
    },
    {
      "cell_type": "code",
      "source": [
        "t2 = Track(\"Shei Tumi\")\n",
        "print(t2.title, \" : \", t2.duration)"
      ],
      "metadata": {
        "colab": {
          "base_uri": "https://localhost:8080/"
        },
        "id": "BtMTsbm8JAZ3",
        "outputId": "df4abf91-5f21-4adc-8304-feb0985b244b"
      },
      "execution_count": null,
      "outputs": [
        {
          "output_type": "stream",
          "name": "stdout",
          "text": [
            "Shei Tumi  :  8\n"
          ]
        }
      ]
    },
    {
      "cell_type": "code",
      "source": [
        "import time\n",
        "media_player = Queue()\n",
        "media_player.enqueue(t1)\n",
        "media_player.enqueue(t2)\n",
        "\n",
        "def play():\n",
        "  while not media_player.isempty():\n",
        "    current_song = media_player.peek()\n",
        "    print(\"Playing.....\", current_song.title)\n",
        "    time.sleep(current_song.duration)\n",
        "    media_player.dequeue()\n",
        "\n",
        "  print(\"All tracks finished\")\n",
        "\n",
        "play()    "
      ],
      "metadata": {
        "colab": {
          "base_uri": "https://localhost:8080/"
        },
        "id": "KPskT_NkJJ-n",
        "outputId": "9f6cec94-6710-420e-82eb-fc2f94ae83ce"
      },
      "execution_count": null,
      "outputs": [
        {
          "output_type": "stream",
          "name": "stdout",
          "text": [
            "Playing..... Khola Janala\n",
            "Playing..... Shei Tumi\n",
            "All tracks finished\n"
          ]
        }
      ]
    },
    {
      "cell_type": "code",
      "source": [
        ""
      ],
      "metadata": {
        "id": "XFiL__xzLcg5"
      },
      "execution_count": null,
      "outputs": []
    },
    {
      "cell_type": "markdown",
      "source": [
        "# Linked List"
      ],
      "metadata": {
        "id": "-vcYcg29TSfg"
      }
    },
    {
      "cell_type": "code",
      "source": [
        "class Node:\n",
        "  def __init__(self, data):\n",
        "    self.data = data\n",
        "    self.next = None"
      ],
      "metadata": {
        "id": "DRlLStnTTWdX"
      },
      "execution_count": null,
      "outputs": []
    },
    {
      "cell_type": "code",
      "source": [
        "n1 = Node(10)\n",
        "n2 = Node(15)\n",
        "n3 = Node(20)\n",
        "\n",
        "n1.next = n2\n",
        "n2.next = n3\n",
        "\n",
        "current_node = n1\n",
        "while current_node:\n",
        "  print(current_node.data)\n",
        "  current_node = current_node.next"
      ],
      "metadata": {
        "colab": {
          "base_uri": "https://localhost:8080/"
        },
        "id": "YxHk3Vp_Xd9k",
        "outputId": "dd23edec-830c-4068-b8c5-125a1befed85"
      },
      "execution_count": null,
      "outputs": [
        {
          "output_type": "stream",
          "name": "stdout",
          "text": [
            "10\n",
            "15\n",
            "20\n"
          ]
        }
      ]
    },
    {
      "cell_type": "code",
      "source": [
        "class SinglyLinkedList:\n",
        "  def __init__(self):\n",
        "    self.head = None\n",
        "    self.size = 0\n",
        "\n",
        "  def append(self, new_data):\n",
        "    new_node = Node(new_data)\n",
        "    if self.head is None:\n",
        "      self.head = new_node\n",
        "    else:\n",
        "      current_node = self.head\n",
        "      while current_node.next:\n",
        "        current_node = current_node.next\n",
        "      current_node.next = new_node\n",
        "    self.size+=1\n",
        "\n",
        "  def append_left(self, new_data):\n",
        "    new_node = Node(new_data)\n",
        "    if self.head is None:\n",
        "      self.head = new_node\n",
        "    else:\n",
        "      new_node.next = self.head\n",
        "      self.head = new_node\n",
        "    self.size += 1    \n",
        "\n",
        "  def append_after(self,target_data, new_data):\n",
        "    new_node = Node(new_data)\n",
        "    if self.size==0:\n",
        "      print(\"List is empty\")\n",
        "    else:\n",
        "      current_node = self.head\n",
        "      while current_node.next is not None:\n",
        "        if current_node.data==target_data:\n",
        "          self.size+=1\n",
        "          new_node.next = current_node.next\n",
        "          current_node.next = new_node\n",
        "          return\n",
        "        else:\n",
        "          current_node = current_node.next  \n",
        "\n",
        "  def pop_left(self):\n",
        "    if self.size==0:\n",
        "      print(\"List is empty\")\n",
        "    else:\n",
        "      self.head = self.head.next\n",
        "      self.size-=1  \n",
        "\n",
        "  def pop(self):\n",
        "    if self.size==0:\n",
        "      print(\"List is empty\")\n",
        "    else:\n",
        "      self.size-=1\n",
        "      if self.head.next is None:\n",
        "        self.head=None\n",
        "      else:\n",
        "        current_node = self.head\n",
        "        while current_node.next is not None:\n",
        "          if current_node.next.next is None:\n",
        "            current_node.next = None\n",
        "          else:  \n",
        "            current_node = current_node.next\n",
        "\n",
        "  def print_all(self):\n",
        "    current_node = self.head\n",
        "    while current_node is not None:\n",
        "      print(\"Node\",current_node.data)\n",
        "      current_node = current_node.next\n",
        "\n",
        "  def delete(self, value_to_be_deleted):\n",
        "    if self.size==0:\n",
        "      print(\"List is empty\")\n",
        "    else:\n",
        "      current_node = self.head\n",
        "      if self.head.data== value_to_be_deleted:\n",
        "        self.pop_left()\n",
        "      else:\n",
        "        while current_node.next is not None:\n",
        "          if current_node.next.data == value_to_be_deleted:\n",
        "            self.size-=1\n",
        "            current_node.next = current_node.next.next\n",
        "            return\n",
        "          else:\n",
        "            current_node = current_node.next      \n",
        "\n",
        "  def clear(self):\n",
        "    self.head = None\n",
        "    \n",
        "  def search(self, search_data):\n",
        "    current_node = self.head\n",
        "    while current_node:\n",
        "      if current_node.data == search_data:\n",
        "        return True\n",
        "      current_node= current_node.next\n",
        "    return False      "
      ],
      "metadata": {
        "id": "vDdbYpzmaI3U"
      },
      "execution_count": null,
      "outputs": []
    },
    {
      "cell_type": "code",
      "source": [
        "s = SinglyLinkedList()\n",
        "s.append(10)\n",
        "s.append(15)\n",
        "s.append(20)\n",
        "s.append_left(25)\n",
        "s.append_after(20, 50)\n",
        "# s.pop_left()\n",
        "# s.pop()\n",
        "s.delete(15)\n",
        "s.print_all()\n",
        "print(s.size)\n",
        "print(s.search(50))"
      ],
      "metadata": {
        "colab": {
          "base_uri": "https://localhost:8080/"
        },
        "id": "oBEuioOtdbi2",
        "outputId": "fda278a2-d046-486d-ab2f-7d24f21a6b57"
      },
      "execution_count": null,
      "outputs": [
        {
          "output_type": "stream",
          "name": "stdout",
          "text": [
            "Node 25\n",
            "Node 10\n",
            "Node 20\n",
            "3\n",
            "False\n"
          ]
        }
      ]
    },
    {
      "cell_type": "code",
      "source": [
        ""
      ],
      "metadata": {
        "id": "I9ZI-9Ksdk32"
      },
      "execution_count": null,
      "outputs": []
    },
    {
      "cell_type": "code",
      "source": [
        "class Node:\n",
        "  def __init__(self, data):\n",
        "    self.data = data\n",
        "    self.next = None\n",
        "\n",
        "class SpecialSinglyLinkedList:\n",
        "  def __init__(self):\n",
        "    self.head = None\n",
        "    self.tail = None\n",
        "    self.size = 0\n",
        "\n",
        "  def append(self, new_data):\n",
        "    new_node = Node(new_data)\n",
        "    if self.head is None:\n",
        "      self.head = new_node\n",
        "      self.tail = new_node\n",
        "    else:\n",
        "      self.tail.next = new_node\n",
        "      self.tail = new_node\n",
        "    self.size+=1  \n",
        "\n",
        "  def print_all(self):\n",
        "    current_node = self.head\n",
        "    while current_node is not None:\n",
        "      print(\"Node\",current_node.data)\n",
        "      current_node = current_node.next\n",
        "\n",
        "a = SpecialSinglyLinkedList()\n",
        "a.append(0)\n",
        "a.append(5)\n",
        "a.append(16)\n",
        "a.print_all()      "
      ],
      "metadata": {
        "colab": {
          "base_uri": "https://localhost:8080/"
        },
        "id": "lBxlzIzHgnMu",
        "outputId": "789b3223-7e2c-422c-f795-3fc5971594ae"
      },
      "execution_count": null,
      "outputs": [
        {
          "output_type": "stream",
          "name": "stdout",
          "text": [
            "Node 0\n",
            "Node 5\n",
            "Node 16\n"
          ]
        }
      ]
    },
    {
      "cell_type": "code",
      "source": [
        "#doubly linked list\n",
        "class Node:\n",
        "  def __init__(self, data):\n",
        "    self.data = data\n",
        "    self.next = None\n",
        "    self.prev = None\n",
        "\n",
        "class DoublyLinkedList:\n",
        "  def __init__(self):\n",
        "   self.head = None\n",
        "   self.tail = None\n",
        "   self.size = 0\n",
        "\n",
        "  def append(self, new_data):\n",
        "    new_node = Node(new_data)\n",
        "    if self.head is None:\n",
        "      self.head = new_node\n",
        "      self.tail = new_node\n",
        "    else:\n",
        "      self.tail.next = new_node\n",
        "      new_node.prev = self.tail\n",
        "      self.tail = new_node\n",
        "    self.size += 1\n",
        "\n",
        "  def print_all(self):\n",
        "    current_node = self.head\n",
        "    while current_node is not None:\n",
        "      print(\"Node\",current_node.data)\n",
        "      current_node = current_node.next\n",
        "\n",
        "  def print_reverse(self):\n",
        "    current_node = self.tail\n",
        "    while current_node is not None:\n",
        "      print(\"Node\",current_node.data)\n",
        "      current_node = current_node.prev\n",
        "\n",
        "  def search(self, search_data):\n",
        "    current_node = self.head\n",
        "    while current_node:\n",
        "      if current_node.data == search_data:\n",
        "        return True\n",
        "      current_node= current_node.next\n",
        "    return False\n",
        "\n",
        "  def delete(self, value_to_be_deleted):\n",
        "    current_node = self.head\n",
        "    while current_node is not None:\n",
        "      if current_node.data==value_to_be_deleted:\n",
        "        if current_node == self.head: #deletion at the starting node\n",
        "          self.head = current_node.next \n",
        "          if current_node == self.tail: #Single node deletion\n",
        "            self.tail = None\n",
        "          else: \n",
        "            current_node.next.prev = None  \n",
        "        elif current_node == self.tail: #deletion at the end\n",
        "          current_node.prev.next = None\n",
        "          self.tail = current_node.prev\n",
        "        else: #deletion in the middle of the list\n",
        "          current_node.prev.next = current_node.next\n",
        "          current_node.next.prev = current_node.prev\n",
        "        self.size -= 1\n",
        "        return\n",
        "      current_node = current_node.next    \n",
        "\n",
        "\n",
        "dll = DoublyLinkedList()\n",
        "dll.append(10)\n",
        "dll.append(20)\n",
        "dll.append(30)\n",
        "dll.delete(10)\n",
        "\n",
        "dll.print_reverse()\n"
      ],
      "metadata": {
        "colab": {
          "base_uri": "https://localhost:8080/"
        },
        "id": "CIkNLMnwSP7y",
        "outputId": "62390014-ec71-46a4-c814-34731cda6024"
      },
      "execution_count": null,
      "outputs": [
        {
          "output_type": "stream",
          "name": "stdout",
          "text": [
            "Node 30\n",
            "Node 20\n"
          ]
        }
      ]
    },
    {
      "cell_type": "markdown",
      "source": [
        "Find the sum of the nodes of a singly linked list"
      ],
      "metadata": {
        "id": "RpsOCNOOkvbW"
      }
    },
    {
      "cell_type": "code",
      "source": [
        "s = SinglyLinkedList()\n",
        "s.append(10)\n",
        "s.append(40)\n",
        "s.append(30)\n",
        "\n",
        "def calculate_sum(s_object):\n",
        "  if s_object.size!=0:\n",
        "    sum = 0\n",
        "    current_node = s_object.head\n",
        "    while current_node is not None:\n",
        "      sum+= current_node.data\n",
        "      current_node = current_node.next\n",
        "    return sum\n",
        "\n",
        "calculate_sum(s)      "
      ],
      "metadata": {
        "colab": {
          "base_uri": "https://localhost:8080/"
        },
        "id": "y96s5bLfT06U",
        "outputId": "12fd6f1a-b0ae-4890-d715-546fec51ccb1"
      },
      "execution_count": null,
      "outputs": [
        {
          "output_type": "execute_result",
          "data": {
            "text/plain": [
              "80"
            ]
          },
          "metadata": {},
          "execution_count": 3
        }
      ]
    },
    {
      "cell_type": "markdown",
      "source": [
        "Identical linked list"
      ],
      "metadata": {
        "id": "aFvjlQFDlL82"
      }
    },
    {
      "cell_type": "code",
      "source": [
        "s1 = SinglyLinkedList()\n",
        "s1.append(10)\n",
        "s1.append(40)\n",
        "s1.append(30)\n",
        "\n",
        "s2 = SinglyLinkedList()\n",
        "s2.append(10)\n",
        "s2.append(40)\n",
        "s2.append(30)\n",
        "\n",
        "def is_identical(list1, list2):\n",
        "  identical =  True\n",
        "  if list1.size!=0 and list2.size!=0:\n",
        "    current_node1 = list1.head\n",
        "    current_node2 = list2.head\n",
        "\n",
        "    while current_node1 is not None:\n",
        "      if current_node1.data == current_node2.data:\n",
        "        identical = True\n",
        "      else:\n",
        "        identical = False\n",
        "        return identical\n",
        "      current_node1 = current_node1.next\n",
        "      current_node2 = current_node2.next\n",
        "\n",
        "  return identical      \n",
        "is_identical(s1,s2)"
      ],
      "metadata": {
        "colab": {
          "base_uri": "https://localhost:8080/"
        },
        "id": "_th5_N2tWcfl",
        "outputId": "ae622c49-778f-4fdd-a2a7-5cd339c9f3ce"
      },
      "execution_count": null,
      "outputs": [
        {
          "output_type": "execute_result",
          "data": {
            "text/plain": [
              "True"
            ]
          },
          "metadata": {},
          "execution_count": 8
        }
      ]
    },
    {
      "cell_type": "markdown",
      "source": [
        "Print all node except alternate nodes"
      ],
      "metadata": {
        "id": "9Q4R7odaler7"
      }
    },
    {
      "cell_type": "code",
      "source": [
        "s = SinglyLinkedList()\n",
        "s.append(10)\n",
        "s.append(20)\n",
        "s.append(30)\n",
        "s.append(40)\n",
        "s.append(50)\n",
        "\n",
        "def print_all_except_alt(s_object):\n",
        "  current_node = s_object.head\n",
        "  counter = 0\n",
        "  if current_node is None:\n",
        "    return\n",
        "  while current_node is not None:\n",
        "    if counter%2==0:\n",
        "      print(current_node.data)\n",
        "    counter+=1\n",
        "    current_node = current_node.next\n",
        "\n",
        "print_all_except_alt(s)"
      ],
      "metadata": {
        "colab": {
          "base_uri": "https://localhost:8080/"
        },
        "id": "0_11ECDVZZld",
        "outputId": "14c93c03-e198-4bd1-cc29-3f1d17b4e831"
      },
      "execution_count": null,
      "outputs": [
        {
          "output_type": "stream",
          "name": "stdout",
          "text": [
            "10\n",
            "30\n",
            "50\n"
          ]
        }
      ]
    },
    {
      "cell_type": "markdown",
      "source": [
        "Print a dictionary where the keys are numbers between 1 and 15 and the values are square of keys"
      ],
      "metadata": {
        "id": "T69csS0dblmd"
      }
    },
    {
      "cell_type": "code",
      "source": [
        "my_dictionary = dict()\n",
        "for x in range(15,0, -1):\n",
        "  my_dictionary[x] = x**2\n",
        "\n",
        "print(my_dictionary)  "
      ],
      "metadata": {
        "colab": {
          "base_uri": "https://localhost:8080/"
        },
        "id": "ec_KpuThb7wc",
        "outputId": "ef69b4b3-3a9f-4389-ed2b-43744570df79"
      },
      "execution_count": null,
      "outputs": [
        {
          "output_type": "stream",
          "name": "stdout",
          "text": [
            "{15: 225, 14: 196, 13: 169, 12: 144, 11: 121, 10: 100, 9: 81, 8: 64, 7: 49, 6: 36, 5: 25, 4: 16, 3: 9, 2: 4, 1: 1}\n"
          ]
        }
      ]
    },
    {
      "cell_type": "markdown",
      "source": [
        "print the sum of all items(value) in a dictionary"
      ],
      "metadata": {
        "id": "WBlOibVJdp4F"
      }
    },
    {
      "cell_type": "code",
      "source": [
        "my_dictionary = {'data1':100, 'data2':-54, 'data3': 247}\n",
        "print(sum(my_dictionary.values()))"
      ],
      "metadata": {
        "colab": {
          "base_uri": "https://localhost:8080/"
        },
        "id": "XjTxPoqAd0kV",
        "outputId": "b776525f-a89b-4dab-83d7-e78cda70db31"
      },
      "execution_count": null,
      "outputs": [
        {
          "output_type": "stream",
          "name": "stdout",
          "text": [
            "293\n"
          ]
        }
      ]
    },
    {
      "cell_type": "code",
      "source": [
        "def sum_of_dictionary(d):\n",
        "  list = []\n",
        "  for i in d:\n",
        "    list.append(d[i])\n",
        "\n",
        "  return sum(list)\n",
        "\n",
        "sum_of_dictionary(my_dictionary)    "
      ],
      "metadata": {
        "colab": {
          "base_uri": "https://localhost:8080/"
        },
        "id": "c10fSBeBeNVl",
        "outputId": "0c8e342d-8820-40d5-ce14-72260155a690"
      },
      "execution_count": null,
      "outputs": [
        {
          "output_type": "execute_result",
          "data": {
            "text/plain": [
              "293"
            ]
          },
          "metadata": {},
          "execution_count": 15
        }
      ]
    },
    {
      "cell_type": "markdown",
      "source": [
        "Add two 3*3 matrices"
      ],
      "metadata": {
        "id": "yToFVYVrfRiN"
      }
    },
    {
      "cell_type": "code",
      "source": [
        "x = [[12,7,3], [4,5,6], [7,8,9]]\n",
        "y = [[5,8,1],[6,7,3], [4,5,9]]\n",
        "\n",
        "z = [[0,0,0],[0,0,0],[0,0,0]]\n",
        "\n",
        "for i in range(len(x)):\n",
        "  for j in range(len(x[0])):\n",
        "    z[i][j] = x[i][j] + y[i][j]\n",
        "\n",
        "for i in z:\n",
        "  print(i)    "
      ],
      "metadata": {
        "colab": {
          "base_uri": "https://localhost:8080/"
        },
        "id": "SwouHuR8gGU1",
        "outputId": "2f726576-d1d2-4f97-e307-6b3857ad8c55"
      },
      "execution_count": null,
      "outputs": [
        {
          "output_type": "stream",
          "name": "stdout",
          "text": [
            "[17, 15, 4]\n",
            "[10, 12, 9]\n",
            "[11, 13, 18]\n"
          ]
        }
      ]
    },
    {
      "cell_type": "markdown",
      "source": [
        "# Recursion"
      ],
      "metadata": {
        "id": "csgo2TMPM4Uu"
      }
    },
    {
      "cell_type": "code",
      "source": [
        "def sum(x, y):\n",
        "  z = x+y\n",
        "  return z\n",
        "\n",
        "def square_of_sum(a, b):\n",
        "  c = sum(a,b)\n",
        "  d = c**2\n",
        "  return d\n",
        "\n",
        "number1 = 2\n",
        "number2 = 3\n",
        "result = square_of_sum(number1, number2)\n",
        "print(result)"
      ],
      "metadata": {
        "id": "iXhMEymqM9it",
        "colab": {
          "base_uri": "https://localhost:8080/"
        },
        "outputId": "c2c4da5c-75c1-45c6-f986-5c185d985b4f"
      },
      "execution_count": null,
      "outputs": [
        {
          "output_type": "stream",
          "name": "stdout",
          "text": [
            "25\n"
          ]
        }
      ]
    },
    {
      "cell_type": "code",
      "source": [
        "def hello():\n",
        "  print(\"hi\")\n",
        "  hello()\n",
        "\n",
        "hello()  "
      ],
      "metadata": {
        "id": "ZnDw4w2RXLdi"
      },
      "execution_count": null,
      "outputs": []
    },
    {
      "cell_type": "code",
      "source": [
        "def recursive_number(i):\n",
        "  if i<10:\n",
        "    i+=1\n",
        "    recursive_number(i)\n",
        "    print(i)\n",
        "\n",
        "recursive_number(5)  "
      ],
      "metadata": {
        "colab": {
          "base_uri": "https://localhost:8080/"
        },
        "id": "_LtvVs8DgYnQ",
        "outputId": "305d5af8-bd3a-481b-cbe2-2c17e9d35b2d"
      },
      "execution_count": null,
      "outputs": [
        {
          "output_type": "stream",
          "name": "stdout",
          "text": [
            "10\n",
            "9\n",
            "8\n",
            "7\n",
            "6\n"
          ]
        }
      ]
    },
    {
      "cell_type": "code",
      "source": [
        "def factorial(n):\n",
        "  if n>1:\n",
        "    return n*factorial(n-1)\n",
        "  return 1\n",
        "\n",
        "factorial(4)    "
      ],
      "metadata": {
        "colab": {
          "base_uri": "https://localhost:8080/"
        },
        "id": "3gHsXFFjk_ZG",
        "outputId": "c964a7f8-5b72-4957-fb4f-4588af0ce2ad"
      },
      "execution_count": null,
      "outputs": [
        {
          "output_type": "execute_result",
          "data": {
            "text/plain": [
              "24"
            ]
          },
          "metadata": {},
          "execution_count": 7
        }
      ]
    },
    {
      "cell_type": "markdown",
      "source": [
        "Practice problem: fibonacci number using recursion"
      ],
      "metadata": {
        "id": "zJWX4gLypk77"
      }
    },
    {
      "cell_type": "code",
      "source": [
        "# Function for nth Fibonacci number\n",
        "def Fibonacci(n):\n",
        "   \n",
        "  # Check if input is 0 then it will\n",
        "  # print incorrect input\n",
        "  if n < 0:\n",
        "    print(\"Incorrect input\")\n",
        "\n",
        "  # Check if n is 0\n",
        "  # then it will return 0\n",
        "  elif n == 0:\n",
        "    return 0\n",
        "\n",
        "  # Check if n is 1,2\n",
        "  # it will return 1\n",
        "  elif n == 1 or n == 2:\n",
        "    return 1\n",
        "\n",
        "  else:\n",
        "    return Fibonacci(n-1) + Fibonacci(n-2)\n",
        " \n",
        "# Driver Program\n",
        "print(Fibonacci(7))"
      ],
      "metadata": {
        "id": "6ul-UuyspozD"
      },
      "execution_count": null,
      "outputs": []
    },
    {
      "cell_type": "code",
      "source": [
        ""
      ],
      "metadata": {
        "id": "hs_vrr0ngDuA"
      },
      "execution_count": null,
      "outputs": []
    },
    {
      "cell_type": "markdown",
      "source": [
        "# BST"
      ],
      "metadata": {
        "id": "0OtssoCCgF7I"
      }
    },
    {
      "cell_type": "code",
      "source": [
        "class Node:\n",
        "  def __init__(self, data):\n",
        "    self.data = data\n",
        "    self.left_child = None\n",
        "    self.right_child = None\n",
        "\n",
        "n1 = Node(\"A\")\n",
        "n2 = Node(\"B\")\n",
        "n3 = Node(\"C\")\n",
        "n4 = Node(\"E\")\n",
        "\n",
        "n1.left_child = n3\n",
        "n1.right_child = n2\n",
        "n2.left_child = n4\n",
        "\n",
        "current_node = n1\n",
        "while current_node is not None:\n",
        "  print(current_node.data)\n",
        "  current_node = current_node.left_child\n"
      ],
      "metadata": {
        "colab": {
          "base_uri": "https://localhost:8080/"
        },
        "id": "T8QGTRp7gH5w",
        "outputId": "061e900e-a4ce-45ad-8661-31a0271afd96"
      },
      "execution_count": null,
      "outputs": [
        {
          "output_type": "stream",
          "name": "stdout",
          "text": [
            "A\n",
            "C\n"
          ]
        }
      ]
    },
    {
      "cell_type": "code",
      "source": [
        "from collections import deque\n",
        "class Node:\n",
        "  def __init__(self, data):\n",
        "    self.data = data\n",
        "    self.left_child = None\n",
        "    self.right_child = None\n",
        "\n",
        "class BinarySearchTree:\n",
        "  def __init__(self, root=None):\n",
        "    self.root = root\n",
        "\n",
        "  def find_min(self):\n",
        "    current_node = self.root\n",
        "    while current_node.left_child is not None:\n",
        "      current_node = current_node.left_child\n",
        "    return current_node  \n",
        "\n",
        "  def find_max(self):\n",
        "    current_node = self.root\n",
        "    while current_node.right_child is not None:\n",
        "      current_node = current_node.right_child\n",
        "    return current_node\n",
        "\n",
        "  def search(self, search_data):\n",
        "    current_node = self.root\n",
        "    while True:\n",
        "      if current_node is None:\n",
        "        return None\n",
        "      elif current_node.data==search_data:\n",
        "        return search_data  \n",
        "      elif current_node.data>search_data:\n",
        "        current_node = current_node.left_child\n",
        "      else:\n",
        "         current_node = current_node.right_child\n",
        "          \n",
        "  def insert(self, data):\n",
        "    new_node = Node(data)\n",
        "    if self.root is None:\n",
        "      self.root = new_node\n",
        "    else:\n",
        "      current_node = self.root\n",
        "      parent = None\n",
        "      while True:\n",
        "        parent = current_node\n",
        "        if new_node.data < current_node.data:\n",
        "          current_node = current_node.left_child\n",
        "          if current_node is None:\n",
        "            parent.left_child = new_node\n",
        "            return\n",
        "        else:\n",
        "          current_node = current_node.right_child\n",
        "          if current_node is None:\n",
        "            parent.right_child = new_node\n",
        "            return \n",
        "\n",
        "  def preorder(self, root_node):\n",
        "    current_node = root_node\n",
        "    if current_node is None:\n",
        "      return\n",
        "    print(current_node.data)\n",
        "    self.preorder(current_node.left_child)\n",
        "    self.preorder(current_node.right_child)\n",
        "\n",
        "  def inorder(self, root_node):\n",
        "    current_node = root_node\n",
        "    if current_node is None:\n",
        "      return\n",
        "    self.inorder(current_node.left_child)\n",
        "    print(current_node.data)\n",
        "    self.inorder(current_node.right_child)\n",
        "\n",
        "  def postorder(self, root_node):\n",
        "    current_node = root_node\n",
        "    if current_node is None:\n",
        "      return\n",
        "    self.postorder(current_node.left_child)\n",
        "    self.postorder(current_node.right_child)\n",
        "    print(current_node.data)\n",
        "\n",
        "  def breadth_first_search(self):\n",
        "    list_of_nodes = []\n",
        "    helping_queue = deque([self.root])\n",
        "    while len(helping_queue)>0:\n",
        "      target_node = helping_queue.popleft()\n",
        "      list_of_nodes.append(target_node.data)\n",
        "      if target_node.left_child is not None:\n",
        "        helping_queue.append(target_node.left_child)\n",
        "      if target_node.right_child is not None:\n",
        "        helping_queue.append(target_node.right_child)\n",
        "    return list_of_nodes\n",
        "\n",
        "  #height = highest level + 1\n",
        "  def get_height(self, node):\n",
        "    if node is None:\n",
        "      return -1\n",
        "    else:\n",
        "      lDepth=self.get_height(node.left_child)\n",
        "      rDepth=self.get_height(node.right_child)\n",
        "\n",
        "      if lDepth>rDepth:\n",
        "        return lDepth + 1\n",
        "      else:\n",
        "        return rDepth + 1                                  "
      ],
      "metadata": {
        "id": "3US8L2zwjVPB"
      },
      "execution_count": null,
      "outputs": []
    },
    {
      "cell_type": "code",
      "source": [
        "bst = BinarySearchTree()\n",
        "bst.insert(10)\n",
        "bst.insert(3)\n",
        "bst.insert(11)\n",
        "bst.insert(2)\n",
        "bst.insert(7)\n",
        "bst.insert(8)\n",
        "bst.insert(9)\n",
        "bst.insert(1)\n",
        "\n",
        "print(\"Min node:\", bst.find_min().data)\n",
        "print(\"Max node:\", bst.find_max().data)\n",
        "\n",
        "\n",
        "bst.inorder(bst.root)\n",
        "bst.breadth_first_search()\n",
        "\n",
        "print(\"Height:\",bst.get_height(bst.root)+1)"
      ],
      "metadata": {
        "colab": {
          "base_uri": "https://localhost:8080/"
        },
        "id": "fRuO6d1RrOpa",
        "outputId": "18d04b11-7c3a-4b00-f0b9-5bdf26a16fb4"
      },
      "execution_count": null,
      "outputs": [
        {
          "output_type": "stream",
          "name": "stdout",
          "text": [
            "Min node: 1\n",
            "Max node: 11\n",
            "1\n",
            "2\n",
            "3\n",
            "7\n",
            "8\n",
            "9\n",
            "10\n",
            "11\n",
            "5\n"
          ]
        }
      ]
    },
    {
      "cell_type": "markdown",
      "source": [
        ""
      ],
      "metadata": {
        "id": "eNN5HUNQg0tv"
      }
    },
    {
      "cell_type": "markdown",
      "source": [
        "# Graph"
      ],
      "metadata": {
        "id": "mPvKbxfJg20w"
      }
    },
    {
      "cell_type": "code",
      "source": [
        "from collections import Counter\n",
        "graph = dict()\n",
        "graph['a'] = ['c','d','e']\n",
        "graph['b'] = []\n",
        "graph['c'] = ['a', 'e']\n",
        "graph['d'] = ['a', 'e']\n",
        "graph['e'] = ['a','c','d']\n",
        "\n",
        "for x in graph:\n",
        "  print(x, ':', graph[x])\n",
        "\n",
        "#degree of undirected graph\n",
        "#outdegree of directed graph\n",
        "for x in graph:\n",
        "  print(\"Out Degree of \", x, \":\", len(graph[x]))\n",
        "\n",
        "#indegree of directed graph\n",
        "merged_list = []\n",
        "for x in graph:\n",
        "  merged_list+=graph[x]\n",
        "indegree = Counter(merged_list)\n",
        "for x in indegree:\n",
        "  print(\"Indegree of \",x, \":\", indegree[x])\n"
      ],
      "metadata": {
        "colab": {
          "base_uri": "https://localhost:8080/"
        },
        "id": "YYHtBQfzg4qA",
        "outputId": "0e9b7d1b-0f27-4259-9644-3b3ab10c5d92"
      },
      "execution_count": null,
      "outputs": [
        {
          "output_type": "stream",
          "name": "stdout",
          "text": [
            "a : ['c', 'd', 'e']\n",
            "b : []\n",
            "c : ['a', 'e']\n",
            "d : ['a', 'e']\n",
            "e : ['a', 'c', 'd']\n",
            "Out Degree of  a : 3\n",
            "Out Degree of  b : 0\n",
            "Out Degree of  c : 2\n",
            "Out Degree of  d : 2\n",
            "Out Degree of  e : 3\n",
            "Indegree of  c : 2\n",
            "Indegree of  d : 2\n",
            "Indegree of  e : 3\n",
            "Indegree of  a : 3\n"
          ]
        }
      ]
    },
    {
      "cell_type": "code",
      "source": [
        "n=4\n",
        "graph_matrix = [[0 for i in range(n)]for j in range(n)]\n",
        "\n",
        "graph_matrix[0][1]=1\n",
        "graph_matrix[0][3]=1\n",
        "graph_matrix[2][0]=1\n",
        "graph_matrix[2][1]=1\n",
        "graph_matrix[3][2]=1\n",
        "\n",
        "for x in graph_matrix:\n",
        "  print(x)\n",
        "\n",
        "for i in range(0,n):\n",
        "  sumRow=0\n",
        "  for j in range(0,n):\n",
        "    sumRow = sumRow+graph_matrix[i][j]\n",
        "  print(\"Outdegree of \",i,\":\",sumRow)\n",
        "\n",
        "for i in range(0,n):\n",
        "  sumCol=0\n",
        "  for j in range(0,n):\n",
        "    sumCol = sumCol+graph_matrix[j][i]\n",
        "  print(\"Indegree of \",i,\":\",sumCol)    "
      ],
      "metadata": {
        "colab": {
          "base_uri": "https://localhost:8080/"
        },
        "id": "tGGxAXgNv0AC",
        "outputId": "2f4acc6c-ee2e-4731-8ab2-0a483ead9f15"
      },
      "execution_count": null,
      "outputs": [
        {
          "output_type": "stream",
          "name": "stdout",
          "text": [
            "[0, 1, 0, 1]\n",
            "[0, 0, 0, 0]\n",
            "[1, 1, 0, 0]\n",
            "[0, 0, 1, 0]\n",
            "Outdegree of  0 : 2\n",
            "Outdegree of  1 : 0\n",
            "Outdegree of  2 : 2\n",
            "Outdegree of  3 : 1\n",
            "Indegree of  0 : 1\n",
            "Indegree of  1 : 2\n",
            "Indegree of  2 : 1\n",
            "Indegree of  3 : 1\n"
          ]
        }
      ]
    },
    {
      "cell_type": "code",
      "source": [
        "from collections import Counter\n",
        "graph = dict()\n",
        "graph['a'] = ['b','c','e']\n",
        "graph['b'] = []\n",
        "graph['c'] = ['e']\n",
        "graph['d'] = ['a']\n",
        "graph['e'] = ['d']\n",
        "\n",
        "def dfs(visited, graph, node):\n",
        "  if node not in visited:\n",
        "    print(node)\n",
        "    visited.add(node)\n",
        "    for adjacent_node in graph[node]:\n",
        "      dfs(visited, graph, adjacent_node)\n",
        "\n",
        "visited = set()\n",
        "dfs(visited, graph, 'a')      "
      ],
      "metadata": {
        "colab": {
          "base_uri": "https://localhost:8080/"
        },
        "id": "r5vtEM3Ev1u8",
        "outputId": "c9e02c31-ff7f-4170-d7ef-e40dfed392f6"
      },
      "execution_count": null,
      "outputs": [
        {
          "output_type": "stream",
          "name": "stdout",
          "text": [
            "a\n",
            "b\n",
            "c\n",
            "e\n",
            "d\n"
          ]
        }
      ]
    },
    {
      "cell_type": "code",
      "source": [
        "from collections import deque\n",
        "graph = dict()\n",
        "graph['a'] = ['b','c','d']\n",
        "graph['b'] = []\n",
        "graph['c'] = ['e','f']\n",
        "graph['d'] = []\n",
        "graph['e'] = ['a','d']\n",
        "graph['f'] = []\n",
        "\n",
        "def bfs(graph, start_node):\n",
        "  visited = list()\n",
        "  helping_queue = deque([start_node])\n",
        "  visited.append(start_node)\n",
        "  target_node = start_node\n",
        "  while len(helping_queue)>0:\n",
        "    target_node = helping_queue.popleft()\n",
        "    adj_nodes = graph[target_node]\n",
        "    remaining_elements = set(adj_nodes).difference(set(visited))\n",
        "    if len(remaining_elements)>0:\n",
        "      for element in sorted(remaining_elements):\n",
        "        visited.append(element)\n",
        "        helping_queue.append(element)\n",
        "  return visited\n",
        "\n",
        "\n",
        "print(bfs(graph,'a'))"
      ],
      "metadata": {
        "colab": {
          "base_uri": "https://localhost:8080/"
        },
        "id": "KS0qtZ32oN6y",
        "outputId": "c8a8b7cc-2ceb-4a14-d379-841930e35323"
      },
      "execution_count": null,
      "outputs": [
        {
          "output_type": "stream",
          "name": "stdout",
          "text": [
            "['a', 'b', 'c', 'd', 'e', 'f']\n"
          ]
        }
      ]
    },
    {
      "cell_type": "code",
      "source": [
        "from collections import deque\n",
        "graph = dict()\n",
        "graph['a'] = ['c','d','e']\n",
        "graph['b'] = ['c']\n",
        "graph['c'] = ['a', 'e', 'b']\n",
        "graph['d'] = ['a', 'e']\n",
        "graph['e'] = ['a','c','d']\n",
        "\n",
        "def print_levels(graph, root):\n",
        "  visited = list()\n",
        "  helping_queue = deque([root])\n",
        "  visited.append(root)\n",
        "  target_node = root\n",
        "  levels = dict()\n",
        "  count=0\n",
        "  levels[0] = [root]\n",
        "  while len(helping_queue)>0:\n",
        "    target_node = helping_queue.popleft()\n",
        "    adj_nodes = graph[target_node]\n",
        "    remaining_elements = set(adj_nodes).difference(set(visited))\n",
        "\n",
        "    if len(remaining_elements)!=0:\n",
        "      count+=1\n",
        "      levels[count] = list(remaining_elements)\n",
        "    if len(remaining_elements)>0:\n",
        "      for element in sorted(remaining_elements):\n",
        "        visited.append(element)\n",
        "        helping_queue.append(element)\n",
        "  \n",
        "  print(levels)\n",
        "  return visited\n",
        "\n",
        "print_levels(graph,'a')\n",
        "\n",
        "def find_common_adjacent_node(node1, node2):\n",
        "  list1 = []\n",
        "  list2 = []\n",
        "  for adjacent_node in graph[node1]:\n",
        "    list1.append(adjacent_node)\n",
        "  for adjacent_node in graph[node2]:\n",
        "    list2.append(adjacent_node)\n",
        "\n",
        "  count=0\n",
        "  for x in list1:\n",
        "    if x in list2:\n",
        "      print(x)\n",
        "      count+=1\n",
        "  if count==0:\n",
        "    print(\"No adjacent node\")\n",
        "\n",
        "find_common_adjacent_node('a', 'd')            "
      ],
      "metadata": {
        "colab": {
          "base_uri": "https://localhost:8080/"
        },
        "id": "bPPIWOi6wzB2",
        "outputId": "a4b93a98-43aa-4e04-e573-5ca29608f509"
      },
      "execution_count": null,
      "outputs": [
        {
          "output_type": "stream",
          "name": "stdout",
          "text": [
            "{0: ['a'], 1: ['c', 'd', 'e'], 2: ['b']}\n",
            "e\n"
          ]
        }
      ]
    },
    {
      "cell_type": "markdown",
      "source": [
        "# Hashing"
      ],
      "metadata": {
        "id": "YuQ0bYKwlZFI"
      }
    },
    {
      "cell_type": "code",
      "source": [
        "#separate chaining\n",
        "from collections import deque\n",
        "table_size = 10\n",
        "hash_table = dict((k, deque()) for k in range(table_size))\n",
        "\n",
        "def hash_function(k):\n",
        "  return k%table_size\n",
        "\n",
        "def put(new_data):\n",
        "  key = hash_function(new_data)\n",
        "  hash_table[key].appendleft(new_data)\n",
        "\n",
        "def search(search_data):\n",
        "  key = hash_function(search_data)\n",
        "  if search_data in hash_table[key]:\n",
        "    return True\n",
        "  else:\n",
        "    return False  \n",
        "\n",
        "def delete(data):\n",
        "  key = hash_function(data)\n",
        "  if data in hash_table[key]:\n",
        "    hash_table[key].remove(data)\n",
        "  else:\n",
        "    print(\"Element does not exist\")\n",
        "\n",
        "put(35)\n",
        "put(67)\n",
        "put(45)\n",
        "print(search(35))\n",
        "delete(35)\n",
        "print(search(35))\n",
        "for x in hash_table:\n",
        "  print(x, \":\", hash_table[x])\n",
        "  "
      ],
      "metadata": {
        "colab": {
          "base_uri": "https://localhost:8080/"
        },
        "id": "8T9FxAF8larK",
        "outputId": "2e677280-dd70-4a11-e5cb-c12ab0e0b75d"
      },
      "execution_count": null,
      "outputs": [
        {
          "output_type": "stream",
          "name": "stdout",
          "text": [
            "True\n",
            "False\n",
            "0 : deque([])\n",
            "1 : deque([])\n",
            "2 : deque([])\n",
            "3 : deque([])\n",
            "4 : deque([])\n",
            "5 : deque([45])\n",
            "6 : deque([])\n",
            "7 : deque([67])\n",
            "8 : deque([])\n",
            "9 : deque([])\n"
          ]
        }
      ]
    },
    {
      "cell_type": "code",
      "source": [
        "#linear probing\n",
        "\n",
        "table_size = 10\n",
        "hash_table = dict((k, None) for k in range(table_size))\n",
        "\n",
        "def hash_function(k):\n",
        "  return k%table_size\n",
        "\n",
        "def count_none():\n",
        "  return list(hash_table.values()).count(None)\n",
        "\n",
        "def put(new_data):\n",
        "  if count_none()!=0:\n",
        "    key = hash_function(new_data)\n",
        "    while hash_table[key] is not None:\n",
        "      key = (key+1) % table_size\n",
        "    hash_table[key] = new_data\n",
        "  else:\n",
        "    print(\"Hash table is full\")\n",
        "\n",
        "def search(search_data):\n",
        "  count = 0\n",
        "  key = hash_function(search_data)\n",
        "  while hash_table[key] is not search_data:\n",
        "    key = (key+1) % table_size\n",
        "    count+=1\n",
        "    if count==table_size:\n",
        "      break\n",
        "  if hash_table[key] is search_data:\n",
        "    return True\n",
        "  else:\n",
        "    return False\n",
        "\n",
        "def delete(data):\n",
        "  count = 0\n",
        "  key = hash_function(data)\n",
        "  while hash_table[key] is not data:\n",
        "    key = (key+1) % table_size\n",
        "    count+=1\n",
        "    if count==table_size:\n",
        "      break\n",
        "  if hash_table[key] is data:\n",
        "    hash_table[key] = None\n",
        "  else:\n",
        "    print(\"Element does not exist\")\n",
        "\n",
        "put(45)\n",
        "put(35)\n",
        "put(25)\n",
        "put(36)\n",
        "put(22)\n",
        "put(99)\n",
        "put(62)\n",
        "put(77)\n",
        "put(44)\n",
        "put(100)\n",
        "put(102)\n",
        "\n",
        "print(search(45))\n",
        "delete(25)\n",
        "for x in hash_table:\n",
        "  print(x, \":\", hash_table[x])"
      ],
      "metadata": {
        "colab": {
          "base_uri": "https://localhost:8080/"
        },
        "id": "GWKpuiEBrDMh",
        "outputId": "5d04011d-0ead-4efc-d4d5-5f7fbd88b9ec"
      },
      "execution_count": null,
      "outputs": [
        {
          "output_type": "stream",
          "name": "stdout",
          "text": [
            "Hash table is full\n",
            "True\n",
            "0 : 77\n",
            "1 : 100\n",
            "2 : 22\n",
            "3 : 62\n",
            "4 : 44\n",
            "5 : 45\n",
            "6 : 35\n",
            "7 : None\n",
            "8 : 36\n",
            "9 : 99\n"
          ]
        }
      ]
    },
    {
      "cell_type": "code",
      "source": [
        ""
      ],
      "metadata": {
        "id": "woWWXPQQrev6"
      },
      "execution_count": null,
      "outputs": []
    },
    {
      "cell_type": "markdown",
      "source": [
        "# Doubly linked list"
      ],
      "metadata": {
        "id": "KSuCAboVDnl-"
      }
    },
    {
      "cell_type": "code",
      "source": [
        "#doubly linked list\n",
        "class Node:\n",
        "  def __init__(self, data):\n",
        "    self.data = data\n",
        "    self.next = None\n",
        "    self.prev = None\n",
        "\n",
        "class DoublyLinkedList:\n",
        "  def __init__(self):\n",
        "   self.head = None\n",
        "   self.tail = None\n",
        "   self.size = 0\n",
        "\n",
        "  def append(self, new_data):\n",
        "    new_node = Node(new_data)\n",
        "    if self.head is None:\n",
        "      self.head = new_node\n",
        "      self.tail = new_node\n",
        "    else:\n",
        "      self.tail.next = new_node\n",
        "      new_node.prev = self.tail\n",
        "      self.tail = new_node\n",
        "    self.size += 1\n",
        "\n",
        "  def print_all(self):\n",
        "    current_node = self.head\n",
        "    while current_node is not None:\n",
        "      print(\"Node\",current_node.data)\n",
        "      current_node = current_node.next\n",
        "\n",
        "  def print_reverse(self):\n",
        "    current_node = self.tail\n",
        "    while current_node is not None:\n",
        "      print(\"Node\",current_node.data)\n",
        "      current_node = current_node.prev\n",
        "\n",
        "  def search(self, search_data):\n",
        "    current_node = self.head\n",
        "    while current_node:\n",
        "      if current_node.data == search_data:\n",
        "        return True\n",
        "      current_node= current_node.next\n",
        "    return False\n",
        "\n",
        "  def delete(self, value_to_be_deleted):\n",
        "    current_node = self.head\n",
        "    while current_node is not None:\n",
        "      if current_node.data==value_to_be_deleted:\n",
        "        if current_node == self.head: #deletion at the starting node\n",
        "          self.head = current_node.next \n",
        "          if current_node == self.tail: #Single node deletion\n",
        "            self.tail = None\n",
        "          else: \n",
        "            current_node.next.prev = None  \n",
        "        elif current_node == self.tail: #deletion at the end\n",
        "          current_node.prev.next = None\n",
        "          self.tail = current_node.prev\n",
        "        else: #deletion in the middle of the list\n",
        "          current_node.prev.next = current_node.next\n",
        "          current_node.next.prev = current_node.prev\n",
        "        self.size -= 1\n",
        "        return\n",
        "      current_node = current_node.next    \n",
        "\n",
        "\n",
        "dll = DoublyLinkedList()\n",
        "dll.append(10)\n",
        "dll.append(20)\n",
        "dll.append(30)\n",
        "dll.delete(10)\n",
        "\n",
        "dll.print_reverse()\n"
      ],
      "metadata": {
        "colab": {
          "base_uri": "https://localhost:8080/"
        },
        "outputId": "62390014-ec71-46a4-c814-34731cda6024",
        "id": "KYeCkDRuDpjA"
      },
      "execution_count": null,
      "outputs": [
        {
          "output_type": "stream",
          "name": "stdout",
          "text": [
            "Node 30\n",
            "Node 20\n"
          ]
        }
      ]
    }
  ]
}