{
  "cells": [
    {
      "cell_type": "markdown",
      "metadata": {
        "id": "IA3F7H7W6czW"
      },
      "source": [
        "# 1. Basic programming"
      ]
    },
    {
      "cell_type": "code",
      "execution_count": null,
      "metadata": {
        "colab": {
          "base_uri": "https://localhost:8080/"
        },
        "id": "cnpLjMeb6czY",
        "outputId": "f915bec5-f5f5-4507-daa0-1f2e1476b320"
      },
      "outputs": [
        {
          "name": "stdout",
          "output_type": "stream",
          "text": [
            "Python 3.7.13\n"
          ]
        }
      ],
      "source": [
        "!python --version"
      ]
    },
    {
      "cell_type": "code",
      "execution_count": null,
      "metadata": {
        "colab": {
          "base_uri": "https://localhost:8080/"
        },
        "id": "eGhc2lUT6czZ",
        "outputId": "b515161c-23f7-4bf6-8896-eb6d9d9e36c2"
      },
      "outputs": [
        {
          "name": "stdout",
          "output_type": "stream",
          "text": [
            "Hello World\n"
          ]
        }
      ],
      "source": [
        "print(\"Hello World\")"
      ]
    },
    {
      "cell_type": "code",
      "execution_count": null,
      "metadata": {
        "colab": {
          "base_uri": "https://localhost:8080/"
        },
        "id": "-SpEBsN56czZ",
        "outputId": "b66d1079-e6f0-4f9f-8e60-42a6e6618e43"
      },
      "outputs": [
        {
          "name": "stdout",
          "output_type": "stream",
          "text": [
            "this is rafid\"s car\n"
          ]
        }
      ],
      "source": [
        "print('this is rafid\"s car')"
      ]
    },
    {
      "cell_type": "code",
      "execution_count": null,
      "metadata": {
        "colab": {
          "base_uri": "https://localhost:8080/"
        },
        "id": "dfzlKwk86cza",
        "outputId": "a506f8cd-6fe1-471e-980b-fab1a1005c59"
      },
      "outputs": [
        {
          "name": "stdout",
          "output_type": "stream",
          "text": [
            "this is rafid's car\n",
            "this is rafid's car\n",
            "this is rafid's car\n",
            "this is rafid's car\n",
            "this is rafid's car\n"
          ]
        }
      ],
      "source": [
        "print(\"this is rafid's car\")\n",
        "print(\"this is rafid's car\")\n",
        "print(\"this is rafid's car\")\n",
        "print(\"this is rafid's car\")\n",
        "print(\"this is rafid's car\")"
      ]
    },
    {
      "cell_type": "code",
      "execution_count": null,
      "metadata": {
        "colab": {
          "base_uri": "https://localhost:8080/"
        },
        "id": "C__n58dV6cza",
        "outputId": "2a3784fe-6429-4720-f7a7-45ca97d93b49"
      },
      "outputs": [
        {
          "name": "stdout",
          "output_type": "stream",
          "text": [
            "this is rafid's car,this is rafid's car,this is rafid's car,this is rafid's car,this is rafid's car "
          ]
        }
      ],
      "source": [
        "print(\"this is rafid's car\",end=\",\") # \\n -> endl,break\n",
        "print(\"this is rafid's car\",end=\",\")\n",
        "print(\"this is rafid's car\",end=\",\")\n",
        "print(\"this is rafid's car\",end=\",\")\n",
        "print(\"this is rafid's car\",end=\" \")"
      ]
    },
    {
      "cell_type": "code",
      "execution_count": null,
      "metadata": {
        "colab": {
          "base_uri": "https://localhost:8080/"
        },
        "id": "R16nf16v6cza",
        "outputId": "7b693422-3076-4f6c-9fbb-9d8c6e965713"
      },
      "outputs": [
        {
          "name": "stdout",
          "output_type": "stream",
          "text": [
            "Rafid\n",
            "<class 'str'>\n"
          ]
        }
      ],
      "source": [
        "a = \"Rafid\"\n",
        "print(a)\n",
        "print(type(a))"
      ]
    },
    {
      "cell_type": "code",
      "execution_count": null,
      "metadata": {
        "colab": {
          "base_uri": "https://localhost:8080/"
        },
        "id": "cztuvc4c6cza",
        "outputId": "c8c929bb-3750-46f0-a7d8-5f02129aedd4"
      },
      "outputs": [
        {
          "name": "stdout",
          "output_type": "stream",
          "text": [
            "15\n"
          ]
        }
      ],
      "source": [
        "a = 5\n",
        "a = 7\n",
        "a = 10.5\n",
        "a = 15\n",
        "\n",
        "print(a)"
      ]
    },
    {
      "cell_type": "code",
      "execution_count": null,
      "metadata": {
        "colab": {
          "base_uri": "https://localhost:8080/"
        },
        "id": "0zjNmDKY6czb",
        "outputId": "10718eb8-2977-459a-8194-f4736ff3674b"
      },
      "outputs": [
        {
          "name": "stdout",
          "output_type": "stream",
          "text": [
            "12\n"
          ]
        }
      ],
      "source": [
        "a = 5 \n",
        "b = 7\n",
        "\n",
        "c = a+b\n",
        "\n",
        "print(c)"
      ]
    },
    {
      "cell_type": "code",
      "execution_count": null,
      "metadata": {
        "colab": {
          "base_uri": "https://localhost:8080/"
        },
        "id": "rar2S0Xs6czb",
        "outputId": "ef137d0a-2334-431f-907a-235bb7924c31"
      },
      "outputs": [
        {
          "name": "stdout",
          "output_type": "stream",
          "text": [
            "10\n",
            "20\n",
            "<class 'str'>\n",
            "<class 'str'>\n",
            "<class 'int'>\n",
            "<class 'int'>\n",
            "30\n"
          ]
        }
      ],
      "source": [
        "a = input()\n",
        "b = input()\n",
        "\n",
        "print(type(a))\n",
        "print(type(b))\n",
        "\n",
        "a = int(a)\n",
        "b = int(b)\n",
        "\n",
        "print(type(a))\n",
        "print(type(b))\n",
        "c = a+b\n",
        "\n",
        "print(c)"
      ]
    },
    {
      "cell_type": "code",
      "execution_count": null,
      "metadata": {
        "colab": {
          "base_uri": "https://localhost:8080/"
        },
        "id": "D0dQpDP66czb",
        "outputId": "12140955-552e-4b46-e5cf-f71f9a569798"
      },
      "outputs": [
        {
          "name": "stdout",
          "output_type": "stream",
          "text": [
            "Enter a number : 10\n",
            "Enter a number : 20\n",
            "30\n"
          ]
        }
      ],
      "source": [
        "a = int(input(\"Enter a number : \"))\n",
        "b = int(input(\"Enter a number : \"))\n",
        "\n",
        "\n",
        "c = a+b\n",
        "\n",
        "print(c)"
      ]
    },
    {
      "cell_type": "code",
      "execution_count": null,
      "metadata": {
        "colab": {
          "base_uri": "https://localhost:8080/"
        },
        "id": "tiui7eQC6czc",
        "outputId": "dbe21c3c-73b3-4f5c-9556-efea86c9fd1d"
      },
      "outputs": [
        {
          "name": "stdout",
          "output_type": "stream",
          "text": [
            "Enter a number : 10\n",
            "Enter a number : 20\n",
            "The sum of two number is :  30\n"
          ]
        }
      ],
      "source": [
        "a = int(input(\"Enter a number : \"))\n",
        "b = int(input(\"Enter a number : \"))\n",
        "\n",
        "\n",
        "c = a+b\n",
        "\n",
        "print(\"The sum of two number is : \",c)"
      ]
    },
    {
      "cell_type": "code",
      "execution_count": null,
      "metadata": {
        "colab": {
          "base_uri": "https://localhost:8080/"
        },
        "id": "BzR6eiiO6czd",
        "outputId": "6232113a-fa7b-4125-c654-2715a06c4d27"
      },
      "outputs": [
        {
          "name": "stdout",
          "output_type": "stream",
          "text": [
            "Enter a number : 10\n",
            "Enter a number : 20\n",
            "b is largest\n"
          ]
        }
      ],
      "source": [
        "a = int(input(\"Enter a number : \"))\n",
        "b = int(input(\"Enter a number : \"))\n",
        "\n",
        "if a>b:\n",
        "  print(\"a is largest\")\n",
        "\n",
        "else :\n",
        "  print(\"b is largest\")"
      ]
    },
    {
      "cell_type": "code",
      "execution_count": null,
      "metadata": {
        "colab": {
          "base_uri": "https://localhost:8080/"
        },
        "id": "ecA0K_Wi6czd",
        "outputId": "4c9bd998-c8fe-446f-b440-78ec3f3a8d47"
      },
      "outputs": [
        {
          "name": "stdout",
          "output_type": "stream",
          "text": [
            "Enter a number : 20\n",
            "Enter a number : 50\n",
            "Enter a number : 10\n",
            "b is largest\n"
          ]
        }
      ],
      "source": [
        "a = int(input(\"Enter a number : \"))\n",
        "b = int(input(\"Enter a number : \"))\n",
        "c = int(input(\"Enter a number : \"))\n",
        "\n",
        "if a>b and a>c:\n",
        "  print(\"a is largest\")\n",
        "\n",
        "elif b>a and b>c:\n",
        "  print(\"b is largest\")\n",
        "\n",
        "else:\n",
        "  print(\"c is largest\")\n"
      ]
    },
    {
      "cell_type": "code",
      "execution_count": null,
      "metadata": {
        "colab": {
          "base_uri": "https://localhost:8080/"
        },
        "id": "YFerb8RMFxwh",
        "outputId": "87efcaf9-f917-4284-b960-057b450754b6"
      },
      "outputs": [
        {
          "name": "stdout",
          "output_type": "stream",
          "text": [
            "hello\n"
          ]
        }
      ],
      "source": [
        "def print_hello():\n",
        "  print(\"hello\")\n",
        "\n",
        "print_hello()  "
      ]
    },
    {
      "cell_type": "code",
      "execution_count": null,
      "metadata": {
        "id": "Vu2OH5bwrzSt"
      },
      "outputs": [],
      "source": [
        "def full_name(f_name, l_name):\n",
        "  print(f_name+\" \"+l_name)\n",
        "\n",
        "\n"
      ]
    },
    {
      "cell_type": "code",
      "execution_count": null,
      "metadata": {
        "colab": {
          "base_uri": "https://localhost:8080/"
        },
        "id": "a2DEe0lK7dKb",
        "outputId": "ce6ab396-2dcd-4fdd-9ab7-0dd58cb1c57b"
      },
      "outputs": [
        {
          "name": "stdout",
          "output_type": "stream",
          "text": [
            "Aquib Azmain\n"
          ]
        }
      ],
      "source": [
        "full_name(\"Aquib\",\"Azmain\")"
      ]
    },
    {
      "cell_type": "code",
      "execution_count": null,
      "metadata": {
        "colab": {
          "base_uri": "https://localhost:8080/"
        },
        "id": "FbFN2pHy8Y76",
        "outputId": "8ca415d9-7352-468a-e618-2d3982c57d49"
      },
      "outputs": [
        {
          "name": "stdout",
          "output_type": "stream",
          "text": [
            "60\n"
          ]
        }
      ],
      "source": [
        "def sum_numbers(a, b, c):\n",
        "  result=a+b+c\n",
        "  return result\n",
        "\n",
        "def sqr(x, y, z):\n",
        "  p = sum_numbers(x, y, z)\n",
        "  sqr_result = p**2\n",
        "  return sqr_result\n",
        "n1 = int(input())\n",
        "n2 = int(input())\n",
        "n3 = int(input())\n",
        "x = sqr(n1, n2, n3) \n",
        "print(x) "
      ]
    },
    {
      "cell_type": "code",
      "execution_count": null,
      "metadata": {
        "id": "CkXNFc7hBbtK"
      },
      "outputs": [],
      "source": [
        "n=0\n",
        "while n<10:\n",
        "  print(n)\n",
        "  n = n+1"
      ]
    },
    {
      "cell_type": "code",
      "execution_count": null,
      "metadata": {
        "colab": {
          "base_uri": "https://localhost:8080/"
        },
        "id": "kqeCEoxqOrVn",
        "outputId": "5d8bfc95-2a76-43ae-9e78-9bbd1e35597e"
      },
      "outputs": [
        {
          "name": "stdout",
          "output_type": "stream",
          "text": [
            "0\n",
            "2\n",
            "4\n",
            "6\n",
            "8\n"
          ]
        }
      ],
      "source": [
        "for i in range(0, 9, 2):\n",
        "  print(i)"
      ]
    },
    {
      "cell_type": "markdown",
      "metadata": {
        "id": "bZTjnrh8Pu-I"
      },
      "source": [
        "**String operation**"
      ]
    },
    {
      "cell_type": "code",
      "execution_count": null,
      "metadata": {
        "id": "aNeDm3SyPGVI"
      },
      "outputs": [],
      "source": [
        "x = \"Hi!\"\n",
        "y = \"My name is Zayan\""
      ]
    },
    {
      "cell_type": "code",
      "execution_count": null,
      "metadata": {
        "colab": {
          "base_uri": "https://localhost:8080/"
        },
        "id": "xnardX8XQBCi",
        "outputId": "a6637b85-0f58-4c0c-a842-2238ce799d2d"
      },
      "outputs": [
        {
          "data": {
            "text/plain": [
              "-1"
            ]
          },
          "execution_count": 15,
          "metadata": {},
          "output_type": "execute_result"
        }
      ],
      "source": [
        "#print(len(y))\n",
        "y.find(\"x\")"
      ]
    },
    {
      "cell_type": "code",
      "execution_count": null,
      "metadata": {
        "colab": {
          "base_uri": "https://localhost:8080/"
        },
        "id": "KjRFyWXrVcL3",
        "outputId": "2ae13c88-4d80-4fee-871f-e5e27dcd86fc"
      },
      "outputs": [
        {
          "name": "stdout",
          "output_type": "stream",
          "text": [
            "My name is Nishad\n"
          ]
        }
      ],
      "source": [
        "z = y.replace(\"Zayan\", \"Nishad\")\n",
        "print(z)"
      ]
    },
    {
      "cell_type": "code",
      "execution_count": null,
      "metadata": {
        "colab": {
          "base_uri": "https://localhost:8080/"
        },
        "id": "QRSzGqE-Wfen",
        "outputId": "1239a88d-9e55-4191-f27d-dd20929b75ad"
      },
      "outputs": [
        {
          "name": "stdout",
          "output_type": "stream",
          "text": [
            "My na\n",
            " name is Ni\n"
          ]
        }
      ],
      "source": [
        "print(y[0:5])\n",
        "print(z[2:-4])"
      ]
    },
    {
      "cell_type": "code",
      "execution_count": null,
      "metadata": {
        "colab": {
          "base_uri": "https://localhost:8080/"
        },
        "id": "NQQ7tiKgQYoX",
        "outputId": "2a2a24c3-a675-4311-94f6-1f38eb0020ef"
      },
      "outputs": [
        {
          "name": "stdout",
          "output_type": "stream",
          "text": [
            "y\n"
          ]
        },
        {
          "data": {
            "text/plain": [
              "['y',\n",
              " 'y',\n",
              " 's',\n",
              " 'n',\n",
              " 'n',\n",
              " 'm',\n",
              " 'i',\n",
              " 'e',\n",
              " 'a',\n",
              " 'a',\n",
              " 'a',\n",
              " 'Z',\n",
              " 'M',\n",
              " ' ',\n",
              " ' ',\n",
              " ' ']"
            ]
          },
          "execution_count": 10,
          "metadata": {},
          "output_type": "execute_result"
        }
      ],
      "source": [
        "print(y[13])\n",
        "print(y[-2])\n",
        "sorted(y, reverse = True)"
      ]
    },
    {
      "cell_type": "code",
      "execution_count": null,
      "metadata": {
        "colab": {
          "base_uri": "https://localhost:8080/"
        },
        "id": "nbFOEyGWTNMw",
        "outputId": "1b0dd85d-6efb-40c0-c5c1-ea0a5bfbc326"
      },
      "outputs": [
        {
          "name": "stdout",
          "output_type": "stream",
          "text": [
            "MY NAME IS ZAYAN\n"
          ]
        }
      ],
      "source": [
        "print(y.upper())"
      ]
    },
    {
      "cell_type": "code",
      "execution_count": null,
      "metadata": {
        "colab": {
          "base_uri": "https://localhost:8080/"
        },
        "id": "-Lb8YakNT1LH",
        "outputId": "0b79c022-837c-44a1-b1c7-e74fc905401c"
      },
      "outputs": [
        {
          "name": "stdout",
          "output_type": "stream",
          "text": [
            "60\n",
            "93\n"
          ]
        }
      ],
      "source": [
        "my_list = [1,2,10,20, 60]\n",
        "#print(my_list[4])\n",
        "print(max(my_list))\n",
        "print(sum(my_list))"
      ]
    },
    {
      "cell_type": "code",
      "execution_count": null,
      "metadata": {
        "colab": {
          "base_uri": "https://localhost:8080/"
        },
        "id": "CFHeV9LNZdcH",
        "outputId": "e714ca23-6ef2-4172-f127-9838980d9bd0"
      },
      "outputs": [
        {
          "data": {
            "text/plain": [
              "True"
            ]
          },
          "execution_count": 2,
          "metadata": {},
          "output_type": "execute_result"
        }
      ],
      "source": [
        "10 in my_list"
      ]
    },
    {
      "cell_type": "code",
      "execution_count": null,
      "metadata": {
        "id": "iagCsR2lHYKR"
      },
      "outputs": [],
      "source": [
        "my_list.append(200)"
      ]
    },
    {
      "cell_type": "code",
      "execution_count": null,
      "metadata": {
        "colab": {
          "base_uri": "https://localhost:8080/"
        },
        "id": "3sc4-ZAoHtTx",
        "outputId": "f916c95d-468a-4ca4-cee4-29d2796dc111"
      },
      "outputs": [
        {
          "data": {
            "text/plain": [
              "[1, 2, 10, 20, 60, 200]"
            ]
          },
          "execution_count": 4,
          "metadata": {},
          "output_type": "execute_result"
        }
      ],
      "source": [
        "my_list"
      ]
    },
    {
      "cell_type": "code",
      "execution_count": null,
      "metadata": {
        "id": "7egVyuEUHu0x"
      },
      "outputs": [],
      "source": [
        "my_list.remove(2)"
      ]
    },
    {
      "cell_type": "code",
      "execution_count": null,
      "metadata": {
        "colab": {
          "base_uri": "https://localhost:8080/"
        },
        "id": "Nd41vvqGH4li",
        "outputId": "02d7c3e6-3245-4f6e-d424-35c0e424e606"
      },
      "outputs": [
        {
          "data": {
            "text/plain": [
              "[1, 10, 20, 60, 200]"
            ]
          },
          "execution_count": 6,
          "metadata": {},
          "output_type": "execute_result"
        }
      ],
      "source": [
        "my_list"
      ]
    },
    {
      "cell_type": "code",
      "execution_count": null,
      "metadata": {
        "colab": {
          "base_uri": "https://localhost:8080/"
        },
        "id": "rluVhrXqH5Uy",
        "outputId": "3be3fe4e-76a1-419f-9e94-5b6ddd89aba9"
      },
      "outputs": [
        {
          "data": {
            "text/plain": [
              "[1, 20, 60, 200]"
            ]
          },
          "execution_count": 7,
          "metadata": {},
          "output_type": "execute_result"
        }
      ],
      "source": [
        "my_list.pop(1)\n",
        "my_list"
      ]
    },
    {
      "cell_type": "code",
      "execution_count": null,
      "metadata": {
        "colab": {
          "base_uri": "https://localhost:8080/"
        },
        "id": "a4O4-3MNID5i",
        "outputId": "82863b6a-d99d-44bc-9564-5deab9e575c7"
      },
      "outputs": [
        {
          "data": {
            "text/plain": [
              "[250, 1, 20, 60, 200]"
            ]
          },
          "execution_count": 8,
          "metadata": {},
          "output_type": "execute_result"
        }
      ],
      "source": [
        "my_list.insert(0, 250)\n",
        "my_list"
      ]
    },
    {
      "cell_type": "code",
      "execution_count": null,
      "metadata": {
        "colab": {
          "base_uri": "https://localhost:8080/"
        },
        "id": "Ratvt-RlI9BB",
        "outputId": "1d8d1bed-6406-40ae-b41c-3be6659945b0"
      },
      "outputs": [
        {
          "data": {
            "text/plain": [
              "[200, 60, 20]"
            ]
          },
          "execution_count": 13,
          "metadata": {},
          "output_type": "execute_result"
        }
      ],
      "source": [
        "my_list[-1:-4:-1]\n"
      ]
    },
    {
      "cell_type": "code",
      "execution_count": null,
      "metadata": {
        "colab": {
          "base_uri": "https://localhost:8080/"
        },
        "id": "Iywr5bNeLWmR",
        "outputId": "8347d0d7-a95b-43c2-903e-ef5340518d4d"
      },
      "outputs": [
        {
          "data": {
            "text/plain": [
              "[[1, 2, 3, 4], [5, 11, 7, 8]]"
            ]
          },
          "execution_count": 15,
          "metadata": {},
          "output_type": "execute_result"
        }
      ],
      "source": [
        "mat = [[1, 2, 3, 4], [5, 6, 7, 8]]\n",
        "mat[1][2]\n",
        "mat[1][1] = 11\n",
        "mat"
      ]
    },
    {
      "cell_type": "code",
      "execution_count": null,
      "metadata": {
        "colab": {
          "base_uri": "https://localhost:8080/",
          "height": 204
        },
        "id": "mYyd7yv7NT7p",
        "outputId": "c3982366-69bf-414b-fac6-e1446e00523b"
      },
      "outputs": [
        {
          "ename": "TypeError",
          "evalue": "ignored",
          "output_type": "error",
          "traceback": [
            "\u001b[0;31m---------------------------------------------------------------------------\u001b[0m",
            "\u001b[0;31mTypeError\u001b[0m                                 Traceback (most recent call last)",
            "\u001b[0;32m<ipython-input-16-729c947c66d9>\u001b[0m in \u001b[0;36m<module>\u001b[0;34m()\u001b[0m\n\u001b[1;32m      2\u001b[0m \u001b[0msample_tuple\u001b[0m \u001b[0;34m=\u001b[0m \u001b[0;34m(\u001b[0m\u001b[0;36m1\u001b[0m\u001b[0;34m,\u001b[0m \u001b[0;36m2.3\u001b[0m\u001b[0;34m,\u001b[0m \u001b[0;36m5\u001b[0m\u001b[0;34m,\u001b[0m \u001b[0;36m6\u001b[0m\u001b[0;34m)\u001b[0m\u001b[0;34m\u001b[0m\u001b[0;34m\u001b[0m\u001b[0m\n\u001b[1;32m      3\u001b[0m \u001b[0;34m\u001b[0m\u001b[0m\n\u001b[0;32m----> 4\u001b[0;31m \u001b[0msample_tuple\u001b[0m\u001b[0;34m[\u001b[0m\u001b[0;36m1\u001b[0m\u001b[0;34m]\u001b[0m \u001b[0;34m=\u001b[0m \u001b[0;34m\"hello\"\u001b[0m\u001b[0;34m\u001b[0m\u001b[0;34m\u001b[0m\u001b[0m\n\u001b[0m",
            "\u001b[0;31mTypeError\u001b[0m: 'tuple' object does not support item assignment"
          ]
        }
      ],
      "source": [
        "#tuple\n",
        "sample_tuple = (1, 2.3, 5, 6)\n",
        "\n",
        "sample_tuple[1] = \"hello\""
      ]
    },
    {
      "cell_type": "code",
      "execution_count": null,
      "metadata": {
        "colab": {
          "base_uri": "https://localhost:8080/"
        },
        "id": "4pI5uYPeO2vx",
        "outputId": "d6587c62-9863-4d98-cab6-1718aa3dbc17"
      },
      "outputs": [
        {
          "data": {
            "text/plain": [
              "{'apple', 'banana', 'cherry'}"
            ]
          },
          "execution_count": 17,
          "metadata": {},
          "output_type": "execute_result"
        }
      ],
      "source": [
        "#sets\n",
        "sample_set = {\"apple\", \"banana\", \"cherry\", \"apple\"}\n",
        "sample_set"
      ]
    },
    {
      "cell_type": "code",
      "execution_count": null,
      "metadata": {
        "colab": {
          "base_uri": "https://localhost:8080/"
        },
        "id": "qRZV68bZQGkx",
        "outputId": "ac63e383-2a00-41de-d39d-2fade951521b"
      },
      "outputs": [
        {
          "data": {
            "text/plain": [
              "{'apple', 'banana', 'cherry', 'orange'}"
            ]
          },
          "execution_count": 18,
          "metadata": {},
          "output_type": "execute_result"
        }
      ],
      "source": [
        "sample_set.add(\"orange\")\n",
        "sample_set"
      ]
    },
    {
      "cell_type": "code",
      "execution_count": null,
      "metadata": {
        "colab": {
          "base_uri": "https://localhost:8080/"
        },
        "id": "YD62L0WZQ2yA",
        "outputId": "eaf64c8e-7126-4a6f-d0cf-5d05f8978929"
      },
      "outputs": [
        {
          "data": {
            "text/plain": [
              "{'apple', 'cherry', 'orange'}"
            ]
          },
          "execution_count": 19,
          "metadata": {},
          "output_type": "execute_result"
        }
      ],
      "source": [
        "sample_set.remove(\"banana\")\n",
        "sample_set"
      ]
    },
    {
      "cell_type": "code",
      "execution_count": null,
      "metadata": {
        "colab": {
          "base_uri": "https://localhost:8080/"
        },
        "id": "Dt6XzL8RRZGh",
        "outputId": "04b5c8f3-210e-4fbc-a643-7e6c345a1c9d"
      },
      "outputs": [
        {
          "data": {
            "text/plain": [
              "{101: 'Nirjon', 105: 'Redwan', 203: 'Alifa'}"
            ]
          },
          "execution_count": 27,
          "metadata": {},
          "output_type": "execute_result"
        }
      ],
      "source": [
        "students = {101:\"Nirjon\", 105: \"Redwan\", 203: \"Alifa\"}\n",
        "students"
      ]
    },
    {
      "cell_type": "code",
      "execution_count": null,
      "metadata": {
        "colab": {
          "base_uri": "https://localhost:8080/"
        },
        "id": "yJPnU2-aS--A",
        "outputId": "d797c398-2954-4636-9513-55a07370bb39"
      },
      "outputs": [
        {
          "data": {
            "text/plain": [
              "{101: 'Nirjon', 105: 'Joyita', 203: 'Alifa'}"
            ]
          },
          "execution_count": 28,
          "metadata": {},
          "output_type": "execute_result"
        }
      ],
      "source": [
        "students[105] = \"Joyita\"\n",
        "students"
      ]
    },
    {
      "cell_type": "code",
      "execution_count": null,
      "metadata": {
        "colab": {
          "base_uri": "https://localhost:8080/",
          "height": 35
        },
        "id": "bXrLzIJ6TsXx",
        "outputId": "a4cec649-085c-4ed3-bca2-e155c2b89888"
      },
      "outputs": [
        {
          "data": {
            "application/vnd.google.colaboratory.intrinsic+json": {
              "type": "string"
            },
            "text/plain": [
              "'Alifa'"
            ]
          },
          "execution_count": 22,
          "metadata": {},
          "output_type": "execute_result"
        }
      ],
      "source": [
        "students[203]"
      ]
    },
    {
      "cell_type": "code",
      "execution_count": null,
      "metadata": {
        "colab": {
          "base_uri": "https://localhost:8080/"
        },
        "id": "LfH_KUQPT11w",
        "outputId": "bfc1198b-ef0c-4019-ec95-4f9e23757ad5"
      },
      "outputs": [
        {
          "data": {
            "text/plain": [
              "{101: 'Nirjon', 105: 'Joyita', 203: 'Alifa', 207: 'Mehedi'}"
            ]
          },
          "execution_count": 29,
          "metadata": {},
          "output_type": "execute_result"
        }
      ],
      "source": [
        "students.update({207:\"Mehedi\"})\n",
        "students"
      ]
    },
    {
      "cell_type": "code",
      "execution_count": null,
      "metadata": {
        "colab": {
          "base_uri": "https://localhost:8080/"
        },
        "id": "llvagsdGUTMf",
        "outputId": "7213eb95-cc5a-403b-91d5-485064609846"
      },
      "outputs": [
        {
          "data": {
            "text/plain": [
              "{105: 'Joyita', 203: 'Alifa', 207: 'Mehedi'}"
            ]
          },
          "execution_count": 30,
          "metadata": {},
          "output_type": "execute_result"
        }
      ],
      "source": [
        "students.pop(101)\n",
        "students"
      ]
    },
    {
      "cell_type": "code",
      "execution_count": null,
      "metadata": {
        "colab": {
          "base_uri": "https://localhost:8080/"
        },
        "id": "kXl8qDxoWq9h",
        "outputId": "ee5f6641-b51a-4640-bd6a-5020a31f8bf2"
      },
      "outputs": [
        {
          "name": "stdout",
          "output_type": "stream",
          "text": [
            "key= 105 value= Joyita\n",
            "key= 203 value= Alifa\n",
            "key= 207 value= Mehedi\n"
          ]
        }
      ],
      "source": [
        "for x, y in students.items():\n",
        "  print(\"key=\", x, \"value=\", y)"
      ]
    },
    {
      "cell_type": "code",
      "execution_count": null,
      "metadata": {
        "id": "EBc2BzkiX3jA"
      },
      "outputs": [],
      "source": []
    },
    {
      "cell_type": "markdown",
      "metadata": {
        "id": "uhL1TB_z8-Eq"
      },
      "source": [
        "Collection"
      ]
    },
    {
      "cell_type": "code",
      "execution_count": null,
      "metadata": {
        "colab": {
          "base_uri": "https://localhost:8080/"
        },
        "id": "aZjfD6Fu9A_J",
        "outputId": "600374b9-bb9a-4342-df30-e9f5f37a081a"
      },
      "outputs": [
        {
          "name": "stdout",
          "output_type": "stream",
          "text": [
            "Counter({'B': 4, 'A': 2, 'C': 1})\n"
          ]
        }
      ],
      "source": [
        "from collections import Counter\n",
        "\n",
        "print(Counter(['B', 'B', 'A', 'B', 'C', 'A', 'B']))"
      ]
    },
    {
      "cell_type": "code",
      "execution_count": null,
      "metadata": {
        "colab": {
          "base_uri": "https://localhost:8080/"
        },
        "id": "JNWr4huG93KT",
        "outputId": "faf40cb2-d00b-4ee0-8bb2-c085ed57fb49"
      },
      "outputs": [
        {
          "name": "stdout",
          "output_type": "stream",
          "text": [
            "Counter({'1': 3, 'b': 2, 'c': 2, 'a': 1, 'd': 1, 'n': 1, 's': 1, '2': 1})\n"
          ]
        }
      ],
      "source": [
        "print(Counter(\"abcd111nsc2b\"))"
      ]
    },
    {
      "cell_type": "code",
      "execution_count": null,
      "metadata": {
        "id": "RwV9F8Du-MXC"
      },
      "outputs": [],
      "source": [
        "students = {101:\"Nirjon\", 105: \"Redwan\", 203: \"Alifa\"}"
      ]
    },
    {
      "cell_type": "code",
      "execution_count": null,
      "metadata": {
        "colab": {
          "base_uri": "https://localhost:8080/",
          "height": 168
        },
        "id": "6VUh027u-ylq",
        "outputId": "898a7773-5191-481d-9e24-4d2014671280"
      },
      "outputs": [
        {
          "ename": "KeyError",
          "evalue": "ignored",
          "output_type": "error",
          "traceback": [
            "\u001b[0;31m---------------------------------------------------------------------------\u001b[0m",
            "\u001b[0;31mKeyError\u001b[0m                                  Traceback (most recent call last)",
            "\u001b[0;32m<ipython-input-5-409d4ee84844>\u001b[0m in \u001b[0;36m<module>\u001b[0;34m()\u001b[0m\n\u001b[0;32m----> 1\u001b[0;31m \u001b[0mprint\u001b[0m\u001b[0;34m(\u001b[0m\u001b[0mstudents\u001b[0m\u001b[0;34m[\u001b[0m\u001b[0;36m109\u001b[0m\u001b[0;34m]\u001b[0m\u001b[0;34m)\u001b[0m\u001b[0;34m\u001b[0m\u001b[0;34m\u001b[0m\u001b[0m\n\u001b[0m",
            "\u001b[0;31mKeyError\u001b[0m: 109"
          ]
        }
      ],
      "source": [
        "print(students[109])"
      ]
    },
    {
      "cell_type": "code",
      "execution_count": null,
      "metadata": {
        "colab": {
          "base_uri": "https://localhost:8080/"
        },
        "id": "CcohhhQ2-3yp",
        "outputId": "e9c2edfc-c13d-4247-dd3b-a7e149c23167"
      },
      "outputs": [
        {
          "name": "stdout",
          "output_type": "stream",
          "text": [
            "0\n"
          ]
        }
      ],
      "source": [
        "from collections import defaultdict\n",
        "x = defaultdict(int, {101:\"Nirjon\", 105: \"Redwan\", 203: \"Alifa\"})\n",
        "\n",
        "print(x[216])"
      ]
    },
    {
      "cell_type": "code",
      "execution_count": null,
      "metadata": {
        "colab": {
          "base_uri": "https://localhost:8080/"
        },
        "id": "gW18l5gEAECq",
        "outputId": "7f43d5eb-80f9-4f7e-ec52-e82a806f7729"
      },
      "outputs": [
        {
          "name": "stdout",
          "output_type": "stream",
          "text": [
            "ChainMap({'a': 1, 'b': 2}, {'c': 3, 'd': 4}, {'e': 5, 'f': 6})\n"
          ]
        }
      ],
      "source": [
        "from collections import ChainMap\n",
        "x = {'a':1, 'b':2}\n",
        "y = {'c':3, 'd':4}\n",
        "z = {'e':5, 'f':6}\n",
        "\n",
        "c = ChainMap(x,y,z)\n",
        "print(c)"
      ]
    },
    {
      "cell_type": "code",
      "execution_count": null,
      "metadata": {
        "colab": {
          "base_uri": "https://localhost:8080/"
        },
        "id": "DNjtxphCBPoK",
        "outputId": "a2f011a0-70eb-46db-c0e9-4852ee177cad"
      },
      "outputs": [
        {
          "name": "stdout",
          "output_type": "stream",
          "text": [
            "3\n"
          ]
        }
      ],
      "source": [
        "print(c['c'])"
      ]
    },
    {
      "cell_type": "code",
      "execution_count": null,
      "metadata": {
        "colab": {
          "base_uri": "https://localhost:8080/",
          "height": 35
        },
        "id": "pSetQS4LBZuY",
        "outputId": "db5f1f7f-a509-4722-8d24-105942482a41"
      },
      "outputs": [
        {
          "data": {
            "application/vnd.google.colaboratory.intrinsic+json": {
              "type": "string"
            },
            "text/plain": [
              "'nafis'"
            ]
          },
          "execution_count": 11,
          "metadata": {},
          "output_type": "execute_result"
        }
      ],
      "source": [
        "x = (\"nafis\", 19, 203)\n",
        "x[0]"
      ]
    },
    {
      "cell_type": "code",
      "execution_count": null,
      "metadata": {
        "colab": {
          "base_uri": "https://localhost:8080/"
        },
        "id": "Nw07-vHYB8r4",
        "outputId": "5b356cc0-cedb-405f-9cd9-ec9856b0c3b0"
      },
      "outputs": [
        {
          "name": "stdout",
          "output_type": "stream",
          "text": [
            "19\n"
          ]
        }
      ],
      "source": [
        "from collections import namedtuple\n",
        "\n",
        "nt = namedtuple('student_tuple', ['name', 'age', 'id'])\n",
        "\n",
        "x = nt(\"nafis\",19, 203)\n",
        "print(x.age)"
      ]
    },
    {
      "cell_type": "code",
      "execution_count": null,
      "metadata": {
        "colab": {
          "base_uri": "https://localhost:8080/"
        },
        "id": "zIra9apRDOi-",
        "outputId": "82b5ad6b-4cdc-4f91-f2ac-2038aa1846b5"
      },
      "outputs": [
        {
          "name": "stdout",
          "output_type": "stream",
          "text": [
            "deque([1, 2, 3, 4])\n"
          ]
        }
      ],
      "source": [
        "from collections import deque\n",
        "\n",
        "x = deque([1,2,3])\n",
        "\n",
        "x.append(4)\n",
        "print(x)"
      ]
    },
    {
      "cell_type": "code",
      "execution_count": null,
      "metadata": {
        "colab": {
          "base_uri": "https://localhost:8080/"
        },
        "id": "NdtyIzolE_8p",
        "outputId": "dcebf810-ca9a-4d49-c043-df997aea2c8e"
      },
      "outputs": [
        {
          "name": "stdout",
          "output_type": "stream",
          "text": [
            "deque([4, 1, 2, 3, 4])\n"
          ]
        }
      ],
      "source": [
        "x.appendleft(4)\n",
        "print(x)"
      ]
    },
    {
      "cell_type": "code",
      "execution_count": null,
      "metadata": {
        "colab": {
          "base_uri": "https://localhost:8080/"
        },
        "id": "YzXTWHgcFC1Z",
        "outputId": "70392f92-5e2b-4e22-c612-5c87c2e413be"
      },
      "outputs": [
        {
          "name": "stdout",
          "output_type": "stream",
          "text": [
            "deque([0, 4, 1, 2, 3, 4])\n"
          ]
        }
      ],
      "source": [
        "x.appendleft(0)\n",
        "print(x)"
      ]
    },
    {
      "cell_type": "code",
      "execution_count": null,
      "metadata": {
        "colab": {
          "base_uri": "https://localhost:8080/"
        },
        "id": "06yW8wFzFIip",
        "outputId": "432de6a4-95de-4e96-d02a-d81246aa2d0e"
      },
      "outputs": [
        {
          "name": "stdout",
          "output_type": "stream",
          "text": [
            "deque([4, 1, 2, 3, 4])\n"
          ]
        }
      ],
      "source": [
        "x.popleft()\n",
        "print(x)"
      ]
    },
    {
      "cell_type": "code",
      "execution_count": null,
      "metadata": {
        "colab": {
          "base_uri": "https://localhost:8080/"
        },
        "id": "iCqOcs18FRAp",
        "outputId": "dd765f4a-24c4-430c-c983-095c292b861e"
      },
      "outputs": [
        {
          "name": "stdout",
          "output_type": "stream",
          "text": [
            "{'mary': 1, 'and': 1, 'samantha': 1, 'arrived': 1, 'at': 1, 'the': 2, 'bus': 2, 'station': 1, 'early': 1, 'but': 1, 'waited': 1, 'until': 1, 'noon': 1, 'for': 1}\n"
          ]
        }
      ],
      "source": [
        "sentence = \"Mary and Samantha arrived at The bus station early but waited until noon for the bus.\"\n",
        "sentence = sentence.lower()\n",
        "sentence = sentence.replace(\".\",\"\")\n",
        "words = sentence.split()\n",
        "\n",
        "#print(Counter(words))\n",
        "word_frequency = {}\n",
        "\n",
        "for x in words:\n",
        "  if x not in word_frequency:\n",
        "    word_frequency[x]  = 1\n",
        "  else:\n",
        "    word_frequency[x]+=1\n",
        "\n",
        "print(word_frequency)    "
      ]
    },
    {
      "cell_type": "code",
      "execution_count": null,
      "metadata": {
        "id": "fv5KT-p9K0vC"
      },
      "outputs": [],
      "source": []
    },
    {
      "cell_type": "markdown",
      "metadata": {
        "id": "1jNRZUcH7-98"
      },
      "source": [
        "# Stack, Queue"
      ]
    },
    {
      "cell_type": "code",
      "execution_count": null,
      "metadata": {
        "colab": {
          "base_uri": "https://localhost:8080/"
        },
        "id": "mHBvtnSs8A57",
        "outputId": "25474e80-90f4-445c-e4b3-e156396ae0e2"
      },
      "outputs": [
        {
          "name": "stdout",
          "output_type": "stream",
          "text": [
            "[3, 4, 5, 1, 10]\n"
          ]
        }
      ],
      "source": [
        "my_stack = [3,4,5]\n",
        "my_stack.append(1)\n",
        "my_stack.append(10)\n",
        "print(my_stack)"
      ]
    },
    {
      "cell_type": "code",
      "execution_count": null,
      "metadata": {
        "colab": {
          "base_uri": "https://localhost:8080/"
        },
        "id": "JfKZ5SrT9Hdi",
        "outputId": "2defc069-5e61-4c7f-acbb-7175c053deff"
      },
      "outputs": [
        {
          "name": "stdout",
          "output_type": "stream",
          "text": [
            "[3, 4, 5, 1]\n"
          ]
        }
      ],
      "source": [
        "my_stack.pop()\n",
        "print(my_stack)"
      ]
    },
    {
      "cell_type": "code",
      "execution_count": null,
      "metadata": {
        "colab": {
          "base_uri": "https://localhost:8080/"
        },
        "id": "3V3rjb6i9dQ8",
        "outputId": "1385651f-f6bd-4826-b679-b274ce6b4d0a"
      },
      "outputs": [
        {
          "name": "stdout",
          "output_type": "stream",
          "text": [
            "deque(['B', 'A', 'C', 'D', 'G'])\n",
            "deque(['A', 'C', 'D', 'G'])\n"
          ]
        }
      ],
      "source": [
        "from collections import deque\n",
        "my_queue = deque(['B', 'A', 'C', 'D'])\n",
        "my_queue.append('G')\n",
        "print(my_queue)\n",
        "\n",
        "my_queue.popleft()\n",
        "print(my_queue)"
      ]
    },
    {
      "cell_type": "code",
      "execution_count": null,
      "metadata": {
        "id": "b8SYVweq-bXb"
      },
      "outputs": [],
      "source": [
        "class Person:\n",
        "  def __init__(self, person_name, doy, ht):\n",
        "    self.__name = person_name\n",
        "    self.dateofyear = doy\n",
        "    self.height = ht\n",
        "\n",
        "  def get_name(self):\n",
        "    return self.__name.upper()\n",
        "\n",
        "  def set_name(self, new_name):\n",
        "    self.__name = new_name    "
      ]
    },
    {
      "cell_type": "code",
      "execution_count": null,
      "metadata": {
        "colab": {
          "base_uri": "https://localhost:8080/"
        },
        "id": "rbvNHnt7EV5R",
        "outputId": "398e42b4-8e28-47ca-ee3f-160d4ee512ed"
      },
      "outputs": [
        {
          "name": "stdout",
          "output_type": "stream",
          "text": [
            "NISHAD\n",
            "MEHENAZ\n"
          ]
        }
      ],
      "source": [
        "person1 = Person('Nishad', 2000, \"6 feet\")\n",
        "print(person1.get_name())\n",
        "person1.set_name(\"Mehenaz\")\n",
        "print(person1.get_name())\n"
      ]
    },
    {
      "cell_type": "code",
      "execution_count": null,
      "metadata": {
        "colab": {
          "base_uri": "https://localhost:8080/"
        },
        "id": "htR6Jex_Fcep",
        "outputId": "e30a52e6-ba52-4859-a2af-e0c677671d1a"
      },
      "outputs": [
        {
          "name": "stdout",
          "output_type": "stream",
          "text": [
            "NISHAD\n"
          ]
        }
      ],
      "source": [
        "print(person1.get_name())"
      ]
    },
    {
      "cell_type": "code",
      "execution_count": null,
      "metadata": {
        "id": "jsxiqde4HjCv"
      },
      "outputs": [],
      "source": [
        "person2 = Person(\"abc\", 1990, \"4 feet\")"
      ]
    },
    {
      "cell_type": "code",
      "execution_count": null,
      "metadata": {
        "id": "N1hScfwFSExe"
      },
      "outputs": [],
      "source": [
        "class Stack:\n",
        "  def __init__(self):\n",
        "    self.data = []\n",
        "\n",
        "  def size(self):\n",
        "    return len(self.data)\n",
        "\n",
        "  def isempty(self):\n",
        "    if self.size()==0:\n",
        "      return True\n",
        "    else:\n",
        "      return False\n",
        "\n",
        "  def push(self, new_element):\n",
        "    self.data.append(new_element)\n",
        "\n",
        "  def pop(self):\n",
        "    if self.isempty():\n",
        "      print(\"Stack is empty\")\n",
        "    else:\n",
        "      self.data.pop()\n",
        "\n",
        "  def peek(self):\n",
        "    if self.isempty():\n",
        "      print(\"Stack is empty\")\n",
        "    else:\n",
        "      return self.data[-1]                  "
      ]
    },
    {
      "cell_type": "code",
      "execution_count": null,
      "metadata": {
        "colab": {
          "base_uri": "https://localhost:8080/"
        },
        "id": "3zwG0YZhWx2W",
        "outputId": "8d40ad3d-9715-450f-d7db-f748929c420d"
      },
      "outputs": [
        {
          "name": "stdout",
          "output_type": "stream",
          "text": [
            "['B', 'A', 'C', 'D']\n"
          ]
        }
      ],
      "source": [
        "s1 = Stack()\n",
        "s1.push('B')\n",
        "s1.push('A')\n",
        "s1.push('C')\n",
        "s1.push('D')\n",
        "\n",
        "print(s1.data)"
      ]
    },
    {
      "cell_type": "code",
      "execution_count": null,
      "metadata": {
        "colab": {
          "base_uri": "https://localhost:8080/"
        },
        "id": "0DyL0Hu6XYF9",
        "outputId": "4572f449-9ab2-4dcf-bed6-faa8d5e73a15"
      },
      "outputs": [
        {
          "name": "stdout",
          "output_type": "stream",
          "text": [
            "D\n"
          ]
        }
      ],
      "source": [
        "print(s1.peek())"
      ]
    },
    {
      "cell_type": "code",
      "execution_count": null,
      "metadata": {
        "colab": {
          "base_uri": "https://localhost:8080/"
        },
        "id": "tJurkeGPXbil",
        "outputId": "b76c1fec-9681-45e6-8858-b539f11b3d88"
      },
      "outputs": [
        {
          "name": "stdout",
          "output_type": "stream",
          "text": [
            "Stack is empty\n"
          ]
        }
      ],
      "source": [
        "s1.pop()\n",
        "s1.pop()\n",
        "s1.pop()\n",
        "s1.pop()\n",
        "\n",
        "s1.peek()"
      ]
    },
    {
      "cell_type": "code",
      "execution_count": null,
      "metadata": {
        "id": "OjuTnpBzXkS1"
      },
      "outputs": [],
      "source": [
        "from collections import deque\n",
        "\n",
        "class Queue:\n",
        "  def __init__(self):\n",
        "    self.data = deque()\n",
        "\n",
        "  def size(self):\n",
        "    return len(self.data)\n",
        "\n",
        "  def isempty(self):\n",
        "    if self.size()==0:\n",
        "      return True\n",
        "    else:\n",
        "      return False\n",
        "\n",
        "  def enqueue(self, new_element):\n",
        "    self.data.append(new_element)\n",
        "\n",
        "  def dequeue(self):\n",
        "    if self.isempty():\n",
        "      print(\"Queue is empty\")        \n",
        "    else:\n",
        "      self.data.popleft()\n",
        "\n",
        "  def peek(self):\n",
        "    if self.isempty():\n",
        "      print(\"Queue is empty\")        \n",
        "    else:\n",
        "      return self.data[0]   "
      ]
    },
    {
      "cell_type": "code",
      "execution_count": null,
      "metadata": {
        "colab": {
          "base_uri": "https://localhost:8080/"
        },
        "id": "aSOEZdOabsws",
        "outputId": "fba24c88-a92b-419b-f308-f18c95b781e9"
      },
      "outputs": [
        {
          "name": "stdout",
          "output_type": "stream",
          "text": [
            "Arif\n"
          ]
        }
      ],
      "source": [
        "q1 = Queue()\n",
        "q1.enqueue(\"Arif\")\n",
        "q1.enqueue(\"Sajib\")\n",
        "q1.enqueue(\"Nafis\")\n",
        "\n",
        "print(q1.peek())"
      ]
    },
    {
      "cell_type": "code",
      "execution_count": null,
      "metadata": {
        "colab": {
          "base_uri": "https://localhost:8080/"
        },
        "id": "W9gXRedfdh8f",
        "outputId": "5fb3f77d-a945-4924-89af-6e351245a6a5"
      },
      "outputs": [
        {
          "name": "stdout",
          "output_type": "stream",
          "text": [
            "0\n"
          ]
        }
      ],
      "source": [
        "q1.dequeue()\n",
        "q1.dequeue()\n",
        "q1.dequeue()\n",
        "print(q1.size())"
      ]
    },
    {
      "cell_type": "code",
      "execution_count": null,
      "metadata": {
        "colab": {
          "base_uri": "https://localhost:8080/"
        },
        "id": "m3CcseuDduNU",
        "outputId": "48ed03e5-0c71-4001-bd73-820cd6b60e5b"
      },
      "outputs": [
        {
          "name": "stdout",
          "output_type": "stream",
          "text": [
            "Queue is empty\n"
          ]
        }
      ],
      "source": [
        "q1.peek()"
      ]
    },
    {
      "cell_type": "code",
      "execution_count": null,
      "metadata": {
        "colab": {
          "base_uri": "https://localhost:8080/"
        },
        "id": "uKQejRn4dxu1",
        "outputId": "3e343798-bfc0-4114-8d01-07b3ed24351b"
      },
      "outputs": [
        {
          "name": "stdout",
          "output_type": "stream",
          "text": [
            "10\n",
            "20\n",
            "30\n",
            "40\n"
          ]
        }
      ],
      "source": [
        "from array import *\n",
        "\n",
        "my_array = array('i', [10,20,30,40])\n",
        "\n",
        "for i in my_array:\n",
        "  print(i)"
      ]
    },
    {
      "cell_type": "code",
      "execution_count": null,
      "metadata": {
        "colab": {
          "base_uri": "https://localhost:8080/"
        },
        "id": "-YO8WqGQX31m",
        "outputId": "0144a832-c1e7-437d-8adb-23d57d26d20d"
      },
      "outputs": [
        {
          "name": "stdout",
          "output_type": "stream",
          "text": [
            "20\n"
          ]
        }
      ],
      "source": [
        "print(my_array[1])"
      ]
    },
    {
      "cell_type": "code",
      "execution_count": null,
      "metadata": {
        "colab": {
          "base_uri": "https://localhost:8080/"
        },
        "id": "iEi--So5aK7v",
        "outputId": "08aae936-0345-46b4-c0b1-89027bf6a806"
      },
      "outputs": [
        {
          "data": {
            "text/plain": [
              "array('i', [10, 20, 30, 40, 50, 50])"
            ]
          },
          "execution_count": 7,
          "metadata": {},
          "output_type": "execute_result"
        }
      ],
      "source": [
        "my_array.append(50)\n",
        "my_array\n"
      ]
    },
    {
      "cell_type": "code",
      "execution_count": null,
      "metadata": {
        "colab": {
          "base_uri": "https://localhost:8080/"
        },
        "id": "XWsQF54YaVDu",
        "outputId": "a90cb093-4ce1-4dd4-ac28-ba55ce85faf3"
      },
      "outputs": [
        {
          "data": {
            "text/plain": [
              "array('i', [100, 10, 20, 30, 40, 50, 50])"
            ]
          },
          "execution_count": 8,
          "metadata": {},
          "output_type": "execute_result"
        }
      ],
      "source": [
        "my_array.insert(0, 100)\n",
        "my_array"
      ]
    },
    {
      "cell_type": "code",
      "execution_count": null,
      "metadata": {
        "colab": {
          "base_uri": "https://localhost:8080/"
        },
        "id": "zKpVLfetah8f",
        "outputId": "f0a32d97-c7c8-421f-84c9-c526ae506aa6"
      },
      "outputs": [
        {
          "data": {
            "text/plain": [
              "array('i', [100, 10, 20, 30, 40, 50])"
            ]
          },
          "execution_count": 9,
          "metadata": {},
          "output_type": "execute_result"
        }
      ],
      "source": [
        "my_array.pop()\n",
        "my_array"
      ]
    },
    {
      "cell_type": "code",
      "execution_count": null,
      "metadata": {
        "colab": {
          "base_uri": "https://localhost:8080/"
        },
        "id": "N2TItl0papnO",
        "outputId": "58307cc6-5333-41c6-dd93-2f796b674c2e"
      },
      "outputs": [
        {
          "data": {
            "text/plain": [
              "array('i', [100, 10, 20, 40, 50])"
            ]
          },
          "execution_count": 10,
          "metadata": {},
          "output_type": "execute_result"
        }
      ],
      "source": [
        "my_array.remove(30)\n",
        "my_array"
      ]
    },
    {
      "cell_type": "code",
      "execution_count": null,
      "metadata": {
        "id": "w5hF_doTazxV"
      },
      "outputs": [],
      "source": [
        "my_array.reverse()"
      ]
    },
    {
      "cell_type": "code",
      "execution_count": null,
      "metadata": {
        "colab": {
          "base_uri": "https://localhost:8080/"
        },
        "id": "yjUHOUnAbChe",
        "outputId": "3101abad-65d0-4e35-aac0-4d1a55393924"
      },
      "outputs": [
        {
          "data": {
            "text/plain": [
              "array('i', [50, 40, 20, 10, 100])"
            ]
          },
          "execution_count": 12,
          "metadata": {},
          "output_type": "execute_result"
        }
      ],
      "source": [
        "my_array"
      ]
    },
    {
      "cell_type": "code",
      "execution_count": null,
      "metadata": {
        "colab": {
          "base_uri": "https://localhost:8080/"
        },
        "id": "cIsr8GRjbEMe",
        "outputId": "56d78cae-6fa7-4a45-dafa-f8664ef75bd6"
      },
      "outputs": [
        {
          "name": "stdout",
          "output_type": "stream",
          "text": [
            "(140514296438704, 5)\n"
          ]
        }
      ],
      "source": [
        "print(my_array.buffer_info())"
      ]
    },
    {
      "cell_type": "code",
      "execution_count": null,
      "metadata": {
        "colab": {
          "base_uri": "https://localhost:8080/"
        },
        "id": "iG1BqCNrbZcf",
        "outputId": "7d6d2556-a5a2-4464-f7e3-5ba0fa28e4c7"
      },
      "outputs": [
        {
          "name": "stdout",
          "output_type": "stream",
          "text": [
            "0\n"
          ]
        }
      ],
      "source": [
        "print(my_array.count(120))"
      ]
    },
    {
      "cell_type": "code",
      "execution_count": null,
      "metadata": {
        "colab": {
          "base_uri": "https://localhost:8080/"
        },
        "id": "MD9qadP8czBx",
        "outputId": "bd33340d-9492-4c10-e79e-d9dae3fecb3a"
      },
      "outputs": [
        {
          "name": "stdout",
          "output_type": "stream",
          "text": [
            "[50, 40, 20, 10, 100]\n"
          ]
        }
      ],
      "source": [
        "a = my_array.tolist()\n",
        "print(a)"
      ]
    },
    {
      "cell_type": "code",
      "execution_count": null,
      "metadata": {
        "id": "GBItVBnndGdv"
      },
      "outputs": [],
      "source": []
    },
    {
      "cell_type": "markdown",
      "metadata": {
        "id": "5nIsPGUn9w1-"
      },
      "source": [
        "### Stack Queue related problems"
      ]
    },
    {
      "cell_type": "code",
      "execution_count": null,
      "metadata": {
        "colab": {
          "base_uri": "https://localhost:8080/"
        },
        "id": "fXbiji1291Jo",
        "outputId": "a58bdac0-cd9c-4a90-9da8-f1d08ab564ed"
      },
      "outputs": [
        {
          "data": {
            "text/plain": [
              "65"
            ]
          },
          "execution_count": 1,
          "metadata": {},
          "output_type": "execute_result"
        }
      ],
      "source": [
        "ord(\"A\")"
      ]
    },
    {
      "cell_type": "code",
      "execution_count": null,
      "metadata": {
        "colab": {
          "base_uri": "https://localhost:8080/"
        },
        "id": "MZry1NazAtbP",
        "outputId": "fe2d7db3-deb1-4d8c-fe8c-6d7f161fc8cd"
      },
      "outputs": [
        {
          "name": "stdout",
          "output_type": "stream",
          "text": [
            "b  :  98\n",
            "i  :  105\n",
            "u  :  117\n",
            "q  :  113\n",
            "A  :  65\n"
          ]
        }
      ],
      "source": [
        "def print_reverse(input):\n",
        "  s = Stack()\n",
        "  for i in range(len(input)):\n",
        "    s.push(input[i])\n",
        "\n",
        "  for i in range(len(input)):\n",
        "    print(s.peek(),\" : \", ord(s.peek()))\n",
        "    s.pop()\n",
        "\n",
        "print_reverse(\"Aquib\")        "
      ]
    },
    {
      "cell_type": "code",
      "execution_count": null,
      "metadata": {
        "id": "w1UwWCtOGQs2"
      },
      "outputs": [],
      "source": [
        "from random import randint\n",
        "class Track:\n",
        "  def __init__(self, title):\n",
        "    self.title = title\n",
        "    self.duration = randint(5,10)"
      ]
    },
    {
      "cell_type": "code",
      "execution_count": null,
      "metadata": {
        "colab": {
          "base_uri": "https://localhost:8080/"
        },
        "id": "iZeCYECWIo9P",
        "outputId": "45fcb032-6066-4aac-dbe2-9e61720f490a"
      },
      "outputs": [
        {
          "name": "stdout",
          "output_type": "stream",
          "text": [
            "Khola Janala  :  9\n"
          ]
        }
      ],
      "source": [
        "t1 = Track(\"Khola Janala\")\n",
        "print(t1.title, \" : \", t1.duration)"
      ]
    },
    {
      "cell_type": "code",
      "execution_count": null,
      "metadata": {
        "colab": {
          "base_uri": "https://localhost:8080/"
        },
        "id": "BtMTsbm8JAZ3",
        "outputId": "df4abf91-5f21-4adc-8304-feb0985b244b"
      },
      "outputs": [
        {
          "name": "stdout",
          "output_type": "stream",
          "text": [
            "Shei Tumi  :  8\n"
          ]
        }
      ],
      "source": [
        "t2 = Track(\"Shei Tumi\")\n",
        "print(t2.title, \" : \", t2.duration)"
      ]
    },
    {
      "cell_type": "code",
      "execution_count": null,
      "metadata": {
        "colab": {
          "base_uri": "https://localhost:8080/"
        },
        "id": "KPskT_NkJJ-n",
        "outputId": "9f6cec94-6710-420e-82eb-fc2f94ae83ce"
      },
      "outputs": [
        {
          "name": "stdout",
          "output_type": "stream",
          "text": [
            "Playing..... Khola Janala\n",
            "Playing..... Shei Tumi\n",
            "All tracks finished\n"
          ]
        }
      ],
      "source": [
        "import time\n",
        "media_player = Queue()\n",
        "media_player.enqueue(t1)\n",
        "media_player.enqueue(t2)\n",
        "\n",
        "def play():\n",
        "  while not media_player.isempty():\n",
        "    current_song = media_player.peek()\n",
        "    print(\"Playing.....\", current_song.title)\n",
        "    time.sleep(current_song.duration)\n",
        "    media_player.dequeue()\n",
        "\n",
        "  print(\"All tracks finished\")\n",
        "\n",
        "play()    "
      ]
    },
    {
      "cell_type": "code",
      "execution_count": null,
      "metadata": {
        "id": "XFiL__xzLcg5"
      },
      "outputs": [],
      "source": []
    },
    {
      "cell_type": "markdown",
      "metadata": {
        "id": "-vcYcg29TSfg"
      },
      "source": [
        "# Linked List"
      ]
    },
    {
      "cell_type": "code",
      "execution_count": null,
      "metadata": {
        "id": "DRlLStnTTWdX"
      },
      "outputs": [],
      "source": [
        "class Node:\n",
        "  def __init__(self, data):\n",
        "    self.data = data\n",
        "    self.next = None"
      ]
    },
    {
      "cell_type": "code",
      "execution_count": null,
      "metadata": {
        "colab": {
          "base_uri": "https://localhost:8080/"
        },
        "id": "YxHk3Vp_Xd9k",
        "outputId": "dd23edec-830c-4068-b8c5-125a1befed85"
      },
      "outputs": [
        {
          "name": "stdout",
          "output_type": "stream",
          "text": [
            "10\n",
            "15\n",
            "20\n"
          ]
        }
      ],
      "source": [
        "n1 = Node(10)\n",
        "n2 = Node(15)\n",
        "n3 = Node(20)\n",
        "\n",
        "n1.next = n2\n",
        "n2.next = n3\n",
        "\n",
        "current_node = n1\n",
        "while current_node:\n",
        "  print(current_node.data)\n",
        "  current_node = current_node.next"
      ]
    },
    {
      "cell_type": "code",
      "execution_count": null,
      "metadata": {
        "id": "vDdbYpzmaI3U"
      },
      "outputs": [],
      "source": [
        "class SinglyLinkedList:\n",
        "  def __init__(self):\n",
        "    self.head = None\n",
        "    self.size = 0\n",
        "\n",
        "  def append(self, new_data):\n",
        "    new_node = Node(new_data)\n",
        "    if self.head is None:\n",
        "      self.head = new_node\n",
        "    else:\n",
        "      current_node = self.head\n",
        "      while current_node.next:\n",
        "        current_node = current_node.next\n",
        "      current_node.next = new_node\n",
        "    self.size+=1\n",
        "\n",
        "  def append_left(self, new_data):\n",
        "    new_node = Node(new_data)\n",
        "    if self.head is None:\n",
        "      self.head = new_node\n",
        "    else:\n",
        "      new_node.next = self.head\n",
        "      self.head = new_node\n",
        "    self.size += 1    \n",
        "\n",
        "  def append_after(self,target_data, new_data):\n",
        "    new_node = Node(new_data)\n",
        "    if self.size==0:\n",
        "      print(\"List is empty\")\n",
        "    else:\n",
        "      current_node = self.head\n",
        "      while current_node.next is not None:\n",
        "        if current_node.data==target_data:\n",
        "          self.size+=1\n",
        "          new_node.next = current_node.next\n",
        "          current_node.next = new_node\n",
        "          return\n",
        "        else:\n",
        "          current_node = current_node.next  \n",
        "\n",
        "  def pop_left(self):\n",
        "    if self.size==0:\n",
        "      print(\"List is empty\")\n",
        "    else:\n",
        "      self.head = self.head.next\n",
        "      self.size-=1  \n",
        "\n",
        "  def pop(self):\n",
        "    if self.size==0:\n",
        "      print(\"List is empty\")\n",
        "    else:\n",
        "      self.size-=1\n",
        "      if self.head.next is None:\n",
        "        self.head=None\n",
        "      else:\n",
        "        current_node = self.head\n",
        "        while current_node.next is not None:\n",
        "          if current_node.next.next is None:\n",
        "            current_node.next = None\n",
        "          else:  \n",
        "            current_node = current_node.next\n",
        "\n",
        "  def print_all(self):\n",
        "    current_node = self.head\n",
        "    while current_node is not None:\n",
        "      print(\"Node\",current_node.data)\n",
        "      current_node = current_node.next\n",
        "\n",
        "  def delete(self, value_to_be_deleted):\n",
        "    if self.size==0:\n",
        "      print(\"List is empty\")\n",
        "    else:\n",
        "      current_node = self.head\n",
        "      if self.head.data== value_to_be_deleted:\n",
        "        self.pop_left()\n",
        "      else:\n",
        "        while current_node.next is not None:\n",
        "          if current_node.next.data == value_to_be_deleted:\n",
        "            self.size-=1\n",
        "            current_node.next = current_node.next.next\n",
        "            return\n",
        "          else:\n",
        "            current_node = current_node.next      \n",
        "\n",
        "  def clear(self):\n",
        "    self.head = None\n",
        "    \n",
        "  def search(self, search_data):\n",
        "    current_node = self.head\n",
        "    while current_node:\n",
        "      if current_node.data == search_data:\n",
        "        return True\n",
        "      current_node= current_node.next\n",
        "    return False      "
      ]
    },
    {
      "cell_type": "code",
      "execution_count": null,
      "metadata": {
        "colab": {
          "base_uri": "https://localhost:8080/"
        },
        "id": "oBEuioOtdbi2",
        "outputId": "fda278a2-d046-486d-ab2f-7d24f21a6b57"
      },
      "outputs": [
        {
          "name": "stdout",
          "output_type": "stream",
          "text": [
            "Node 25\n",
            "Node 10\n",
            "Node 20\n",
            "3\n",
            "False\n"
          ]
        }
      ],
      "source": [
        "s = SinglyLinkedList()\n",
        "s.append(10)\n",
        "s.append(15)\n",
        "s.append(20)\n",
        "s.append_left(25)\n",
        "s.append_after(20, 50)\n",
        "# s.pop_left()\n",
        "# s.pop()\n",
        "s.delete(15)\n",
        "s.print_all()\n",
        "print(s.size)\n",
        "print(s.search(50))"
      ]
    },
    {
      "cell_type": "code",
      "execution_count": null,
      "metadata": {
        "id": "I9ZI-9Ksdk32"
      },
      "outputs": [],
      "source": []
    },
    {
      "cell_type": "code",
      "execution_count": 2,
      "metadata": {
        "colab": {
          "base_uri": "https://localhost:8080/"
        },
        "id": "lBxlzIzHgnMu",
        "outputId": "789b3223-7e2c-422c-f795-3fc5971594ae"
      },
      "outputs": [
        {
          "name": "stdout",
          "output_type": "stream",
          "text": [
            "Node 0\n",
            "Node 5\n",
            "Node 10\n"
          ]
        }
      ],
      "source": [
        "class Node:\n",
        "  def __init__(self, data):\n",
        "    self.data = data\n",
        "    self.next = None\n",
        "\n",
        "class SpecialSinglyLinkedList:\n",
        "  def __init__(self):\n",
        "    self.head = None\n",
        "    self.tail = None\n",
        "    self.size = 0\n",
        "\n",
        "  def append(self, new_data):\n",
        "    new_node = Node(new_data)\n",
        "    if self.head is None:\n",
        "      self.head = new_node\n",
        "      self.tail = new_node\n",
        "    else:\n",
        "      self.tail.next = new_node\n",
        "      self.tail = new_node\n",
        "    self.size+=1  \n",
        "\n",
        "  def print_all(self):\n",
        "    current_node = self.head\n",
        "    while current_node is not None:\n",
        "      print(\"Node\",current_node.data)\n",
        "      current_node = current_node.next\n",
        "\n",
        "a = SpecialSinglyLinkedList()\n",
        "a.append(0)\n",
        "a.append(5)\n",
        "a.append(10)\n",
        "a.print_all()      "
      ]
    },
    {
      "cell_type": "markdown",
      "metadata": {
        "id": "RpsOCNOOkvbW"
      },
      "source": [
        "Find the sum of the nodes of a singly linked list"
      ]
    },
    {
      "cell_type": "code",
      "execution_count": null,
      "metadata": {
        "colab": {
          "base_uri": "https://localhost:8080/"
        },
        "id": "y96s5bLfT06U",
        "outputId": "12fd6f1a-b0ae-4890-d715-546fec51ccb1"
      },
      "outputs": [
        {
          "data": {
            "text/plain": [
              "80"
            ]
          },
          "execution_count": 3,
          "metadata": {},
          "output_type": "execute_result"
        }
      ],
      "source": [
        "s = SinglyLinkedList()\n",
        "s.append(10)\n",
        "s.append(40)\n",
        "s.append(30)\n",
        "\n",
        "def calculate_sum(s_object):\n",
        "  if s_object.size!=0:\n",
        "    sum = 0\n",
        "    current_node = s_object.head\n",
        "    while current_node is not None:\n",
        "      sum+= current_node.data\n",
        "      current_node = current_node.next\n",
        "    return sum\n",
        "\n",
        "calculate_sum(s)      "
      ]
    },
    {
      "cell_type": "markdown",
      "metadata": {
        "id": "aFvjlQFDlL82"
      },
      "source": [
        "Identical linked list"
      ]
    },
    {
      "cell_type": "code",
      "execution_count": null,
      "metadata": {
        "colab": {
          "base_uri": "https://localhost:8080/"
        },
        "id": "_th5_N2tWcfl",
        "outputId": "ae622c49-778f-4fdd-a2a7-5cd339c9f3ce"
      },
      "outputs": [
        {
          "data": {
            "text/plain": [
              "True"
            ]
          },
          "execution_count": 8,
          "metadata": {},
          "output_type": "execute_result"
        }
      ],
      "source": [
        "s1 = SinglyLinkedList()\n",
        "s1.append(10)\n",
        "s1.append(40)\n",
        "s1.append(30)\n",
        "\n",
        "s2 = SinglyLinkedList()\n",
        "s2.append(10)\n",
        "s2.append(40)\n",
        "s2.append(30)\n",
        "\n",
        "def is_identical(list1, list2):\n",
        "  identical =  True\n",
        "  if list1.size!=0 and list2.size!=0:\n",
        "    current_node1 = list1.head\n",
        "    current_node2 = list2.head\n",
        "\n",
        "    while current_node1 is not None:\n",
        "      if current_node1.data == current_node2.data:\n",
        "        identical = True\n",
        "      else:\n",
        "        identical = False\n",
        "        return identical\n",
        "      current_node1 = current_node1.next\n",
        "      current_node2 = current_node2.next\n",
        "\n",
        "  return identical      \n",
        "is_identical(s1,s2)"
      ]
    },
    {
      "cell_type": "markdown",
      "metadata": {
        "id": "9Q4R7odaler7"
      },
      "source": [
        "Print all node except alternate nodes"
      ]
    },
    {
      "cell_type": "code",
      "execution_count": null,
      "metadata": {
        "colab": {
          "base_uri": "https://localhost:8080/"
        },
        "id": "0_11ECDVZZld",
        "outputId": "14c93c03-e198-4bd1-cc29-3f1d17b4e831"
      },
      "outputs": [
        {
          "name": "stdout",
          "output_type": "stream",
          "text": [
            "10\n",
            "30\n",
            "50\n"
          ]
        }
      ],
      "source": [
        "s = SinglyLinkedList()\n",
        "s.append(10)\n",
        "s.append(20)\n",
        "s.append(30)\n",
        "s.append(40)\n",
        "s.append(50)\n",
        "\n",
        "def print_all_except_alt(s_object):\n",
        "  current_node = s_object.head\n",
        "  counter = 0\n",
        "  if current_node is None:\n",
        "    return\n",
        "  while current_node is not None:\n",
        "    if counter%2==0:\n",
        "      print(current_node.data)\n",
        "    counter+=1\n",
        "    current_node = current_node.next\n",
        "\n",
        "print_all_except_alt(s)"
      ]
    },
    {
      "cell_type": "markdown",
      "metadata": {
        "id": "T69csS0dblmd"
      },
      "source": [
        "Print a dictionary where the keys are numbers between 1 and 15 and the values are square of keys"
      ]
    },
    {
      "cell_type": "code",
      "execution_count": null,
      "metadata": {
        "colab": {
          "base_uri": "https://localhost:8080/"
        },
        "id": "ec_KpuThb7wc",
        "outputId": "ef69b4b3-3a9f-4389-ed2b-43744570df79"
      },
      "outputs": [
        {
          "name": "stdout",
          "output_type": "stream",
          "text": [
            "{15: 225, 14: 196, 13: 169, 12: 144, 11: 121, 10: 100, 9: 81, 8: 64, 7: 49, 6: 36, 5: 25, 4: 16, 3: 9, 2: 4, 1: 1}\n"
          ]
        }
      ],
      "source": [
        "my_dictionary = dict()\n",
        "for x in range(15,0, -1):\n",
        "  my_dictionary[x] = x**2\n",
        "\n",
        "print(my_dictionary)  "
      ]
    },
    {
      "cell_type": "markdown",
      "metadata": {
        "id": "WBlOibVJdp4F"
      },
      "source": [
        "print the sum of all items(value) in a dictionary"
      ]
    },
    {
      "cell_type": "code",
      "execution_count": null,
      "metadata": {
        "colab": {
          "base_uri": "https://localhost:8080/"
        },
        "id": "XjTxPoqAd0kV",
        "outputId": "b776525f-a89b-4dab-83d7-e78cda70db31"
      },
      "outputs": [
        {
          "name": "stdout",
          "output_type": "stream",
          "text": [
            "293\n"
          ]
        }
      ],
      "source": [
        "my_dictionary = {'data1':100, 'data2':-54, 'data3': 247}\n",
        "print(sum(my_dictionary.values()))"
      ]
    },
    {
      "cell_type": "code",
      "execution_count": null,
      "metadata": {
        "colab": {
          "base_uri": "https://localhost:8080/"
        },
        "id": "c10fSBeBeNVl",
        "outputId": "0c8e342d-8820-40d5-ce14-72260155a690"
      },
      "outputs": [
        {
          "data": {
            "text/plain": [
              "293"
            ]
          },
          "execution_count": 15,
          "metadata": {},
          "output_type": "execute_result"
        }
      ],
      "source": [
        "def sum_of_dictionary(d):\n",
        "  list = []\n",
        "  for i in d:\n",
        "    list.append(d[i])\n",
        "\n",
        "  return sum(list)\n",
        "\n",
        "sum_of_dictionary(my_dictionary)    "
      ]
    },
    {
      "cell_type": "markdown",
      "metadata": {
        "id": "yToFVYVrfRiN"
      },
      "source": [
        "Add two 3*3 matrices"
      ]
    },
    {
      "cell_type": "code",
      "execution_count": null,
      "metadata": {
        "colab": {
          "base_uri": "https://localhost:8080/"
        },
        "id": "SwouHuR8gGU1",
        "outputId": "2f726576-d1d2-4f97-e307-6b3857ad8c55"
      },
      "outputs": [
        {
          "name": "stdout",
          "output_type": "stream",
          "text": [
            "[17, 15, 4]\n",
            "[10, 12, 9]\n",
            "[11, 13, 18]\n"
          ]
        }
      ],
      "source": [
        "x = [[12,7,3], [4,5,6], [7,8,9]]\n",
        "y = [[5,8,1],[6,7,3], [4,5,9]]\n",
        "\n",
        "z = [[0,0,0],[0,0,0],[0,0,0]]\n",
        "\n",
        "for i in range(len(x)):\n",
        "  for j in range(len(x[0])):\n",
        "    z[i][j] = x[i][j] + y[i][j]\n",
        "\n",
        "for i in z:\n",
        "  print(i)    "
      ]
    }
  ],
  "metadata": {
    "colab": {
      "name": "CSE203_S10.ipynb",
      "provenance": []
    },
    "kernelspec": {
      "display_name": "Python 3.8.5 32-bit",
      "language": "python",
      "name": "python3"
    },
    "language_info": {
      "codemirror_mode": {
        "name": "ipython",
        "version": 3
      },
      "file_extension": ".py",
      "mimetype": "text/x-python",
      "name": "python",
      "nbconvert_exporter": "python",
      "pygments_lexer": "ipython3",
      "version": "3.8.5"
    },
    "vscode": {
      "interpreter": {
        "hash": "29c7a3964a9838c84f1d19dc4c2535ace62f5c920b4276f4747fa80ddec8638a"
      }
    }
  },
  "nbformat": 4,
  "nbformat_minor": 0
}
