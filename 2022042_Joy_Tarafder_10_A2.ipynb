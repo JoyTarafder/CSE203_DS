{
 "cells": [
  {
   "cell_type": "code",
   "execution_count": 2,
   "metadata": {},
   "outputs": [
    {
     "name": "stdout",
     "output_type": "stream",
     "text": [
      "Student 1. ('Rahim', 3.5)\n",
      "Student 2. ('Karim', 3.75)\n",
      "Student 3. ('Jamal', 3.2)\n",
      "Student 4. ('Nafis', 3.85)\n",
      "Sorting All Student Name List: ['Jamal', 'Karim', 'Nafis', 'Rahim']\n",
      "Last Student: ('Nafis', 3.85)\n",
      "Calculate Average CGPA : 3.575 \n"
     ]
    }
   ],
   "source": [
    "class Node:\n",
    "  def __init__(self, data):\n",
    "    self.data = data \n",
    "    self.next = None\n",
    "\n",
    "class SinglyLinkedList: # Linked LList\n",
    "  def __init__(self):\n",
    "    self.head = None \n",
    "    self.size = 0\n",
    "\n",
    "  def insert_student(self, new_name, new_cgpa): # Append Student Data (Name, CGPA)\n",
    "    new_node = Node((new_name,new_cgpa)) # Use Tuple\n",
    "    if self.head is None: # List is empty\n",
    "      self.head = new_node \n",
    "    else:\n",
    "      current_node = self.head # Current Node Access 1st data\n",
    "      while current_node.next: # Current Node next data is not None (Loop)\n",
    "        current_node = current_node.next # Access next data\n",
    "      current_node.next = new_node # Store new data\n",
    "    self.size += 1 # List Size Update\n",
    "\n",
    "  def show_last_student(self): # Show Last Student Name and CGPA\n",
    "    if self.size == 0:\n",
    "      print(\"List is empty\")\n",
    "    else:\n",
    "      current_node = self.head  # Current Node Access 1st data\n",
    "      while current_node.next is not None:\n",
    "          if current_node.next.next == None:\n",
    "            current_node = current_node.next # Access next data\n",
    "            print(\"Last Student:\",current_node.data)\n",
    "            return\n",
    "          current_node = current_node.next # Access next data\n",
    "\n",
    "  def sort_student(self): # Sorting All Student Name\n",
    "    if self.size == 0:\n",
    "      print(\"List is empty\")\n",
    "    else:\n",
    "      current_node = self.head  # Current Node Access 1st data\n",
    "      name_list = [] # Empty List\n",
    "      while current_node is not None:\n",
    "        name_list.append(current_node.data[0]) # Access Student Name Data and Append List\n",
    "        current_node = current_node.next # Access next data\n",
    "      print(f\"Sorting All Student Name List: {sorted(name_list)}\") # Print Sorting All Student Name List\n",
    "\n",
    "  def calculate_avg_CGPA(self): # calculating average CGPA\n",
    "    if self.size!=0:\n",
    "      sum = 0\n",
    "      count = 0\n",
    "      current_node = self.head  # Current Node Access 1st data\n",
    "      while current_node is not None:\n",
    "        count +=1 # calculate how many student data\n",
    "        sum+= current_node.data[1] # Access student cgpa and use sum function\n",
    "        current_node = current_node.next # Access next data \n",
    "    print(\"Calculate Average CGPA : %.3f \" % (sum/count))\n",
    "\n",
    "  def print_all(self): # Print all student data\n",
    "    counter = 0\n",
    "    current_node = self.head  # Current Node Access 1st data\n",
    "    while current_node is not None:\n",
    "      counter +=1 # calculate how many student data\n",
    "      print(f\"Student {counter}. {current_node.data}\") # Print Student Data\n",
    "      current_node = current_node.next # Access next data\n",
    "\n",
    "s = SinglyLinkedList()\n",
    "s.insert_student( 'Rahim',3.5)\n",
    "s.insert_student('Karim',3.75)\n",
    "s.insert_student('Jamal',3.2)\n",
    "s.insert_student('Nafis',3.85)\n",
    "\n",
    "s.print_all()\n",
    "s.sort_student()\n",
    "s.show_last_student()\n",
    "s.calculate_avg_CGPA()\n"
   ]
  }
 ],
 "metadata": {
  "kernelspec": {
   "display_name": "Python 3.8.5 32-bit",
   "language": "python",
   "name": "python3"
  },
  "language_info": {
   "codemirror_mode": {
    "name": "ipython",
    "version": 3
   },
   "file_extension": ".py",
   "mimetype": "text/x-python",
   "name": "python",
   "nbconvert_exporter": "python",
   "pygments_lexer": "ipython3",
   "version": "3.8.5"
  },
  "orig_nbformat": 4,
  "vscode": {
   "interpreter": {
    "hash": "29c7a3964a9838c84f1d19dc4c2535ace62f5c920b4276f4747fa80ddec8638a"
   }
  }
 },
 "nbformat": 4,
 "nbformat_minor": 2
}
