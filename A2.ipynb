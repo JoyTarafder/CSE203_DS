{
 "cells": [
  {
   "cell_type": "code",
   "execution_count": 66,
   "metadata": {},
   "outputs": [
    {
     "name": "stdout",
     "output_type": "stream",
     "text": [
      "Node ['Rahim', 3.5]\n",
      "Node ['Karim', 3.75]\n",
      "Node ['Jamal', 3.2]\n",
      "Node ['Nafis', 3.85]\n",
      "['Jamal', 'Karim', 'Nafis', 'Rahim']\n",
      "Last Student: ['Nafis', 3.85]\n",
      "Calculate Average CGPA : 3.575 \n"
     ]
    }
   ],
   "source": [
    "class Node:\n",
    "  def __init__(self, data):\n",
    "    self.data = data\n",
    "    self.next = None\n",
    "\n",
    "class SinglyLinkedList:\n",
    "  def __init__(self):\n",
    "    self.head = None\n",
    "    self.size = 0\n",
    "\n",
    "  def insert_student(self, new_name, new_cgpa):\n",
    "    new_node = Node([new_name,new_cgpa])\n",
    "    if self.head is None:\n",
    "      self.head = new_node\n",
    "    else:\n",
    "      current_node = self.head\n",
    "      while current_node.next:\n",
    "        current_node = current_node.next\n",
    "      current_node.next = new_node\n",
    "    self.size+=1\n",
    "\n",
    "  def show_last_student(self):\n",
    "    if self.size == 0:\n",
    "            print(\"List is empty\")\n",
    "    else:\n",
    "        current_node = self.head\n",
    "        while current_node.next is not None:\n",
    "            if current_node.next.next == None:\n",
    "              current_node = current_node.next\n",
    "              print(\"Last Student:\",current_node.data)\n",
    "              return\n",
    "            else:\n",
    "              current_node = current_node.next\n",
    "\n",
    "  def sort_student(self):\n",
    "    if self.size == 0:\n",
    "      print(\"List is empty\")\n",
    "    else:\n",
    "      current_node = self.head\n",
    "      name_list = []\n",
    "      while current_node is not None:\n",
    "        name_list.append(current_node.data[0])\n",
    "        current_node = current_node.next\n",
    "      print(sorted(name_list))\n",
    "\n",
    "  def calculate_avg_CGPA(self):\n",
    "    if self.size!=0:\n",
    "      sum = 0\n",
    "      count = 0\n",
    "      current_node = self.head\n",
    "      while current_node is not None:\n",
    "        count +=1\n",
    "        sum+= current_node.data[1]\n",
    "        current_node = current_node.next\n",
    "    avg = (sum/count)\n",
    "    return print(\"Calculate Average CGPA : %.3f \" % avg)\n",
    "\n",
    "  def print_all(self):\n",
    "    current_node = self.head\n",
    "    while current_node is not None:\n",
    "      print(\"Node\",current_node.data)\n",
    "      current_node = current_node.next\n",
    "\n",
    "s = SinglyLinkedList()\n",
    "s.insert_student( 'Rahim',3.5)\n",
    "s.insert_student('Karim',3.75)\n",
    "s.insert_student('Jamal',3.2)\n",
    "s.insert_student('Nafis',3.85)\n",
    "\n",
    "s.print_all()\n",
    "s.sort_student()\n",
    "s.show_last_student()\n",
    "s.calculate_avg_CGPA()\n"
   ]
  }
 ],
 "metadata": {
  "kernelspec": {
   "display_name": "Python 3.8.5 32-bit",
   "language": "python",
   "name": "python3"
  },
  "language_info": {
   "codemirror_mode": {
    "name": "ipython",
    "version": 3
   },
   "file_extension": ".py",
   "mimetype": "text/x-python",
   "name": "python",
   "nbconvert_exporter": "python",
   "pygments_lexer": "ipython3",
   "version": "3.8.5"
  },
  "orig_nbformat": 4,
  "vscode": {
   "interpreter": {
    "hash": "29c7a3964a9838c84f1d19dc4c2535ace62f5c920b4276f4747fa80ddec8638a"
   }
  }
 },
 "nbformat": 4,
 "nbformat_minor": 2
}
