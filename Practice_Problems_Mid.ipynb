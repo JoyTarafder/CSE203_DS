{
  "nbformat": 4,
  "nbformat_minor": 0,
  "metadata": {
    "colab": {
      "name": "Practice_Problems.ipynb",
      "provenance": [],
      "toc_visible": true
    },
    "kernelspec": {
      "name": "python3",
      "display_name": "Python 3"
    },
    "language_info": {
      "name": "python"
    }
  },
  "cells": [
    {
      "cell_type": "markdown",
      "source": [
        "# Concepts"
      ],
      "metadata": {
        "id": "47G8AU8fSGLS"
      }
    },
    {
      "cell_type": "markdown",
      "source": [
        "**Basic programming**: \n",
        "Function, Condition, Loop\n",
        "\n",
        "**Lists, Tuples, Sets and Dictionaries:**\n",
        "\n",
        "Common operations: len, sorted, indexing, slicing, concatenation, searching\n",
        "\n",
        "**Python Collections**\n",
        "There are four collection data types in the Python programming language:\n",
        "\n",
        "List is a collection which is ordered and changeable. Allows duplicate members.\n",
        "Tuple is a collection which is ordered and unchangeable. Allows duplicate members.\n",
        "\n",
        "Set is a collection which is unordered, unchangeable, and unindexed. No duplicate members.\n",
        "\n",
        "Dictionary is a collection which is ordered and changeable. No duplicate members"
      ],
      "metadata": {
        "id": "NhFTWTYdG3B5"
      }
    },
    {
      "cell_type": "markdown",
      "source": [
        "**ADT**\n",
        " in order to simplify the process of solving problems, we can create data structures along with their operations, and such data structures that are not in-built(primitive) are known as Abstract Data Type (ADT).\n",
        "\n",
        " Abstract Data type (ADT) is a type (or class) for objects whose behavior is defined by a set of values and a set of operations.\n",
        "\n",
        " The user of data type does not need to know how that data type is implemented\n",
        "\n",
        " Example: list, set, dictionary, stack, queue"
      ],
      "metadata": {
        "id": "NSyzw1wLHg1O"
      }
    },
    {
      "cell_type": "markdown",
      "source": [
        "**Collection : Counter, Orderdict, Defaultdict, chainmap, Namedtuple, Deque**\n",
        "\n",
        "The collections module provides more specialized, high, performance alternatives for\n",
        "the built-in data types as well as a utility function to create named tuples.\n",
        "\n",
        "The collection Module in Python provides different types of containers."
      ],
      "metadata": {
        "id": "QvLF_IxVHlaG"
      }
    },
    {
      "cell_type": "markdown",
      "source": [
        "Counter: A counter is a sub-class of the dictionary. It is used to keep the count of the elements in an iterable in the form of an unordered dictionary where the key represents the element in the iterable and value represents the count of that element in the iterable.\n",
        "\n"
      ],
      "metadata": {
        "id": "dzJrmXsRHnJv"
      }
    },
    {
      "cell_type": "markdown",
      "source": [
        "DefaultDict:Dictionary subclass that calls a function to supply missing values."
      ],
      "metadata": {
        "id": "TZ8uS_PEHtDH"
      }
    },
    {
      "cell_type": "markdown",
      "source": [
        "ChainMap: Dictionary like class to create a single view of multiple mappings."
      ],
      "metadata": {
        "id": "Hx-GiNcfuDk-"
      }
    },
    {
      "cell_type": "markdown",
      "source": [
        "NamedTuple: Creates tuple subclasses with named fields."
      ],
      "metadata": {
        "id": "4jSlDze7u70y"
      }
    },
    {
      "cell_type": "markdown",
      "source": [
        "deque: Lists with fast appends and pops either end"
      ],
      "metadata": {
        "id": "8x7t2pjbzc2s"
      }
    },
    {
      "cell_type": "markdown",
      "source": [
        "**Array vs list**\n",
        "An array is faster than a list in python since all the elements stored in an array are homogeneous i.e., they have the same data type whereas a list contains heterogeneous elements.\n",
        "\n",
        "Moreover, Python arrays are implemented in C which makes it a lot faster than lists that are built-in in Python itself.\n",
        "\n",
        "memory consumption of arrays is more efficient than lists. Storing 1 million integers in an integer array requires around 45% of the memory of an equivalent list\n",
        "\n",
        "arrays should be used when mathematical operations need to be performed.\n",
        "\n",
        "An array is a sequential list of data. Being sequential means that each element is stored right after the previous one in memory. If your array is really big and you are low on memory, it could be impossible to find large enough storage to fit your entire array."
      ],
      "metadata": {
        "id": "xioxz0pVIXgk"
      }
    },
    {
      "cell_type": "markdown",
      "source": [
        "Time complexity of python list:\n",
        "1. append = O(1)\n",
        "2. pop = O(1)\n",
        "3. Get element by indexing = O(1)\n",
        "4. delete particular element = O(n)\n",
        "\n",
        "Time complexity of python array:\n",
        "1. append = O(1)\n",
        "2. pop = O(1)\n",
        "3. Get element by indexing = O(1)\n",
        "4. delete particular element = O(n)\n",
        "\n",
        "Time complexity of Singly Linked list:\n",
        "1. append = O(n)\n",
        "2. pop = O(n)\n",
        "3. pop_left = O(1)\n",
        "4. Get element by indexing = No indexing\n",
        "5. delete particular element = O(n)\n",
        "6. search = O(n)\n",
        "7. append_left = O(1)"
      ],
      "metadata": {
        "id": "rhykwUDmImJ-"
      }
    },
    {
      "cell_type": "markdown",
      "source": [
        "What is the difference between python array and linked list?\n",
        "https://www.geeksforgeeks.org/linked-list-vs-array/"
      ],
      "metadata": {
        "id": "u5_MjhlXHQMa"
      }
    },
    {
      "cell_type": "markdown",
      "source": [
        "**Linkedlist** vs python **array** vs **List**"
      ],
      "metadata": {
        "id": "oHwOQJnZpFz_"
      }
    },
    {
      "cell_type": "markdown",
      "source": [
        "How do you **implement stack and queue using linked list**?"
      ],
      "metadata": {
        "id": "BkYkpntxkz_W"
      }
    },
    {
      "cell_type": "markdown",
      "source": [
        "# Basic programming problems"
      ],
      "metadata": {
        "id": "orm4xeieR7Uh"
      }
    },
    {
      "cell_type": "markdown",
      "source": [
        "1.\tWrite a program that asks the user for a number n and prints the sum of the numbers 1 to n. Example: \n",
        "\n",
        "Input: 4\n",
        "\n",
        "Output: 1+2+3+4 = 10\n",
        "\n",
        "2.\tWrite a program that prints the next 20 leap years.\n",
        "\n",
        "3.\tWrite a guessing game where the user has to guess a secret number. After every guess the program tells the user whether their number was too large or too small. At the end the number of tries needed should be printed.\n",
        "Example: Suppose you have set the secret number: 25.\n",
        "\n",
        "User input: 12\n",
        "\n",
        "Output: Too small (Guess 1)\n",
        "\n",
        "User input: 28\n",
        "\n",
        "Output: Too large (Guess 2)\n",
        "\n",
        "User input: 20\n",
        "\n",
        "Output: Too small (Guess 3)\n",
        "\n",
        "User input: 25\n",
        "\n",
        "Output: Correct!!! (Guess 4)\n",
        "\n",
        "4.\tWrite a program that asks the user for a number N, then asks the user to enter N numbers. It stores these numbers in an array and prints the array in a reverse order. Example:\n",
        "Input:\n",
        "5\n",
        "40 34 67 9 10\n",
        "Output:\n",
        "10 9 67 34 40\n"
      ],
      "metadata": {
        "id": "tlt5EjolSCG_"
      }
    },
    {
      "cell_type": "markdown",
      "source": [
        "5.\tWrite a program in to transpose a matrix.\n",
        "Example:\n",
        "\n",
        "Enter number of rows: 2\n",
        "\n",
        "Enter number of columns: 3\n",
        "\n",
        "Enter matrix elements :\n",
        "\n",
        "Enter element [1,1] : 1 \n",
        "\n",
        "Enter element [1,2] : 2\n",
        "\n",
        "Enter element [1,3] : 3\n",
        "\n",
        "Enter element [2,1] : 4\n",
        "\n",
        "Enter element [2,2] : 5\n",
        "\n",
        "Enter element [2,3] : 6\n",
        "\n",
        "Output:\n",
        "Transpose Matrix is :\n",
        "\n",
        "    1\t4\t \n",
        "    2\t5\t \n",
        "    3\t6\n"
      ],
      "metadata": {
        "id": "LZ5QP45sTOrY"
      }
    },
    {
      "cell_type": "markdown",
      "source": [
        "6. Print a dictionary where the keys are numbers between 1 and 15 and the values are square of keys\n",
        "\n",
        "7. Write a Python program to **sum all the items** in a dictionary.\n",
        "\n",
        "8. Write a program to **add two matrices** using nested loop\n",
        "\n",
        "9. Check if a tuple is distinct. Means all the elements of the tuple is different or not https://www.geeksforgeeks.org/python-test-if-tuple-is-distinct/"
      ],
      "metadata": {
        "id": "Q9U6M_peaQlV"
      }
    },
    {
      "cell_type": "markdown",
      "source": [
        "Print a dictionary where the keys are **numbers between 1 and 15 and the values are square of keys**"
      ],
      "metadata": {
        "id": "bVIABgFCFw1i"
      }
    },
    {
      "cell_type": "code",
      "source": [
        "d=dict()\n",
        "for x in range(1,16):\n",
        "    d[x]=x**2\n",
        "print(d)  "
      ],
      "metadata": {
        "colab": {
          "base_uri": "https://localhost:8080/"
        },
        "id": "AIZRHFTbGR8R",
        "outputId": "344ec270-c07d-44c3-b0d7-4c389545534f"
      },
      "execution_count": null,
      "outputs": [
        {
          "output_type": "stream",
          "name": "stdout",
          "text": [
            "{1: 1, 2: 4, 3: 9, 4: 16, 5: 25, 6: 36, 7: 49, 8: 64, 9: 81, 10: 100, 11: 121, 12: 144, 13: 169, 14: 196, 15: 225}\n"
          ]
        }
      ]
    },
    {
      "cell_type": "markdown",
      "source": [
        "Write a Python program to **sum all the items** in a dictionary."
      ],
      "metadata": {
        "id": "X0K3QaXYKfeo"
      }
    },
    {
      "cell_type": "code",
      "source": [
        "my_dict = {'data1':100,'data2':-54,'data3':247}\n",
        "print(sum(my_dict.values()))"
      ],
      "metadata": {
        "id": "ulQlPPn9Kkdt"
      },
      "execution_count": null,
      "outputs": []
    },
    {
      "cell_type": "code",
      "source": [
        "#alternate solution\n",
        "\n",
        "def returnSum(myDict):\n",
        " \n",
        "    list = []\n",
        "    for i in myDict:\n",
        "        list.append(myDict[i])\n",
        " \n",
        "    return sum(list)\n",
        " \n",
        "dict = {'a': 100, 'b': 200, 'c': 300}\n",
        "print(\"Sum :\", returnSum(dict))"
      ],
      "metadata": {
        "colab": {
          "base_uri": "https://localhost:8080/"
        },
        "id": "P5wdigCBKrj5",
        "outputId": "3fee7213-7124-4dcc-aa3e-e8488c72b05d"
      },
      "execution_count": null,
      "outputs": [
        {
          "output_type": "stream",
          "name": "stdout",
          "text": [
            "Sum : 600\n"
          ]
        }
      ]
    },
    {
      "cell_type": "markdown",
      "source": [
        "Program to **add two matrices** using nested loop"
      ],
      "metadata": {
        "id": "MI5A6rKJOGrR"
      }
    },
    {
      "cell_type": "code",
      "source": [
        "# Program to add two matrices using nested loop\n",
        "\n",
        "X = [[12,7,3],\n",
        "    [4 ,5,6],\n",
        "    [7 ,8,9]]\n",
        "\n",
        "Y = [[5,8,1],\n",
        "    [6,7,3],\n",
        "    [4,5,9]]\n",
        "\n",
        "result = [[0,0,0],\n",
        "         [0,0,0],\n",
        "         [0,0,0]]\n",
        "\n",
        "# iterate through rows\n",
        "for i in range(len(X)):\n",
        "   # iterate through columns\n",
        "   for j in range(len(X[0])):\n",
        "       result[i][j] = X[i][j] + Y[i][j]\n",
        "\n",
        "for r in result:\n",
        "   print(r)"
      ],
      "metadata": {
        "colab": {
          "base_uri": "https://localhost:8080/"
        },
        "id": "wejiK9jqOH7i",
        "outputId": "e6552efc-b3c5-4864-e503-4388b786f880"
      },
      "execution_count": null,
      "outputs": [
        {
          "output_type": "stream",
          "name": "stdout",
          "text": [
            "[17, 15, 4]\n",
            "[10, 12, 9]\n",
            "[11, 13, 18]\n"
          ]
        }
      ]
    },
    {
      "cell_type": "markdown",
      "source": [
        "**Word count** problem"
      ],
      "metadata": {
        "id": "-_-czqdeS1UX"
      }
    },
    {
      "cell_type": "code",
      "execution_count": null,
      "metadata": {
        "id": "q_67xdDyGww9"
      },
      "outputs": [],
      "source": [
        "#Word count example\n",
        "sentence = \"Mary and Samantha arrived at the bus station early but waited until noon for the bus.\"\n",
        "sentence = sentence.lower();\n",
        "sentence = sentence.replace(\".\", \"\")\n",
        "words = sentence.split()\n",
        "len(words)\n",
        "\n",
        "word_frequecny = {}\n",
        "for word in words:\n",
        "  if word not in word_frequecny:\n",
        "    word_frequecny[word] = 1\n",
        "  else:\n",
        "    word_frequecny[word] += 1 \n",
        "\n",
        "print (word_frequecny)"
      ]
    },
    {
      "cell_type": "markdown",
      "source": [
        "# Stack Queue related problems"
      ],
      "metadata": {
        "id": "RG9do9HY8-X0"
      }
    },
    {
      "cell_type": "code",
      "source": [
        "class Stack:\n",
        "    def __init__(self):\n",
        "        self.data = []\n",
        "        \n",
        "    def size(self):\n",
        "        return len(self.data)\n",
        "    \n",
        "    def isempty(self):\n",
        "      if self.size()==0:\n",
        "        return True\n",
        "      else: \n",
        "        return False  \n",
        "\n",
        "    def push(self, data):\n",
        "        self.data.append(data)\n",
        "        \n",
        "\n",
        "    def pop(self):\n",
        "      if self.isempty():\n",
        "        print(\"Stack is empty\")\n",
        "      else:\n",
        "        self.data.pop()  \n",
        "\n",
        "\n",
        "    def peek(self):\n",
        "      if self.isempty():\n",
        "        print(\"Stack is empty\")\n",
        "      else:\n",
        "        return self.data[-1]  "
      ],
      "metadata": {
        "id": "h5cwNGXhIDhZ"
      },
      "execution_count": null,
      "outputs": []
    },
    {
      "cell_type": "code",
      "source": [
        "from collections import deque\n",
        "\n",
        "# Queue implementation using deque (Double ended queue)\n",
        "class Queue:\n",
        "    def __init__(self):\n",
        "        self.data = deque()\n",
        "        \n",
        "    def size(self):\n",
        "        return len(self.data)\n",
        "\n",
        "    def isempty(self):\n",
        "      if self.size()==0:\n",
        "        return True\n",
        "      else: \n",
        "        False \n",
        "    \n",
        "    def enqueue(self, data):\n",
        "        self.data.append(data)\n",
        "\n",
        "    def dequeue(self):\n",
        "      if self.isempty():\n",
        "        print(\"Queue is empty\")\n",
        "      else:\n",
        "        self.data.popleft()\n",
        "\n",
        "    def peek(self):\n",
        "      if self.isempty():\n",
        "        print(\"Queue is empty\")\n",
        "      else:\n",
        "        return self.data[0] "
      ],
      "metadata": {
        "id": "fcQCH2PfIKQK"
      },
      "execution_count": null,
      "outputs": []
    },
    {
      "cell_type": "markdown",
      "source": [
        "Check out these problems:\n",
        "1. https://www.hackerrank.com/challenges/queue-using-two-stacks/problem\n",
        "2. https://www.hackerrank.com/challenges/maximum-element/problem\n",
        "3. https://www.hackerrank.com/challenges/equal-stacks/problem\n",
        "\n",
        "4. We have a Stack. And it is populated by integers. Also we assume that push(), pop(), and isEmpty() are implemented for this Stack. Write a program in a way that the largest value in that Stack would be in the TOP position.\n",
        "hint: You should use a helpingStack and its functions helpingStackPush(), helpingStackPop(), and helpingStackisEmpty(). Assume: functions helpingStackPush(), helpingStackPop(), and helpingStackisEmpty() are already implemented. You need to use them properly"
      ],
      "metadata": {
        "id": "YZisDQudU1Jj"
      }
    },
    {
      "cell_type": "markdown",
      "source": [
        "**Bracket matching problem**\n",
        "\n",
        "The idea is to iterate through the given string character by character. For each character, check against the brackets. If a opening bracket is encountered, push it to the stack; if a closing bracket is encountered, pop the top one from the stack and compare it with the expected opening bracket, and return false if the comparison fails. At the end of the iteration, check to see if the whole stack is empty. if so, return true.\n",
        "Note that the types of brackets default to three kinds, and can be supply as a optional parameter."
      ],
      "metadata": {
        "id": "SvXggINV9xmA"
      }
    },
    {
      "cell_type": "code",
      "source": [
        "open_list = [\"[\",\"{\",\"(\"]\n",
        "close_list = [\"]\",\"}\",\")\"]\n",
        "\n",
        "def check_bracket(input):\n",
        "  s = Stack()\n",
        "  for i in input:\n",
        "    if i in open_list:\n",
        "      s.push(i)\n",
        "    elif i in close_list:\n",
        "      position_of_end_bracket = close_list.index(i)\n",
        "      if (s.size()>0) and open_list[position_of_end_bracket] == s.peek():\n",
        "        s.pop()\n",
        "      else:\n",
        "        return False\n",
        "  if s.size()==0:\n",
        "    return True\n",
        "  else:\n",
        "    return False           \n",
        "  print(s.data)\n",
        "\n",
        "check_bracket(\"(h[{ello! I() }]am Aquib)\")      "
      ],
      "metadata": {
        "id": "fRVgepO19Zdj",
        "colab": {
          "base_uri": "https://localhost:8080/"
        },
        "outputId": "3c849a7f-ce3c-4f0f-c516-2b0210704bca"
      },
      "execution_count": null,
      "outputs": [
        {
          "output_type": "execute_result",
          "data": {
            "text/plain": [
              "True"
            ]
          },
          "metadata": {},
          "execution_count": 19
        }
      ]
    },
    {
      "cell_type": "markdown",
      "source": [
        "**Reverse the characters of a string using stack and prints the unicode of each character**\n",
        "\n",
        "ord(input char) -> returns the Unicode code of a character passed to it."
      ],
      "metadata": {
        "id": "s0QMRb8wiQ_y"
      }
    },
    {
      "cell_type": "code",
      "source": [
        "def print_reverse(input):\n",
        "  s = Stack()\n",
        "  for i in range(len(input)):\n",
        "    s.push(input[i])\n",
        "\n",
        "  for i in range(len(input)):\n",
        "    #print(f\"{s.peek()}: {ord(s.peek())}\")\n",
        "    print(s.peek(), \":\",ord(s.peek()))\n",
        "    s.pop()   \n",
        "\n",
        "print_reverse(\"Aquib\")  "
      ],
      "metadata": {
        "colab": {
          "base_uri": "https://localhost:8080/"
        },
        "id": "u6oj4xV5jTQt",
        "outputId": "926e2ff8-72f1-41ff-8ad7-4c55b2dbbd5f"
      },
      "execution_count": null,
      "outputs": [
        {
          "output_type": "stream",
          "name": "stdout",
          "text": [
            "b : 98\n",
            "i : 105\n",
            "u : 117\n",
            "q : 113\n",
            "A : 65\n"
          ]
        }
      ]
    },
    {
      "cell_type": "markdown",
      "source": [
        "Suppose, you have implemented your stack class. You have 5 functions: isempty(), push(), pop(), peek() and size(). Write a function named **‘remove_duplicates(input_string)’** using this stack class to remove all the adjacent (পাশাপাশি) duplicate characters from a given string. (4 marks)\n",
        "\tExample: remove_duplicates(“aabcbtt”) will return bcb."
      ],
      "metadata": {
        "id": "YAc23jS6aX4a"
      }
    },
    {
      "cell_type": "code",
      "source": [
        "def remove_duplicates(input_string):\n",
        "  s = Stack()\n",
        "  for x in input_string:\n",
        "    if not s.isempty() and s.data[-1] == x:\n",
        "      s.pop()\n",
        "    else:\n",
        "      s.push(x)\n",
        "  return s.data   \n",
        "\n",
        "remove_duplicates(\"aabcbtt\")      "
      ],
      "metadata": {
        "colab": {
          "base_uri": "https://localhost:8080/"
        },
        "id": "OzCL3lyIaWqI",
        "outputId": "9c040f95-7674-41e7-acc5-e058c68772f8"
      },
      "execution_count": null,
      "outputs": [
        {
          "output_type": "execute_result",
          "data": {
            "text/plain": [
              "['b', 'c', 'b']"
            ]
          },
          "metadata": {},
          "execution_count": 12
        }
      ]
    },
    {
      "cell_type": "code",
      "source": [
        "#alternative solution\n",
        "def remove_duplicates(input_string):\n",
        "  res = []\n",
        "  for c in input_string:\n",
        "    if res and res[-1] == c:\n",
        "      res.pop()\n",
        "    else:\n",
        "      res.append(c)\n",
        "  return \"\".join(res)\n",
        "\n",
        "remove_duplicates(\"aabcbtt\")"
      ],
      "metadata": {
        "colab": {
          "base_uri": "https://localhost:8080/",
          "height": 35
        },
        "id": "u2Zy4Vu1sjW3",
        "outputId": "a81ca88a-9da3-4e9f-db11-bfacaa92a36b"
      },
      "execution_count": null,
      "outputs": [
        {
          "output_type": "execute_result",
          "data": {
            "text/plain": [
              "'bcb'"
            ],
            "application/vnd.google.colaboratory.intrinsic+json": {
              "type": "string"
            }
          },
          "metadata": {},
          "execution_count": 2
        }
      ]
    },
    {
      "cell_type": "markdown",
      "source": [
        "Suppose, you have implemented your stack class. You have 5 functions: isempty(), push(), pop(), peek() and size(). Modify your pop function so that it can remove only the odd integers from the stack. We are assuming this stack has only integer elements.\n"
      ],
      "metadata": {
        "id": "9Vaiu8oUEz2d"
      }
    },
    {
      "cell_type": "code",
      "source": [
        "class Stack:\n",
        "    def __init__(self):\n",
        "        self.data = []\n",
        "        \n",
        "    def size(self):\n",
        "        return len(self.data)\n",
        "    \n",
        "    def isempty(self):\n",
        "      if self.size()==0:\n",
        "        return True\n",
        "      else: \n",
        "        return False  \n",
        "\n",
        "    def push(self, data):\n",
        "        self.data.append(data)\n",
        "\n",
        "    def pop(self):\n",
        "      if self.isempty():\n",
        "        print(\"Stack is empty\")\n",
        "      else:\n",
        "        self.data.pop()  \n",
        "\n",
        "    def peek(self):\n",
        "      if self.isempty():\n",
        "        print(\"Stack is empty\")\n",
        "      else:\n",
        "        return self.data[-1]\n",
        "\n",
        "    def pop_odd(self):\n",
        "      if self.isempty():\n",
        "        print(\"Stack is empty\")\n",
        "      else:\n",
        "        if self.peek()%2 != 0:\n",
        "          self.data.pop()  \n",
        "\n",
        "s = Stack()\n",
        "s.push(10)\n",
        "s.push(15)\n",
        "s.push(21)\n",
        "s.pop_odd()\n",
        "print(s.data)"
      ],
      "metadata": {
        "colab": {
          "base_uri": "https://localhost:8080/"
        },
        "id": "MioF5W8LFBl8",
        "outputId": "35611b0b-77f6-4f11-c2ba-54708f793bb1"
      },
      "execution_count": null,
      "outputs": [
        {
          "output_type": "stream",
          "name": "stdout",
          "text": [
            "[10, 15]\n"
          ]
        }
      ]
    },
    {
      "cell_type": "markdown",
      "source": [
        "**Media player using queue**"
      ],
      "metadata": {
        "id": "bdfJnXISz3ly"
      }
    },
    {
      "cell_type": "code",
      "source": [
        "from random import randint\n",
        "\n",
        "class Track:\n",
        "  minLength = 5\n",
        "  maxLength = 10\n",
        "  \n",
        "  def __init__(self, title):\n",
        "    self.title = title\n",
        "    self.length = randint(Track.minLength, Track.maxLength)"
      ],
      "metadata": {
        "id": "Tb6e-Zp00a7L"
      },
      "execution_count": null,
      "outputs": []
    },
    {
      "cell_type": "code",
      "source": [
        "# t1 = Track(\"Lemon Tree\")\n",
        "# t2 = Track(\"Happy\")\n",
        "# print(\"Title: {} Length: {}\".format(t1.title, t1.length))\n",
        "# print(\"Title: {} Length: {}\".format(t2.title, t2.length))"
      ],
      "metadata": {
        "colab": {
          "base_uri": "https://localhost:8080/"
        },
        "id": "j9cN9qgo0f9d",
        "outputId": "12a3d704-e7d4-4ba9-aae0-dd40d3dc0e0e"
      },
      "execution_count": null,
      "outputs": [
        {
          "output_type": "stream",
          "name": "stdout",
          "text": [
            "Title: Lemon Tree Length: 8563\n",
            "Title: Happy Length: 6621\n"
          ]
        }
      ]
    },
    {
      "cell_type": "code",
      "source": [
        "import time\n",
        "\n",
        "q = Queue()\n",
        "q.enqueue(Track(\"A\"))\n",
        "q.enqueue(Track(\"B\"))\n",
        "for x in q.data:\n",
        "  print(\"Song Title:\", x.title, \"Song Duration:\", x.length)\n",
        "\n",
        "def play():\n",
        "  while not q.isempty():\n",
        "    current_song = q.peek()\n",
        "    print(\"Playing ...\",current_song.title)\n",
        "    time.sleep(current_song.length)\n",
        "    q.dequeue()\n",
        "  print(\"All tracks finished.\")\n",
        "\n",
        "\n",
        "play()"
      ],
      "metadata": {
        "colab": {
          "base_uri": "https://localhost:8080/"
        },
        "id": "ZLxzeumR977Q",
        "outputId": "ca907e96-b747-4098-fd77-e0826e1b372f"
      },
      "execution_count": null,
      "outputs": [
        {
          "output_type": "stream",
          "name": "stdout",
          "text": [
            "Song Title: A Song Duration: 5\n",
            "Song Title: B Song Duration: 8\n",
            "Playing {}... A\n",
            "Playing {}... B\n",
            "All tracks finished.\n"
          ]
        }
      ]
    },
    {
      "cell_type": "markdown",
      "source": [
        "# Linked list related problems"
      ],
      "metadata": {
        "id": "pJQHNQ73ZZaD"
      }
    },
    {
      "cell_type": "code",
      "source": [
        "class Node:\n",
        "  def __init__(self, data):\n",
        "    self.data = data\n",
        "    self.next = None\n",
        "    \n",
        "class SinglyLinkedList:\n",
        "  def __init__(self):\n",
        "    self.head = None\n",
        "    self.size = 0\n",
        "    \n",
        "  # Append data to the end of the linked list; naive approach\n",
        "  def append(self, new_data):\n",
        "    new_node = Node(new_data)\n",
        "    if self.head is None:\n",
        "      self.head = new_node\n",
        "    else:\n",
        "      current_node = self.head\n",
        "      while current_node.next is not None:\n",
        "        current_node = current_node.next\n",
        "      current_node.next = new_node\n",
        "    self.size += 1   \n",
        "\n",
        "  def append_left(self, new_data):\n",
        "    new_node = Node(new_data)\n",
        "    if self.head is None:\n",
        "      self.head = new_node\n",
        "    else:\n",
        "      new_node.next = self.head\n",
        "      self.head = new_node\n",
        "    self.size += 1  \n",
        "\n",
        "  def pop_left(self):\n",
        "    if self.size==0:\n",
        "      print(\"List is empty\")\n",
        "    else:\n",
        "      self.size -= 1\n",
        "      self.head = self.head.next\n",
        "      \n",
        "  def pop(self):\n",
        "    if self.size==0:\n",
        "      print(\"List is empty\")\n",
        "    else:\n",
        "      self.size -= 1\n",
        "      current_node = self.head\n",
        "      if self.head.next==None:\n",
        "        self.head = self.head.next\n",
        "      else:\n",
        "        while current_node.next is not None:\n",
        "          if current_node.next.next is None:\n",
        "            current_node.next = current_node.next.next\n",
        "          else:\n",
        "            current_node = current_node.next  \n",
        "\n",
        "  # Delete the first/all appearance of data from the list \n",
        "  def delete(self, value_to_be_deleted):\n",
        "    if self.size==0:\n",
        "      print(\"List is empty\")\n",
        "    else: \n",
        "      current_node = self.head\n",
        "      if current_node.data == value_to_be_deleted:\n",
        "        self.size -= 1 \n",
        "        self.head = self.head.next\n",
        "      else:\n",
        "        while current_node.next is not None:\n",
        "          if current_node.next.data == value_to_be_deleted:\n",
        "            self.size -= 1 \n",
        "            current_node.next = current_node.next.next\n",
        "            return #for removing the first element\n",
        "          else:\n",
        "            current_node = current_node.next  \n",
        "\n",
        "\n",
        "  def print_all(self):\n",
        "    current_node = self.head\n",
        "    while current_node:\n",
        "      print(current_node.data)\n",
        "      current_node = current_node.next\n",
        "\n",
        "  def search(self, data):\n",
        "    current_node = self.head\n",
        "    while current_node is not None:\n",
        "      if current_node.data == data:\n",
        "        return True  \n",
        "      current_node = current_node.next\n",
        "    return False\n",
        "\n",
        "  def clear(self):\n",
        "    self.head = None"
      ],
      "metadata": {
        "id": "arZu8UZHcLSF"
      },
      "execution_count": null,
      "outputs": []
    },
    {
      "cell_type": "markdown",
      "source": [
        "1. ** Print all nodes except alternate nodes of a Linked List**: For example, if the given linked list is 1->2->3->4->5 then your function should print  1->3->5, and if the given linked list is 1->2->3->4 then print 1->3.\n",
        "https://www.geeksforgeeks.org/delete-alternate-nodes-of-a-linked-list/\n",
        "\n",
        "2. **Identical linked list**: Two Linked Lists are identical when they have the same data and the arrangement of data is also the same. For example, Linked lists a (1->2->3) and b(1->2->3) are identical. . Write a function to check if the given two linked lists are identical. \n",
        "https://www.geeksforgeeks.org/identical-linked-lists/\n",
        "\n",
        "3. Find the **sum of all the nodes** of a singly linked list \n",
        "\n",
        "4. Write a function with the following template:\n",
        "numOfOccurrences(linked_list, target_value)\n",
        "The function will return the number of times a target_value occurred in a given linked list.\n",
        "\n",
        "5. Write a function countEven(linked_list):\n",
        "The function will return the number of even numbers in a given list.\n",
        "\n",
        "6. Write a function which takes two sorted linked list and returns another sorted linked list.\n",
        "\n",
        "7. Write a function that will Remove all the even numbers from a given linked list"
      ],
      "metadata": {
        "id": "aIwm4OXuZc95"
      }
    },
    {
      "cell_type": "code",
      "source": [
        ""
      ],
      "metadata": {
        "id": "-QmNhSMBZ4eM"
      },
      "execution_count": null,
      "outputs": []
    },
    {
      "cell_type": "markdown",
      "source": [
        "Find the **sum of all the nodes** of a singly linked list "
      ],
      "metadata": {
        "id": "ScqYZzBTT1YT"
      }
    },
    {
      "cell_type": "code",
      "source": [
        "s = SinglyLinkedList()\n",
        "s.append(10)\n",
        "s.append(40)\n",
        "s.append(30)\n",
        "\n",
        "def calculate_sum(s_object):\n",
        "  if s_object.size!=0:\n",
        "    sum = 0\n",
        "    current_node = s_object.head\n",
        "    while current_node is not None:\n",
        "      sum+=current_node.data\n",
        "      current_node = current_node.next\n",
        "    return sum  \n",
        "\n",
        "calculate_sum(s) "
      ],
      "metadata": {
        "id": "Se_2EyRTZaVz",
        "colab": {
          "base_uri": "https://localhost:8080/"
        },
        "outputId": "9a44cf64-32cd-44d4-8735-613a59d87586"
      },
      "execution_count": null,
      "outputs": [
        {
          "output_type": "execute_result",
          "data": {
            "text/plain": [
              "80"
            ]
          },
          "metadata": {},
          "execution_count": 3
        }
      ]
    },
    {
      "cell_type": "markdown",
      "source": [
        "**Identical linked list**: Two Linked Lists are identical when they have the same data and the arrangement of data is also the same. For example, Linked lists a (1->2->3) and b(1->2->3) are identical. . Write a function to check if the given two linked lists are identical. \n",
        "https://www.geeksforgeeks.org/identical-linked-lists/"
      ],
      "metadata": {
        "id": "DUKKt680f_Tl"
      }
    },
    {
      "cell_type": "code",
      "source": [
        "s1 = SinglyLinkedList()\n",
        "s1.append(10)\n",
        "s1.append(40)\n",
        "s1.append(30)\n",
        "s2 = SinglyLinkedList()\n",
        "s2.append(10)\n",
        "s2.append(80)\n",
        "s2.append(30)\n",
        "\n",
        "def is_identical(list1, list2):\n",
        "  identical = True\n",
        "  if list1.size!=list2.size:\n",
        "    return False\n",
        "  else:   \n",
        "    if list1.size!=0 and list2.size!=0:\n",
        "      current_node1 = list1.head\n",
        "      current_node2 = list2.head\n",
        "\n",
        "      while current_node1 is not None:\n",
        "        if current_node1.data == current_node2.data:\n",
        "          identical = True\n",
        "        else:\n",
        "          identical = False\n",
        "          return identical\n",
        "        current_node1 = current_node1.next\n",
        "        current_node2 = current_node2.next\n",
        "\n",
        "  return identical        \n",
        "is_identical(s1,s2)"
      ],
      "metadata": {
        "colab": {
          "base_uri": "https://localhost:8080/"
        },
        "id": "htyihD1UW1FW",
        "outputId": "6cdf7d2b-6c3c-4b24-aa92-c39f427839eb"
      },
      "execution_count": null,
      "outputs": [
        {
          "output_type": "execute_result",
          "data": {
            "text/plain": [
              "False"
            ]
          },
          "metadata": {},
          "execution_count": 4
        }
      ]
    },
    {
      "cell_type": "markdown",
      "source": [
        "** Print all nodes except alternate nodes of a Linked List**: For example, if the given linked list is 1->2->3->4->5 then your function should print  1->3->5, and if the given linked list is 1->2->3->4 then print 1->3.\n",
        "\n",
        "https://www.geeksforgeeks.org/delete-alternate-nodes-of-a-linked-list/"
      ],
      "metadata": {
        "id": "qqeuR-2FmJYd"
      }
    },
    {
      "cell_type": "code",
      "source": [
        "s = SinglyLinkedList()\n",
        "s.append(10)\n",
        "s.append(20)\n",
        "s.append(30)\n",
        "s.append(40)\n",
        "s.append(50)\n",
        "\n",
        "def print_all_except_alt(s_object):\n",
        "  current_node = s_object.head\n",
        "  counter = 0\n",
        "  if current_node is None:\n",
        "    return\n",
        "  while current_node is not None:\n",
        "    if counter%2==0:\n",
        "      print(current_node.data)\n",
        "    counter+=1\n",
        "    current_node = current_node.next\n",
        "\n",
        "print_all_except_alt(s)  "
      ],
      "metadata": {
        "colab": {
          "base_uri": "https://localhost:8080/"
        },
        "id": "dhfJGO2-mTeQ",
        "outputId": "625b8388-b31a-4a51-cf59-94af427193ad"
      },
      "execution_count": null,
      "outputs": [
        {
          "output_type": "stream",
          "name": "stdout",
          "text": [
            "10\n",
            "30\n",
            "50\n"
          ]
        }
      ]
    },
    {
      "cell_type": "markdown",
      "source": [
        "Another way to implement stack (without class). Also size of the stack is considered here. Have a look."
      ],
      "metadata": {
        "id": "RHelWJkcAlcD"
      }
    },
    {
      "cell_type": "code",
      "source": [
        "def push(stack, val, size):\n",
        "  if isfull(stack, size):\n",
        "    print(\"stack is full\")\n",
        "    return stack\n",
        "  else:\n",
        "    stack.append(val)\n",
        "    return stack\n",
        "def stack_pop(stack, size):\n",
        "  if isempty(stack):\n",
        "    return\n",
        "  else:\n",
        "    return stack.pop()\n",
        "def isfull(stack, size):\n",
        "  return len(stack) >= size\n",
        "def isempty(stack):\n",
        "  return len(stack) == 0\n",
        "\n",
        "S1= [10,3,88,8,99,17,20,20] #this is the stack"
      ],
      "metadata": {
        "id": "D-2OAXFNAu4s"
      },
      "execution_count": null,
      "outputs": []
    }
  ]
}